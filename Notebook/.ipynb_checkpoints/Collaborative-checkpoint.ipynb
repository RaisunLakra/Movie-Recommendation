{
 "cells": [
  {
   "cell_type": "code",
   "execution_count": 152,
   "id": "eb8ba6eb-aa91-47d8-8714-8eba57dc8ee8",
   "metadata": {},
   "outputs": [],
   "source": [
    "import pandas as pd\n",
    "import numpy as np\n",
    "import tensorflow as tf\n",
    "import tensorflow_recommenders as tfrs\n",
    "from sklearn.model_selection import train_test_split\n",
    "import json\n",
    "import matplotlib.pyplot as plt\n",
    "import seaborn as sns"
   ]
  },
  {
   "cell_type": "code",
   "execution_count": 2,
   "id": "63ee142a-fef5-47d7-8560-49bccc93b3ba",
   "metadata": {},
   "outputs": [],
   "source": [
    "ratings = pd.read_csv('../backend/datasets/ratings.csv')\n",
    "keywords_data = pd.read_csv('../backend/datasets/keywords.csv', delimiter=',')"
   ]
  },
  {
   "cell_type": "code",
   "execution_count": 3,
   "id": "1fb19faf-f3e5-4e14-b9d3-a0ee8e603e23",
   "metadata": {},
   "outputs": [
    {
     "data": {
      "text/html": [
       "<div>\n",
       "<style scoped>\n",
       "    .dataframe tbody tr th:only-of-type {\n",
       "        vertical-align: middle;\n",
       "    }\n",
       "\n",
       "    .dataframe tbody tr th {\n",
       "        vertical-align: top;\n",
       "    }\n",
       "\n",
       "    .dataframe thead th {\n",
       "        text-align: right;\n",
       "    }\n",
       "</style>\n",
       "<table border=\"1\" class=\"dataframe\">\n",
       "  <thead>\n",
       "    <tr style=\"text-align: right;\">\n",
       "      <th></th>\n",
       "      <th>userId</th>\n",
       "      <th>movieId</th>\n",
       "      <th>rating</th>\n",
       "      <th>timestamp</th>\n",
       "    </tr>\n",
       "  </thead>\n",
       "  <tbody>\n",
       "    <tr>\n",
       "      <th>0</th>\n",
       "      <td>1</td>\n",
       "      <td>110</td>\n",
       "      <td>1.0</td>\n",
       "      <td>1425941529</td>\n",
       "    </tr>\n",
       "    <tr>\n",
       "      <th>1</th>\n",
       "      <td>1</td>\n",
       "      <td>147</td>\n",
       "      <td>4.5</td>\n",
       "      <td>1425942435</td>\n",
       "    </tr>\n",
       "    <tr>\n",
       "      <th>2</th>\n",
       "      <td>1</td>\n",
       "      <td>858</td>\n",
       "      <td>5.0</td>\n",
       "      <td>1425941523</td>\n",
       "    </tr>\n",
       "    <tr>\n",
       "      <th>3</th>\n",
       "      <td>1</td>\n",
       "      <td>1221</td>\n",
       "      <td>5.0</td>\n",
       "      <td>1425941546</td>\n",
       "    </tr>\n",
       "    <tr>\n",
       "      <th>4</th>\n",
       "      <td>1</td>\n",
       "      <td>1246</td>\n",
       "      <td>5.0</td>\n",
       "      <td>1425941556</td>\n",
       "    </tr>\n",
       "  </tbody>\n",
       "</table>\n",
       "</div>"
      ],
      "text/plain": [
       "   userId  movieId  rating   timestamp\n",
       "0       1      110     1.0  1425941529\n",
       "1       1      147     4.5  1425942435\n",
       "2       1      858     5.0  1425941523\n",
       "3       1     1221     5.0  1425941546\n",
       "4       1     1246     5.0  1425941556"
      ]
     },
     "execution_count": 3,
     "metadata": {},
     "output_type": "execute_result"
    }
   ],
   "source": [
    "ratings.head()"
   ]
  },
  {
   "cell_type": "code",
   "execution_count": 4,
   "id": "982496e2-4c3d-4dfd-96e9-3186910cf98c",
   "metadata": {},
   "outputs": [
    {
     "data": {
      "text/html": [
       "<div>\n",
       "<style scoped>\n",
       "    .dataframe tbody tr th:only-of-type {\n",
       "        vertical-align: middle;\n",
       "    }\n",
       "\n",
       "    .dataframe tbody tr th {\n",
       "        vertical-align: top;\n",
       "    }\n",
       "\n",
       "    .dataframe thead th {\n",
       "        text-align: right;\n",
       "    }\n",
       "</style>\n",
       "<table border=\"1\" class=\"dataframe\">\n",
       "  <thead>\n",
       "    <tr style=\"text-align: right;\">\n",
       "      <th></th>\n",
       "      <th>id</th>\n",
       "      <th>keywords</th>\n",
       "    </tr>\n",
       "  </thead>\n",
       "  <tbody>\n",
       "    <tr>\n",
       "      <th>0</th>\n",
       "      <td>862</td>\n",
       "      <td>[{'id': 931, 'name': 'jealousy'}, {'id': 4290,...</td>\n",
       "    </tr>\n",
       "    <tr>\n",
       "      <th>1</th>\n",
       "      <td>8844</td>\n",
       "      <td>[{'id': 10090, 'name': 'board game'}, {'id': 1...</td>\n",
       "    </tr>\n",
       "    <tr>\n",
       "      <th>2</th>\n",
       "      <td>15602</td>\n",
       "      <td>[{'id': 1495, 'name': 'fishing'}, {'id': 12392...</td>\n",
       "    </tr>\n",
       "    <tr>\n",
       "      <th>3</th>\n",
       "      <td>31357</td>\n",
       "      <td>[{'id': 818, 'name': 'based on novel'}, {'id':...</td>\n",
       "    </tr>\n",
       "    <tr>\n",
       "      <th>4</th>\n",
       "      <td>11862</td>\n",
       "      <td>[{'id': 1009, 'name': 'baby'}, {'id': 1599, 'n...</td>\n",
       "    </tr>\n",
       "  </tbody>\n",
       "</table>\n",
       "</div>"
      ],
      "text/plain": [
       "      id                                           keywords\n",
       "0    862  [{'id': 931, 'name': 'jealousy'}, {'id': 4290,...\n",
       "1   8844  [{'id': 10090, 'name': 'board game'}, {'id': 1...\n",
       "2  15602  [{'id': 1495, 'name': 'fishing'}, {'id': 12392...\n",
       "3  31357  [{'id': 818, 'name': 'based on novel'}, {'id':...\n",
       "4  11862  [{'id': 1009, 'name': 'baby'}, {'id': 1599, 'n..."
      ]
     },
     "execution_count": 4,
     "metadata": {},
     "output_type": "execute_result"
    }
   ],
   "source": [
    "keywords_data.head()"
   ]
  },
  {
   "cell_type": "code",
   "execution_count": 5,
   "id": "aad75bbb-c708-40c6-b19a-ee2814f8a9e9",
   "metadata": {},
   "outputs": [
    {
     "data": {
      "text/html": [
       "<div>\n",
       "<style scoped>\n",
       "    .dataframe tbody tr th:only-of-type {\n",
       "        vertical-align: middle;\n",
       "    }\n",
       "\n",
       "    .dataframe tbody tr th {\n",
       "        vertical-align: top;\n",
       "    }\n",
       "\n",
       "    .dataframe thead th {\n",
       "        text-align: right;\n",
       "    }\n",
       "</style>\n",
       "<table border=\"1\" class=\"dataframe\">\n",
       "  <thead>\n",
       "    <tr style=\"text-align: right;\">\n",
       "      <th></th>\n",
       "      <th>userId</th>\n",
       "      <th>movieId</th>\n",
       "      <th>rating</th>\n",
       "      <th>timestamp</th>\n",
       "    </tr>\n",
       "  </thead>\n",
       "  <tbody>\n",
       "    <tr>\n",
       "      <th>count</th>\n",
       "      <td>2.602429e+07</td>\n",
       "      <td>2.602429e+07</td>\n",
       "      <td>2.602429e+07</td>\n",
       "      <td>2.602429e+07</td>\n",
       "    </tr>\n",
       "    <tr>\n",
       "      <th>mean</th>\n",
       "      <td>1.350371e+05</td>\n",
       "      <td>1.584911e+04</td>\n",
       "      <td>3.528090e+00</td>\n",
       "      <td>1.171258e+09</td>\n",
       "    </tr>\n",
       "    <tr>\n",
       "      <th>std</th>\n",
       "      <td>7.817620e+04</td>\n",
       "      <td>3.108526e+04</td>\n",
       "      <td>1.065443e+00</td>\n",
       "      <td>2.052889e+08</td>\n",
       "    </tr>\n",
       "    <tr>\n",
       "      <th>min</th>\n",
       "      <td>1.000000e+00</td>\n",
       "      <td>1.000000e+00</td>\n",
       "      <td>5.000000e-01</td>\n",
       "      <td>7.896520e+08</td>\n",
       "    </tr>\n",
       "    <tr>\n",
       "      <th>25%</th>\n",
       "      <td>6.716400e+04</td>\n",
       "      <td>1.073000e+03</td>\n",
       "      <td>3.000000e+00</td>\n",
       "      <td>9.907545e+08</td>\n",
       "    </tr>\n",
       "    <tr>\n",
       "      <th>50%</th>\n",
       "      <td>1.351630e+05</td>\n",
       "      <td>2.583000e+03</td>\n",
       "      <td>3.500000e+00</td>\n",
       "      <td>1.151716e+09</td>\n",
       "    </tr>\n",
       "    <tr>\n",
       "      <th>75%</th>\n",
       "      <td>2.026930e+05</td>\n",
       "      <td>6.503000e+03</td>\n",
       "      <td>4.000000e+00</td>\n",
       "      <td>1.357578e+09</td>\n",
       "    </tr>\n",
       "    <tr>\n",
       "      <th>max</th>\n",
       "      <td>2.708960e+05</td>\n",
       "      <td>1.762750e+05</td>\n",
       "      <td>5.000000e+00</td>\n",
       "      <td>1.501830e+09</td>\n",
       "    </tr>\n",
       "  </tbody>\n",
       "</table>\n",
       "</div>"
      ],
      "text/plain": [
       "             userId       movieId        rating     timestamp\n",
       "count  2.602429e+07  2.602429e+07  2.602429e+07  2.602429e+07\n",
       "mean   1.350371e+05  1.584911e+04  3.528090e+00  1.171258e+09\n",
       "std    7.817620e+04  3.108526e+04  1.065443e+00  2.052889e+08\n",
       "min    1.000000e+00  1.000000e+00  5.000000e-01  7.896520e+08\n",
       "25%    6.716400e+04  1.073000e+03  3.000000e+00  9.907545e+08\n",
       "50%    1.351630e+05  2.583000e+03  3.500000e+00  1.151716e+09\n",
       "75%    2.026930e+05  6.503000e+03  4.000000e+00  1.357578e+09\n",
       "max    2.708960e+05  1.762750e+05  5.000000e+00  1.501830e+09"
      ]
     },
     "execution_count": 5,
     "metadata": {},
     "output_type": "execute_result"
    }
   ],
   "source": [
    "ratings.describe()"
   ]
  },
  {
   "cell_type": "code",
   "execution_count": 6,
   "id": "bb30ef07-57dd-4148-85a6-d719f582f4ee",
   "metadata": {},
   "outputs": [
    {
     "data": {
      "text/html": [
       "<div>\n",
       "<style scoped>\n",
       "    .dataframe tbody tr th:only-of-type {\n",
       "        vertical-align: middle;\n",
       "    }\n",
       "\n",
       "    .dataframe tbody tr th {\n",
       "        vertical-align: top;\n",
       "    }\n",
       "\n",
       "    .dataframe thead th {\n",
       "        text-align: right;\n",
       "    }\n",
       "</style>\n",
       "<table border=\"1\" class=\"dataframe\">\n",
       "  <thead>\n",
       "    <tr style=\"text-align: right;\">\n",
       "      <th></th>\n",
       "      <th>id</th>\n",
       "    </tr>\n",
       "  </thead>\n",
       "  <tbody>\n",
       "    <tr>\n",
       "      <th>count</th>\n",
       "      <td>46419.000000</td>\n",
       "    </tr>\n",
       "    <tr>\n",
       "      <th>mean</th>\n",
       "      <td>109769.951873</td>\n",
       "    </tr>\n",
       "    <tr>\n",
       "      <th>std</th>\n",
       "      <td>113045.780256</td>\n",
       "    </tr>\n",
       "    <tr>\n",
       "      <th>min</th>\n",
       "      <td>2.000000</td>\n",
       "    </tr>\n",
       "    <tr>\n",
       "      <th>25%</th>\n",
       "      <td>26810.500000</td>\n",
       "    </tr>\n",
       "    <tr>\n",
       "      <th>50%</th>\n",
       "      <td>61198.000000</td>\n",
       "    </tr>\n",
       "    <tr>\n",
       "      <th>75%</th>\n",
       "      <td>159908.500000</td>\n",
       "    </tr>\n",
       "    <tr>\n",
       "      <th>max</th>\n",
       "      <td>469172.000000</td>\n",
       "    </tr>\n",
       "  </tbody>\n",
       "</table>\n",
       "</div>"
      ],
      "text/plain": [
       "                  id\n",
       "count   46419.000000\n",
       "mean   109769.951873\n",
       "std    113045.780256\n",
       "min         2.000000\n",
       "25%     26810.500000\n",
       "50%     61198.000000\n",
       "75%    159908.500000\n",
       "max    469172.000000"
      ]
     },
     "execution_count": 6,
     "metadata": {},
     "output_type": "execute_result"
    }
   ],
   "source": [
    "keywords_data.describe()"
   ]
  },
  {
   "cell_type": "code",
   "execution_count": 7,
   "id": "8554ba30-ab1b-4bbd-8c3f-4dcc226e9121",
   "metadata": {},
   "outputs": [
    {
     "data": {
      "text/plain": [
       "userId       0\n",
       "movieId      0\n",
       "rating       0\n",
       "timestamp    0\n",
       "dtype: int64"
      ]
     },
     "execution_count": 7,
     "metadata": {},
     "output_type": "execute_result"
    }
   ],
   "source": [
    "ratings.isnull().sum()"
   ]
  },
  {
   "cell_type": "code",
   "execution_count": 8,
   "id": "8207b1fa-881c-4295-83a0-b20d4f17ea48",
   "metadata": {},
   "outputs": [
    {
     "data": {
      "text/plain": [
       "id          0\n",
       "keywords    0\n",
       "dtype: int64"
      ]
     },
     "execution_count": 8,
     "metadata": {},
     "output_type": "execute_result"
    }
   ],
   "source": [
    "keywords_data.isnull().sum()"
   ]
  },
  {
   "cell_type": "markdown",
   "id": "242f29ea-8798-49c6-850e-cdc2ac4664a3",
   "metadata": {},
   "source": [
    "## DATA PREPROCESSING"
   ]
  },
  {
   "cell_type": "code",
   "execution_count": 9,
   "id": "ca6472fb-35ae-4880-b09c-d38c6fba4c7f",
   "metadata": {},
   "outputs": [],
   "source": [
    "ratings = ratings.drop_duplicates()"
   ]
  },
  {
   "cell_type": "code",
   "execution_count": 10,
   "id": "79e80601-540b-4718-aacc-75b8a5a82893",
   "metadata": {},
   "outputs": [
    {
     "data": {
      "text/html": [
       "<div>\n",
       "<style scoped>\n",
       "    .dataframe tbody tr th:only-of-type {\n",
       "        vertical-align: middle;\n",
       "    }\n",
       "\n",
       "    .dataframe tbody tr th {\n",
       "        vertical-align: top;\n",
       "    }\n",
       "\n",
       "    .dataframe thead th {\n",
       "        text-align: right;\n",
       "    }\n",
       "</style>\n",
       "<table border=\"1\" class=\"dataframe\">\n",
       "  <thead>\n",
       "    <tr style=\"text-align: right;\">\n",
       "      <th></th>\n",
       "      <th>userId</th>\n",
       "      <th>movieId</th>\n",
       "      <th>rating</th>\n",
       "      <th>timestamp</th>\n",
       "    </tr>\n",
       "  </thead>\n",
       "  <tbody>\n",
       "    <tr>\n",
       "      <th>0</th>\n",
       "      <td>1</td>\n",
       "      <td>110</td>\n",
       "      <td>1.0</td>\n",
       "      <td>1425941529</td>\n",
       "    </tr>\n",
       "    <tr>\n",
       "      <th>1</th>\n",
       "      <td>1</td>\n",
       "      <td>147</td>\n",
       "      <td>4.5</td>\n",
       "      <td>1425942435</td>\n",
       "    </tr>\n",
       "    <tr>\n",
       "      <th>2</th>\n",
       "      <td>1</td>\n",
       "      <td>858</td>\n",
       "      <td>5.0</td>\n",
       "      <td>1425941523</td>\n",
       "    </tr>\n",
       "    <tr>\n",
       "      <th>3</th>\n",
       "      <td>1</td>\n",
       "      <td>1221</td>\n",
       "      <td>5.0</td>\n",
       "      <td>1425941546</td>\n",
       "    </tr>\n",
       "    <tr>\n",
       "      <th>4</th>\n",
       "      <td>1</td>\n",
       "      <td>1246</td>\n",
       "      <td>5.0</td>\n",
       "      <td>1425941556</td>\n",
       "    </tr>\n",
       "    <tr>\n",
       "      <th>...</th>\n",
       "      <td>...</td>\n",
       "      <td>...</td>\n",
       "      <td>...</td>\n",
       "      <td>...</td>\n",
       "    </tr>\n",
       "    <tr>\n",
       "      <th>26024284</th>\n",
       "      <td>270896</td>\n",
       "      <td>58559</td>\n",
       "      <td>5.0</td>\n",
       "      <td>1257031564</td>\n",
       "    </tr>\n",
       "    <tr>\n",
       "      <th>26024285</th>\n",
       "      <td>270896</td>\n",
       "      <td>60069</td>\n",
       "      <td>5.0</td>\n",
       "      <td>1257032032</td>\n",
       "    </tr>\n",
       "    <tr>\n",
       "      <th>26024286</th>\n",
       "      <td>270896</td>\n",
       "      <td>63082</td>\n",
       "      <td>4.5</td>\n",
       "      <td>1257031764</td>\n",
       "    </tr>\n",
       "    <tr>\n",
       "      <th>26024287</th>\n",
       "      <td>270896</td>\n",
       "      <td>64957</td>\n",
       "      <td>4.5</td>\n",
       "      <td>1257033990</td>\n",
       "    </tr>\n",
       "    <tr>\n",
       "      <th>26024288</th>\n",
       "      <td>270896</td>\n",
       "      <td>71878</td>\n",
       "      <td>2.0</td>\n",
       "      <td>1257031858</td>\n",
       "    </tr>\n",
       "  </tbody>\n",
       "</table>\n",
       "<p>26024289 rows × 4 columns</p>\n",
       "</div>"
      ],
      "text/plain": [
       "          userId  movieId  rating   timestamp\n",
       "0              1      110     1.0  1425941529\n",
       "1              1      147     4.5  1425942435\n",
       "2              1      858     5.0  1425941523\n",
       "3              1     1221     5.0  1425941546\n",
       "4              1     1246     5.0  1425941556\n",
       "...          ...      ...     ...         ...\n",
       "26024284  270896    58559     5.0  1257031564\n",
       "26024285  270896    60069     5.0  1257032032\n",
       "26024286  270896    63082     4.5  1257031764\n",
       "26024287  270896    64957     4.5  1257033990\n",
       "26024288  270896    71878     2.0  1257031858\n",
       "\n",
       "[26024289 rows x 4 columns]"
      ]
     },
     "execution_count": 10,
     "metadata": {},
     "output_type": "execute_result"
    }
   ],
   "source": [
    "ratings"
   ]
  },
  {
   "cell_type": "code",
   "execution_count": 11,
   "id": "451c53c5-f154-4ebe-9bdc-72d6eb3a658a",
   "metadata": {},
   "outputs": [
    {
     "name": "stdout",
     "output_type": "stream",
     "text": [
      "(46419, 2)\n",
      "(45432, 2)\n"
     ]
    }
   ],
   "source": [
    "print(keywords_data.shape)\n",
    "keywords_data = keywords_data.drop_duplicates(subset=['id'])\n",
    "print(keywords_data.shape)"
   ]
  },
  {
   "cell_type": "code",
   "execution_count": 12,
   "id": "2f5356d4-9ed7-42d5-8e90-4030d249180e",
   "metadata": {},
   "outputs": [
    {
     "data": {
      "text/html": [
       "<div>\n",
       "<style scoped>\n",
       "    .dataframe tbody tr th:only-of-type {\n",
       "        vertical-align: middle;\n",
       "    }\n",
       "\n",
       "    .dataframe tbody tr th {\n",
       "        vertical-align: top;\n",
       "    }\n",
       "\n",
       "    .dataframe thead th {\n",
       "        text-align: right;\n",
       "    }\n",
       "</style>\n",
       "<table border=\"1\" class=\"dataframe\">\n",
       "  <thead>\n",
       "    <tr style=\"text-align: right;\">\n",
       "      <th></th>\n",
       "      <th>id</th>\n",
       "      <th>keywords</th>\n",
       "    </tr>\n",
       "  </thead>\n",
       "  <tbody>\n",
       "    <tr>\n",
       "      <th>0</th>\n",
       "      <td>862</td>\n",
       "      <td>[{'id': 931, 'name': 'jealousy'}, {'id': 4290,...</td>\n",
       "    </tr>\n",
       "    <tr>\n",
       "      <th>1</th>\n",
       "      <td>8844</td>\n",
       "      <td>[{'id': 10090, 'name': 'board game'}, {'id': 1...</td>\n",
       "    </tr>\n",
       "    <tr>\n",
       "      <th>2</th>\n",
       "      <td>15602</td>\n",
       "      <td>[{'id': 1495, 'name': 'fishing'}, {'id': 12392...</td>\n",
       "    </tr>\n",
       "    <tr>\n",
       "      <th>3</th>\n",
       "      <td>31357</td>\n",
       "      <td>[{'id': 818, 'name': 'based on novel'}, {'id':...</td>\n",
       "    </tr>\n",
       "    <tr>\n",
       "      <th>4</th>\n",
       "      <td>11862</td>\n",
       "      <td>[{'id': 1009, 'name': 'baby'}, {'id': 1599, 'n...</td>\n",
       "    </tr>\n",
       "    <tr>\n",
       "      <th>...</th>\n",
       "      <td>...</td>\n",
       "      <td>...</td>\n",
       "    </tr>\n",
       "    <tr>\n",
       "      <th>46414</th>\n",
       "      <td>439050</td>\n",
       "      <td>[{'id': 10703, 'name': 'tragic love'}]</td>\n",
       "    </tr>\n",
       "    <tr>\n",
       "      <th>46415</th>\n",
       "      <td>111109</td>\n",
       "      <td>[{'id': 2679, 'name': 'artist'}, {'id': 14531,...</td>\n",
       "    </tr>\n",
       "    <tr>\n",
       "      <th>46416</th>\n",
       "      <td>67758</td>\n",
       "      <td>[]</td>\n",
       "    </tr>\n",
       "    <tr>\n",
       "      <th>46417</th>\n",
       "      <td>227506</td>\n",
       "      <td>[]</td>\n",
       "    </tr>\n",
       "    <tr>\n",
       "      <th>46418</th>\n",
       "      <td>461257</td>\n",
       "      <td>[]</td>\n",
       "    </tr>\n",
       "  </tbody>\n",
       "</table>\n",
       "<p>45432 rows × 2 columns</p>\n",
       "</div>"
      ],
      "text/plain": [
       "           id                                           keywords\n",
       "0         862  [{'id': 931, 'name': 'jealousy'}, {'id': 4290,...\n",
       "1        8844  [{'id': 10090, 'name': 'board game'}, {'id': 1...\n",
       "2       15602  [{'id': 1495, 'name': 'fishing'}, {'id': 12392...\n",
       "3       31357  [{'id': 818, 'name': 'based on novel'}, {'id':...\n",
       "4       11862  [{'id': 1009, 'name': 'baby'}, {'id': 1599, 'n...\n",
       "...       ...                                                ...\n",
       "46414  439050             [{'id': 10703, 'name': 'tragic love'}]\n",
       "46415  111109  [{'id': 2679, 'name': 'artist'}, {'id': 14531,...\n",
       "46416   67758                                                 []\n",
       "46417  227506                                                 []\n",
       "46418  461257                                                 []\n",
       "\n",
       "[45432 rows x 2 columns]"
      ]
     },
     "execution_count": 12,
     "metadata": {},
     "output_type": "execute_result"
    }
   ],
   "source": [
    "keywords_data"
   ]
  },
  {
   "cell_type": "code",
   "execution_count": 13,
   "id": "868b57a9-fa14-40be-ac65-af35d27b3ee9",
   "metadata": {},
   "outputs": [],
   "source": [
    "keywords_data.reset_index(drop=True, inplace=True)"
   ]
  },
  {
   "cell_type": "code",
   "execution_count": 14,
   "id": "adefd349-064d-4a56-b730-f87e73000a2b",
   "metadata": {},
   "outputs": [
    {
     "data": {
      "text/html": [
       "<div>\n",
       "<style scoped>\n",
       "    .dataframe tbody tr th:only-of-type {\n",
       "        vertical-align: middle;\n",
       "    }\n",
       "\n",
       "    .dataframe tbody tr th {\n",
       "        vertical-align: top;\n",
       "    }\n",
       "\n",
       "    .dataframe thead th {\n",
       "        text-align: right;\n",
       "    }\n",
       "</style>\n",
       "<table border=\"1\" class=\"dataframe\">\n",
       "  <thead>\n",
       "    <tr style=\"text-align: right;\">\n",
       "      <th></th>\n",
       "      <th>id</th>\n",
       "      <th>keywords</th>\n",
       "    </tr>\n",
       "  </thead>\n",
       "  <tbody>\n",
       "    <tr>\n",
       "      <th>0</th>\n",
       "      <td>862</td>\n",
       "      <td>[{'id': 931, 'name': 'jealousy'}, {'id': 4290,...</td>\n",
       "    </tr>\n",
       "    <tr>\n",
       "      <th>1</th>\n",
       "      <td>8844</td>\n",
       "      <td>[{'id': 10090, 'name': 'board game'}, {'id': 1...</td>\n",
       "    </tr>\n",
       "    <tr>\n",
       "      <th>2</th>\n",
       "      <td>15602</td>\n",
       "      <td>[{'id': 1495, 'name': 'fishing'}, {'id': 12392...</td>\n",
       "    </tr>\n",
       "    <tr>\n",
       "      <th>3</th>\n",
       "      <td>31357</td>\n",
       "      <td>[{'id': 818, 'name': 'based on novel'}, {'id':...</td>\n",
       "    </tr>\n",
       "    <tr>\n",
       "      <th>4</th>\n",
       "      <td>11862</td>\n",
       "      <td>[{'id': 1009, 'name': 'baby'}, {'id': 1599, 'n...</td>\n",
       "    </tr>\n",
       "    <tr>\n",
       "      <th>...</th>\n",
       "      <td>...</td>\n",
       "      <td>...</td>\n",
       "    </tr>\n",
       "    <tr>\n",
       "      <th>45427</th>\n",
       "      <td>439050</td>\n",
       "      <td>[{'id': 10703, 'name': 'tragic love'}]</td>\n",
       "    </tr>\n",
       "    <tr>\n",
       "      <th>45428</th>\n",
       "      <td>111109</td>\n",
       "      <td>[{'id': 2679, 'name': 'artist'}, {'id': 14531,...</td>\n",
       "    </tr>\n",
       "    <tr>\n",
       "      <th>45429</th>\n",
       "      <td>67758</td>\n",
       "      <td>[]</td>\n",
       "    </tr>\n",
       "    <tr>\n",
       "      <th>45430</th>\n",
       "      <td>227506</td>\n",
       "      <td>[]</td>\n",
       "    </tr>\n",
       "    <tr>\n",
       "      <th>45431</th>\n",
       "      <td>461257</td>\n",
       "      <td>[]</td>\n",
       "    </tr>\n",
       "  </tbody>\n",
       "</table>\n",
       "<p>45432 rows × 2 columns</p>\n",
       "</div>"
      ],
      "text/plain": [
       "           id                                           keywords\n",
       "0         862  [{'id': 931, 'name': 'jealousy'}, {'id': 4290,...\n",
       "1        8844  [{'id': 10090, 'name': 'board game'}, {'id': 1...\n",
       "2       15602  [{'id': 1495, 'name': 'fishing'}, {'id': 12392...\n",
       "3       31357  [{'id': 818, 'name': 'based on novel'}, {'id':...\n",
       "4       11862  [{'id': 1009, 'name': 'baby'}, {'id': 1599, 'n...\n",
       "...       ...                                                ...\n",
       "45427  439050             [{'id': 10703, 'name': 'tragic love'}]\n",
       "45428  111109  [{'id': 2679, 'name': 'artist'}, {'id': 14531,...\n",
       "45429   67758                                                 []\n",
       "45430  227506                                                 []\n",
       "45431  461257                                                 []\n",
       "\n",
       "[45432 rows x 2 columns]"
      ]
     },
     "execution_count": 14,
     "metadata": {},
     "output_type": "execute_result"
    }
   ],
   "source": [
    "keywords_data"
   ]
  },
  {
   "cell_type": "code",
   "execution_count": 15,
   "id": "a665da42-87a0-485c-ade2-d2d6b5434ecf",
   "metadata": {},
   "outputs": [
    {
     "data": {
      "text/html": [
       "<div>\n",
       "<style scoped>\n",
       "    .dataframe tbody tr th:only-of-type {\n",
       "        vertical-align: middle;\n",
       "    }\n",
       "\n",
       "    .dataframe tbody tr th {\n",
       "        vertical-align: top;\n",
       "    }\n",
       "\n",
       "    .dataframe thead th {\n",
       "        text-align: right;\n",
       "    }\n",
       "</style>\n",
       "<table border=\"1\" class=\"dataframe\">\n",
       "  <thead>\n",
       "    <tr style=\"text-align: right;\">\n",
       "      <th></th>\n",
       "      <th>id</th>\n",
       "    </tr>\n",
       "  </thead>\n",
       "  <tbody>\n",
       "    <tr>\n",
       "      <th>count</th>\n",
       "      <td>45432.000000</td>\n",
       "    </tr>\n",
       "    <tr>\n",
       "      <th>mean</th>\n",
       "      <td>108368.766750</td>\n",
       "    </tr>\n",
       "    <tr>\n",
       "      <th>std</th>\n",
       "      <td>112472.571213</td>\n",
       "    </tr>\n",
       "    <tr>\n",
       "      <th>min</th>\n",
       "      <td>2.000000</td>\n",
       "    </tr>\n",
       "    <tr>\n",
       "      <th>25%</th>\n",
       "      <td>26459.250000</td>\n",
       "    </tr>\n",
       "    <tr>\n",
       "      <th>50%</th>\n",
       "      <td>59995.500000</td>\n",
       "    </tr>\n",
       "    <tr>\n",
       "      <th>75%</th>\n",
       "      <td>157350.250000</td>\n",
       "    </tr>\n",
       "    <tr>\n",
       "      <th>max</th>\n",
       "      <td>469172.000000</td>\n",
       "    </tr>\n",
       "  </tbody>\n",
       "</table>\n",
       "</div>"
      ],
      "text/plain": [
       "                  id\n",
       "count   45432.000000\n",
       "mean   108368.766750\n",
       "std    112472.571213\n",
       "min         2.000000\n",
       "25%     26459.250000\n",
       "50%     59995.500000\n",
       "75%    157350.250000\n",
       "max    469172.000000"
      ]
     },
     "execution_count": 15,
     "metadata": {},
     "output_type": "execute_result"
    }
   ],
   "source": [
    "keywords_data.describe()"
   ]
  },
  {
   "cell_type": "code",
   "execution_count": 16,
   "id": "b169efc5-8578-49d5-ac99-85e29f38c336",
   "metadata": {},
   "outputs": [
    {
     "data": {
      "text/html": [
       "<div>\n",
       "<style scoped>\n",
       "    .dataframe tbody tr th:only-of-type {\n",
       "        vertical-align: middle;\n",
       "    }\n",
       "\n",
       "    .dataframe tbody tr th {\n",
       "        vertical-align: top;\n",
       "    }\n",
       "\n",
       "    .dataframe thead th {\n",
       "        text-align: right;\n",
       "    }\n",
       "</style>\n",
       "<table border=\"1\" class=\"dataframe\">\n",
       "  <thead>\n",
       "    <tr style=\"text-align: right;\">\n",
       "      <th></th>\n",
       "      <th>userId</th>\n",
       "      <th>movieId</th>\n",
       "      <th>rating</th>\n",
       "      <th>timestamp</th>\n",
       "    </tr>\n",
       "  </thead>\n",
       "  <tbody>\n",
       "    <tr>\n",
       "      <th>count</th>\n",
       "      <td>2.602429e+07</td>\n",
       "      <td>2.602429e+07</td>\n",
       "      <td>2.602429e+07</td>\n",
       "      <td>2.602429e+07</td>\n",
       "    </tr>\n",
       "    <tr>\n",
       "      <th>mean</th>\n",
       "      <td>1.350371e+05</td>\n",
       "      <td>1.584911e+04</td>\n",
       "      <td>3.528090e+00</td>\n",
       "      <td>1.171258e+09</td>\n",
       "    </tr>\n",
       "    <tr>\n",
       "      <th>std</th>\n",
       "      <td>7.817620e+04</td>\n",
       "      <td>3.108526e+04</td>\n",
       "      <td>1.065443e+00</td>\n",
       "      <td>2.052889e+08</td>\n",
       "    </tr>\n",
       "    <tr>\n",
       "      <th>min</th>\n",
       "      <td>1.000000e+00</td>\n",
       "      <td>1.000000e+00</td>\n",
       "      <td>5.000000e-01</td>\n",
       "      <td>7.896520e+08</td>\n",
       "    </tr>\n",
       "    <tr>\n",
       "      <th>25%</th>\n",
       "      <td>6.716400e+04</td>\n",
       "      <td>1.073000e+03</td>\n",
       "      <td>3.000000e+00</td>\n",
       "      <td>9.907545e+08</td>\n",
       "    </tr>\n",
       "    <tr>\n",
       "      <th>50%</th>\n",
       "      <td>1.351630e+05</td>\n",
       "      <td>2.583000e+03</td>\n",
       "      <td>3.500000e+00</td>\n",
       "      <td>1.151716e+09</td>\n",
       "    </tr>\n",
       "    <tr>\n",
       "      <th>75%</th>\n",
       "      <td>2.026930e+05</td>\n",
       "      <td>6.503000e+03</td>\n",
       "      <td>4.000000e+00</td>\n",
       "      <td>1.357578e+09</td>\n",
       "    </tr>\n",
       "    <tr>\n",
       "      <th>max</th>\n",
       "      <td>2.708960e+05</td>\n",
       "      <td>1.762750e+05</td>\n",
       "      <td>5.000000e+00</td>\n",
       "      <td>1.501830e+09</td>\n",
       "    </tr>\n",
       "  </tbody>\n",
       "</table>\n",
       "</div>"
      ],
      "text/plain": [
       "             userId       movieId        rating     timestamp\n",
       "count  2.602429e+07  2.602429e+07  2.602429e+07  2.602429e+07\n",
       "mean   1.350371e+05  1.584911e+04  3.528090e+00  1.171258e+09\n",
       "std    7.817620e+04  3.108526e+04  1.065443e+00  2.052889e+08\n",
       "min    1.000000e+00  1.000000e+00  5.000000e-01  7.896520e+08\n",
       "25%    6.716400e+04  1.073000e+03  3.000000e+00  9.907545e+08\n",
       "50%    1.351630e+05  2.583000e+03  3.500000e+00  1.151716e+09\n",
       "75%    2.026930e+05  6.503000e+03  4.000000e+00  1.357578e+09\n",
       "max    2.708960e+05  1.762750e+05  5.000000e+00  1.501830e+09"
      ]
     },
     "execution_count": 16,
     "metadata": {},
     "output_type": "execute_result"
    }
   ],
   "source": [
    "ratings.describe()"
   ]
  },
  {
   "cell_type": "code",
   "execution_count": 17,
   "id": "5ab809a0-c77d-4d35-856c-08abd9d76bf7",
   "metadata": {},
   "outputs": [
    {
     "data": {
      "text/plain": [
       "np.int64(176275)"
      ]
     },
     "execution_count": 17,
     "metadata": {},
     "output_type": "execute_result"
    }
   ],
   "source": [
    "ratings['movieId'].max()"
   ]
  },
  {
   "cell_type": "code",
   "execution_count": 18,
   "id": "14038401-32c0-465e-992e-6a3bca056fd6",
   "metadata": {},
   "outputs": [
    {
     "data": {
      "text/plain": [
       "45432"
      ]
     },
     "execution_count": 18,
     "metadata": {},
     "output_type": "execute_result"
    }
   ],
   "source": [
    "keywords_data['id'].nunique()"
   ]
  },
  {
   "cell_type": "code",
   "execution_count": 19,
   "id": "b63a46cc-833e-40dc-b9a3-61ba0d878c9a",
   "metadata": {},
   "outputs": [
    {
     "data": {
      "text/plain": [
       "45115"
      ]
     },
     "execution_count": 19,
     "metadata": {},
     "output_type": "execute_result"
    }
   ],
   "source": [
    "ratings['movieId'].nunique()"
   ]
  },
  {
   "cell_type": "code",
   "execution_count": 20,
   "id": "3ba4db68-c18b-47d0-89c3-4ff9eb17fa2e",
   "metadata": {},
   "outputs": [],
   "source": [
    "#NOTE: total no of keywords column > total no of movies"
   ]
  },
  {
   "cell_type": "markdown",
   "id": "b0f84de3-b98d-43c8-a0cd-231337afd445",
   "metadata": {},
   "source": [
    "### EXPLORING KEYWORDS DATA\n",
    "- parsing keywords directly to json causing error because keys(id and name) are not properly nested in side double quote"
   ]
  },
  {
   "cell_type": "code",
   "execution_count": 21,
   "id": "e304d2df-cc22-499f-939a-18be5c2223b0",
   "metadata": {},
   "outputs": [
    {
     "data": {
      "text/plain": [
       "(45432, 2)"
      ]
     },
     "execution_count": 21,
     "metadata": {},
     "output_type": "execute_result"
    }
   ],
   "source": [
    "keywords_data.shape"
   ]
  },
  {
   "cell_type": "code",
   "execution_count": 22,
   "id": "28e98245-9354-4d1d-a49a-da41d43eece4",
   "metadata": {},
   "outputs": [
    {
     "data": {
      "text/html": [
       "<div>\n",
       "<style scoped>\n",
       "    .dataframe tbody tr th:only-of-type {\n",
       "        vertical-align: middle;\n",
       "    }\n",
       "\n",
       "    .dataframe tbody tr th {\n",
       "        vertical-align: top;\n",
       "    }\n",
       "\n",
       "    .dataframe thead th {\n",
       "        text-align: right;\n",
       "    }\n",
       "</style>\n",
       "<table border=\"1\" class=\"dataframe\">\n",
       "  <thead>\n",
       "    <tr style=\"text-align: right;\">\n",
       "      <th></th>\n",
       "      <th>id</th>\n",
       "      <th>keywords</th>\n",
       "    </tr>\n",
       "  </thead>\n",
       "  <tbody>\n",
       "    <tr>\n",
       "      <th>0</th>\n",
       "      <td>862</td>\n",
       "      <td>[{'id': 931, 'name': 'jealousy'}, {'id': 4290,...</td>\n",
       "    </tr>\n",
       "    <tr>\n",
       "      <th>1</th>\n",
       "      <td>8844</td>\n",
       "      <td>[{'id': 10090, 'name': 'board game'}, {'id': 1...</td>\n",
       "    </tr>\n",
       "    <tr>\n",
       "      <th>2</th>\n",
       "      <td>15602</td>\n",
       "      <td>[{'id': 1495, 'name': 'fishing'}, {'id': 12392...</td>\n",
       "    </tr>\n",
       "    <tr>\n",
       "      <th>3</th>\n",
       "      <td>31357</td>\n",
       "      <td>[{'id': 818, 'name': 'based on novel'}, {'id':...</td>\n",
       "    </tr>\n",
       "    <tr>\n",
       "      <th>4</th>\n",
       "      <td>11862</td>\n",
       "      <td>[{'id': 1009, 'name': 'baby'}, {'id': 1599, 'n...</td>\n",
       "    </tr>\n",
       "  </tbody>\n",
       "</table>\n",
       "</div>"
      ],
      "text/plain": [
       "      id                                           keywords\n",
       "0    862  [{'id': 931, 'name': 'jealousy'}, {'id': 4290,...\n",
       "1   8844  [{'id': 10090, 'name': 'board game'}, {'id': 1...\n",
       "2  15602  [{'id': 1495, 'name': 'fishing'}, {'id': 12392...\n",
       "3  31357  [{'id': 818, 'name': 'based on novel'}, {'id':...\n",
       "4  11862  [{'id': 1009, 'name': 'baby'}, {'id': 1599, 'n..."
      ]
     },
     "execution_count": 22,
     "metadata": {},
     "output_type": "execute_result"
    }
   ],
   "source": [
    "keywords_data.head()"
   ]
  },
  {
   "cell_type": "code",
   "execution_count": 23,
   "id": "d1807cbe-125d-45a6-8697-a1999d990b35",
   "metadata": {},
   "outputs": [
    {
     "data": {
      "text/plain": [
       "\"[{'id': 931, 'name': 'jealousy'}, {'id': 4290, 'name': 'toy'}, {'id': 5202, 'name': 'boy'}, {'id': 6054, 'name': 'friendship'}, {'id': 9713, 'name': 'friends'}, {'id': 9823, 'name': 'rivalry'}, {'id': 165503, 'name': 'boy next door'}, {'id': 170722, 'name': 'new toy'}, {'id': 187065, 'name': 'toy comes to life'}]\""
      ]
     },
     "execution_count": 23,
     "metadata": {},
     "output_type": "execute_result"
    }
   ],
   "source": [
    "keywords_data['keywords'].iloc[0]"
   ]
  },
  {
   "cell_type": "code",
   "execution_count": 24,
   "id": "570920a0-ee95-4b12-ad44-872f2c108c29",
   "metadata": {},
   "outputs": [],
   "source": [
    "# json.loads(keywords_data['keywords'].iloc[1].replace(\"\\'id\\'\",'\"id\"').replace(\"\\'name\\'\", \"name\"))"
   ]
  },
  {
   "cell_type": "code",
   "execution_count": 25,
   "id": "30939719-cd32-474a-9b55-1381d7ecf1f2",
   "metadata": {},
   "outputs": [],
   "source": [
    "data = keywords_data['keywords'].iloc[17]"
   ]
  },
  {
   "cell_type": "code",
   "execution_count": 26,
   "id": "6d06b7d1-cb79-421d-b394-56baa690dc13",
   "metadata": {},
   "outputs": [
    {
     "name": "stdout",
     "output_type": "stream",
     "text": [
      "[{'id': 612, 'name': 'hotel'}, {'id': 613, 'name': \"new year's eve\"}, {'id': 616, 'name': 'witch'}, {'id': 622, 'name': 'bet'}, {'id': 922, 'name': 'hotel room'}, {'id': 2700, 'name': 'sperm'}, {'id': 12670, 'name': 'los angeles'}, {'id': 160488, 'name': 'hoodlum'}, {'id': 187056, 'name': 'woman director'}, {'id': 198129, 'name': 'episode film'}]\n"
     ]
    }
   ],
   "source": [
    "print(data.replace('\\\"s',\"\\'s\"))"
   ]
  },
  {
   "cell_type": "code",
   "execution_count": 27,
   "id": "7be8995e-ab25-4b7d-817e-8a8cb782d64a",
   "metadata": {},
   "outputs": [],
   "source": [
    "# find currupted data before processing and after processing\n",
    "\n",
    "# data = keywords_data['keywords'].iloc[1].replace(\"\\'\", '\\\"')\n",
    "\n",
    "def convert_to_json(data):\n",
    "    return data.replace(\"\\'\", '\\\"')\n",
    "\n",
    "def is_currupt(data):\n",
    "    curpt = False\n",
    "    try:\n",
    "        json.loads(data)\n",
    "    except:\n",
    "        curpt = True\n",
    "    return curpt"
   ]
  },
  {
   "cell_type": "code",
   "execution_count": 28,
   "id": "0eba76d4-6371-48c4-a47b-c4a924c49d97",
   "metadata": {},
   "outputs": [
    {
     "data": {
      "text/plain": [
       "'[{\\'id\\': 10090, \\'name\\': \\'board game\\'}, {\\'id\\': 10941, \\'name\\': \\'disappearance\\'}, {\\'id\\': 15101, \\'name\\': \"based on children\\'s book\"}, {\\'id\\': 33467, \\'name\\': \\'new home\\'}, {\\'id\\': 158086, \\'name\\': \\'recluse\\'}, {\\'id\\': 158091, \\'name\\': \\'giant insect\\'}]'"
      ]
     },
     "execution_count": 28,
     "metadata": {},
     "output_type": "execute_result"
    }
   ],
   "source": [
    "keywords_data['keywords'].iloc[1]"
   ]
  },
  {
   "cell_type": "code",
   "execution_count": 29,
   "id": "5e2cf3b8-0ee0-4b5d-80e9-f0e4f807958c",
   "metadata": {},
   "outputs": [],
   "source": [
    "# json.loads(keywords_data['keywords'].iloc[1].replace(\"\\'s \", \" \")).replace(\"\\'\", '\\\"')\n",
    "# giving error"
   ]
  },
  {
   "cell_type": "code",
   "execution_count": 30,
   "id": "e3425a5c-0498-420b-b92f-6a27702e48e0",
   "metadata": {},
   "outputs": [],
   "source": [
    "keywords_data['keywords'] = keywords_data['keywords'].apply(convert_to_json)"
   ]
  },
  {
   "cell_type": "code",
   "execution_count": 31,
   "id": "26529dbc-3536-4c51-a458-1de0fe0bb81e",
   "metadata": {},
   "outputs": [
    {
     "data": {
      "text/plain": [
       "'[{\"id\": 10090, \"name\": \"board game\"}, {\"id\": 10941, \"name\": \"disappearance\"}, {\"id\": 15101, \"name\": \"based on children\"s book\"}, {\"id\": 33467, \"name\": \"new home\"}, {\"id\": 158086, \"name\": \"recluse\"}, {\"id\": 158091, \"name\": \"giant insect\"}]'"
      ]
     },
     "execution_count": 31,
     "metadata": {},
     "output_type": "execute_result"
    }
   ],
   "source": [
    "keywords_data['keywords'].iloc[1]"
   ]
  },
  {
   "cell_type": "code",
   "execution_count": 32,
   "id": "e2d4280d-38c5-482b-b4f5-affe538d8667",
   "metadata": {},
   "outputs": [
    {
     "data": {
      "text/plain": [
       "'[{\"id\": 818, \"name\": \"based on novel\"}, {\"id\": 10131, \"name\": \"interracial relationship\"}, {\"id\": 14768, \"name\": \"single mother\"}, {\"id\": 15160, \"name\": \"divorce\"}, {\"id\": 33455, \"name\": \"chick flick\"}]'"
      ]
     },
     "execution_count": 32,
     "metadata": {},
     "output_type": "execute_result"
    }
   ],
   "source": [
    "keywords_data['keywords'].iloc[3]"
   ]
  },
  {
   "cell_type": "code",
   "execution_count": 33,
   "id": "d691af38-27fa-4f6e-927e-3ccd7dd38487",
   "metadata": {},
   "outputs": [],
   "source": [
    "keywords_data['currupted'] = keywords_data['keywords'].apply(is_currupt)"
   ]
  },
  {
   "cell_type": "code",
   "execution_count": 34,
   "id": "d28d1685-54e5-498e-a5b9-063c2d31cc6a",
   "metadata": {},
   "outputs": [
    {
     "data": {
      "text/plain": [
       "0        False\n",
       "1         True\n",
       "2        False\n",
       "3        False\n",
       "4        False\n",
       "         ...  \n",
       "45427    False\n",
       "45428    False\n",
       "45429    False\n",
       "45430    False\n",
       "45431    False\n",
       "Name: currupted, Length: 45432, dtype: bool"
      ]
     },
     "execution_count": 34,
     "metadata": {},
     "output_type": "execute_result"
    }
   ],
   "source": [
    "keywords_data['currupted']"
   ]
  },
  {
   "cell_type": "markdown",
   "id": "99f552de-d916-4963-9349-94e25a18ba92",
   "metadata": {},
   "source": [
    "### PROCESSING KEYWORDS DATA"
   ]
  },
  {
   "cell_type": "code",
   "execution_count": 35,
   "id": "35699ba7-b229-437e-978a-52e981881412",
   "metadata": {},
   "outputs": [],
   "source": [
    "def find_currupted_index(keywords_data):\n",
    "    list_of_currupted_rows = []\n",
    "    index = 0\n",
    "    for data in keywords_data['currupted']:\n",
    "        if data == True:\n",
    "            list_of_currupted_rows.append(index)\n",
    "        index += 1\n",
    "    return list_of_currupted_rows"
   ]
  },
  {
   "cell_type": "code",
   "execution_count": 36,
   "id": "da32b732-e106-411d-b491-4fbdfca92644",
   "metadata": {},
   "outputs": [
    {
     "data": {
      "text/plain": [
       "(45432, 3)"
      ]
     },
     "execution_count": 36,
     "metadata": {},
     "output_type": "execute_result"
    }
   ],
   "source": [
    "keywords_data.shape"
   ]
  },
  {
   "cell_type": "code",
   "execution_count": 37,
   "id": "79534619-d0ad-4023-8033-c9841fec1e4b",
   "metadata": {},
   "outputs": [],
   "source": [
    "new_keywords_df = pd.DataFrame(keywords_data)"
   ]
  },
  {
   "cell_type": "code",
   "execution_count": 38,
   "id": "1640e538-b15d-4f74-adf0-db2272b437e0",
   "metadata": {},
   "outputs": [
    {
     "data": {
      "text/html": [
       "<div>\n",
       "<style scoped>\n",
       "    .dataframe tbody tr th:only-of-type {\n",
       "        vertical-align: middle;\n",
       "    }\n",
       "\n",
       "    .dataframe tbody tr th {\n",
       "        vertical-align: top;\n",
       "    }\n",
       "\n",
       "    .dataframe thead th {\n",
       "        text-align: right;\n",
       "    }\n",
       "</style>\n",
       "<table border=\"1\" class=\"dataframe\">\n",
       "  <thead>\n",
       "    <tr style=\"text-align: right;\">\n",
       "      <th></th>\n",
       "      <th>id</th>\n",
       "      <th>keywords</th>\n",
       "      <th>currupted</th>\n",
       "    </tr>\n",
       "  </thead>\n",
       "  <tbody>\n",
       "    <tr>\n",
       "      <th>0</th>\n",
       "      <td>862</td>\n",
       "      <td>[{\"id\": 931, \"name\": \"jealousy\"}, {\"id\": 4290,...</td>\n",
       "      <td>False</td>\n",
       "    </tr>\n",
       "    <tr>\n",
       "      <th>1</th>\n",
       "      <td>8844</td>\n",
       "      <td>[{\"id\": 10090, \"name\": \"board game\"}, {\"id\": 1...</td>\n",
       "      <td>True</td>\n",
       "    </tr>\n",
       "    <tr>\n",
       "      <th>2</th>\n",
       "      <td>15602</td>\n",
       "      <td>[{\"id\": 1495, \"name\": \"fishing\"}, {\"id\": 12392...</td>\n",
       "      <td>False</td>\n",
       "    </tr>\n",
       "    <tr>\n",
       "      <th>3</th>\n",
       "      <td>31357</td>\n",
       "      <td>[{\"id\": 818, \"name\": \"based on novel\"}, {\"id\":...</td>\n",
       "      <td>False</td>\n",
       "    </tr>\n",
       "    <tr>\n",
       "      <th>4</th>\n",
       "      <td>11862</td>\n",
       "      <td>[{\"id\": 1009, \"name\": \"baby\"}, {\"id\": 1599, \"n...</td>\n",
       "      <td>False</td>\n",
       "    </tr>\n",
       "    <tr>\n",
       "      <th>...</th>\n",
       "      <td>...</td>\n",
       "      <td>...</td>\n",
       "      <td>...</td>\n",
       "    </tr>\n",
       "    <tr>\n",
       "      <th>45427</th>\n",
       "      <td>439050</td>\n",
       "      <td>[{\"id\": 10703, \"name\": \"tragic love\"}]</td>\n",
       "      <td>False</td>\n",
       "    </tr>\n",
       "    <tr>\n",
       "      <th>45428</th>\n",
       "      <td>111109</td>\n",
       "      <td>[{\"id\": 2679, \"name\": \"artist\"}, {\"id\": 14531,...</td>\n",
       "      <td>False</td>\n",
       "    </tr>\n",
       "    <tr>\n",
       "      <th>45429</th>\n",
       "      <td>67758</td>\n",
       "      <td>[]</td>\n",
       "      <td>False</td>\n",
       "    </tr>\n",
       "    <tr>\n",
       "      <th>45430</th>\n",
       "      <td>227506</td>\n",
       "      <td>[]</td>\n",
       "      <td>False</td>\n",
       "    </tr>\n",
       "    <tr>\n",
       "      <th>45431</th>\n",
       "      <td>461257</td>\n",
       "      <td>[]</td>\n",
       "      <td>False</td>\n",
       "    </tr>\n",
       "  </tbody>\n",
       "</table>\n",
       "<p>45432 rows × 3 columns</p>\n",
       "</div>"
      ],
      "text/plain": [
       "           id                                           keywords  currupted\n",
       "0         862  [{\"id\": 931, \"name\": \"jealousy\"}, {\"id\": 4290,...      False\n",
       "1        8844  [{\"id\": 10090, \"name\": \"board game\"}, {\"id\": 1...       True\n",
       "2       15602  [{\"id\": 1495, \"name\": \"fishing\"}, {\"id\": 12392...      False\n",
       "3       31357  [{\"id\": 818, \"name\": \"based on novel\"}, {\"id\":...      False\n",
       "4       11862  [{\"id\": 1009, \"name\": \"baby\"}, {\"id\": 1599, \"n...      False\n",
       "...       ...                                                ...        ...\n",
       "45427  439050             [{\"id\": 10703, \"name\": \"tragic love\"}]      False\n",
       "45428  111109  [{\"id\": 2679, \"name\": \"artist\"}, {\"id\": 14531,...      False\n",
       "45429   67758                                                 []      False\n",
       "45430  227506                                                 []      False\n",
       "45431  461257                                                 []      False\n",
       "\n",
       "[45432 rows x 3 columns]"
      ]
     },
     "execution_count": 38,
     "metadata": {},
     "output_type": "execute_result"
    }
   ],
   "source": [
    "new_keywords_df"
   ]
  },
  {
   "cell_type": "code",
   "execution_count": 39,
   "id": "8f76d600-0989-4b12-ad3c-97fef504606e",
   "metadata": {},
   "outputs": [],
   "source": [
    "new_keywords_df.reset_index(drop=True, inplace=True)"
   ]
  },
  {
   "cell_type": "code",
   "execution_count": 40,
   "id": "301a3110-9b90-4eb6-a297-2d956764e661",
   "metadata": {},
   "outputs": [
    {
     "data": {
      "text/html": [
       "<div>\n",
       "<style scoped>\n",
       "    .dataframe tbody tr th:only-of-type {\n",
       "        vertical-align: middle;\n",
       "    }\n",
       "\n",
       "    .dataframe tbody tr th {\n",
       "        vertical-align: top;\n",
       "    }\n",
       "\n",
       "    .dataframe thead th {\n",
       "        text-align: right;\n",
       "    }\n",
       "</style>\n",
       "<table border=\"1\" class=\"dataframe\">\n",
       "  <thead>\n",
       "    <tr style=\"text-align: right;\">\n",
       "      <th></th>\n",
       "      <th>id</th>\n",
       "      <th>keywords</th>\n",
       "      <th>currupted</th>\n",
       "    </tr>\n",
       "  </thead>\n",
       "  <tbody>\n",
       "    <tr>\n",
       "      <th>0</th>\n",
       "      <td>862</td>\n",
       "      <td>[{\"id\": 931, \"name\": \"jealousy\"}, {\"id\": 4290,...</td>\n",
       "      <td>False</td>\n",
       "    </tr>\n",
       "    <tr>\n",
       "      <th>1</th>\n",
       "      <td>8844</td>\n",
       "      <td>[{\"id\": 10090, \"name\": \"board game\"}, {\"id\": 1...</td>\n",
       "      <td>True</td>\n",
       "    </tr>\n",
       "    <tr>\n",
       "      <th>2</th>\n",
       "      <td>15602</td>\n",
       "      <td>[{\"id\": 1495, \"name\": \"fishing\"}, {\"id\": 12392...</td>\n",
       "      <td>False</td>\n",
       "    </tr>\n",
       "    <tr>\n",
       "      <th>3</th>\n",
       "      <td>31357</td>\n",
       "      <td>[{\"id\": 818, \"name\": \"based on novel\"}, {\"id\":...</td>\n",
       "      <td>False</td>\n",
       "    </tr>\n",
       "    <tr>\n",
       "      <th>4</th>\n",
       "      <td>11862</td>\n",
       "      <td>[{\"id\": 1009, \"name\": \"baby\"}, {\"id\": 1599, \"n...</td>\n",
       "      <td>False</td>\n",
       "    </tr>\n",
       "    <tr>\n",
       "      <th>...</th>\n",
       "      <td>...</td>\n",
       "      <td>...</td>\n",
       "      <td>...</td>\n",
       "    </tr>\n",
       "    <tr>\n",
       "      <th>45427</th>\n",
       "      <td>439050</td>\n",
       "      <td>[{\"id\": 10703, \"name\": \"tragic love\"}]</td>\n",
       "      <td>False</td>\n",
       "    </tr>\n",
       "    <tr>\n",
       "      <th>45428</th>\n",
       "      <td>111109</td>\n",
       "      <td>[{\"id\": 2679, \"name\": \"artist\"}, {\"id\": 14531,...</td>\n",
       "      <td>False</td>\n",
       "    </tr>\n",
       "    <tr>\n",
       "      <th>45429</th>\n",
       "      <td>67758</td>\n",
       "      <td>[]</td>\n",
       "      <td>False</td>\n",
       "    </tr>\n",
       "    <tr>\n",
       "      <th>45430</th>\n",
       "      <td>227506</td>\n",
       "      <td>[]</td>\n",
       "      <td>False</td>\n",
       "    </tr>\n",
       "    <tr>\n",
       "      <th>45431</th>\n",
       "      <td>461257</td>\n",
       "      <td>[]</td>\n",
       "      <td>False</td>\n",
       "    </tr>\n",
       "  </tbody>\n",
       "</table>\n",
       "<p>45432 rows × 3 columns</p>\n",
       "</div>"
      ],
      "text/plain": [
       "           id                                           keywords  currupted\n",
       "0         862  [{\"id\": 931, \"name\": \"jealousy\"}, {\"id\": 4290,...      False\n",
       "1        8844  [{\"id\": 10090, \"name\": \"board game\"}, {\"id\": 1...       True\n",
       "2       15602  [{\"id\": 1495, \"name\": \"fishing\"}, {\"id\": 12392...      False\n",
       "3       31357  [{\"id\": 818, \"name\": \"based on novel\"}, {\"id\":...      False\n",
       "4       11862  [{\"id\": 1009, \"name\": \"baby\"}, {\"id\": 1599, \"n...      False\n",
       "...       ...                                                ...        ...\n",
       "45427  439050             [{\"id\": 10703, \"name\": \"tragic love\"}]      False\n",
       "45428  111109  [{\"id\": 2679, \"name\": \"artist\"}, {\"id\": 14531,...      False\n",
       "45429   67758                                                 []      False\n",
       "45430  227506                                                 []      False\n",
       "45431  461257                                                 []      False\n",
       "\n",
       "[45432 rows x 3 columns]"
      ]
     },
     "execution_count": 40,
     "metadata": {},
     "output_type": "execute_result"
    }
   ],
   "source": [
    "new_keywords_df"
   ]
  },
  {
   "cell_type": "code",
   "execution_count": 41,
   "id": "730b1bbe-9b1c-4b44-85e2-1cee717b2c2b",
   "metadata": {},
   "outputs": [
    {
     "data": {
      "text/plain": [
       "(45432, 3)"
      ]
     },
     "execution_count": 41,
     "metadata": {},
     "output_type": "execute_result"
    }
   ],
   "source": [
    "new_keywords_df.shape"
   ]
  },
  {
   "cell_type": "code",
   "execution_count": 42,
   "id": "bc65aa92-9584-4efd-9ca0-cdfab6732b83",
   "metadata": {},
   "outputs": [
    {
     "data": {
      "text/html": [
       "<div>\n",
       "<style scoped>\n",
       "    .dataframe tbody tr th:only-of-type {\n",
       "        vertical-align: middle;\n",
       "    }\n",
       "\n",
       "    .dataframe tbody tr th {\n",
       "        vertical-align: top;\n",
       "    }\n",
       "\n",
       "    .dataframe thead th {\n",
       "        text-align: right;\n",
       "    }\n",
       "</style>\n",
       "<table border=\"1\" class=\"dataframe\">\n",
       "  <thead>\n",
       "    <tr style=\"text-align: right;\">\n",
       "      <th></th>\n",
       "      <th>id</th>\n",
       "      <th>keywords</th>\n",
       "      <th>currupted</th>\n",
       "    </tr>\n",
       "  </thead>\n",
       "  <tbody>\n",
       "    <tr>\n",
       "      <th>0</th>\n",
       "      <td>862</td>\n",
       "      <td>[{\"id\": 931, \"name\": \"jealousy\"}, {\"id\": 4290,...</td>\n",
       "      <td>False</td>\n",
       "    </tr>\n",
       "    <tr>\n",
       "      <th>1</th>\n",
       "      <td>8844</td>\n",
       "      <td>[{\"id\": 10090, \"name\": \"board game\"}, {\"id\": 1...</td>\n",
       "      <td>True</td>\n",
       "    </tr>\n",
       "    <tr>\n",
       "      <th>2</th>\n",
       "      <td>15602</td>\n",
       "      <td>[{\"id\": 1495, \"name\": \"fishing\"}, {\"id\": 12392...</td>\n",
       "      <td>False</td>\n",
       "    </tr>\n",
       "    <tr>\n",
       "      <th>3</th>\n",
       "      <td>31357</td>\n",
       "      <td>[{\"id\": 818, \"name\": \"based on novel\"}, {\"id\":...</td>\n",
       "      <td>False</td>\n",
       "    </tr>\n",
       "    <tr>\n",
       "      <th>4</th>\n",
       "      <td>11862</td>\n",
       "      <td>[{\"id\": 1009, \"name\": \"baby\"}, {\"id\": 1599, \"n...</td>\n",
       "      <td>False</td>\n",
       "    </tr>\n",
       "  </tbody>\n",
       "</table>\n",
       "</div>"
      ],
      "text/plain": [
       "      id                                           keywords  currupted\n",
       "0    862  [{\"id\": 931, \"name\": \"jealousy\"}, {\"id\": 4290,...      False\n",
       "1   8844  [{\"id\": 10090, \"name\": \"board game\"}, {\"id\": 1...       True\n",
       "2  15602  [{\"id\": 1495, \"name\": \"fishing\"}, {\"id\": 12392...      False\n",
       "3  31357  [{\"id\": 818, \"name\": \"based on novel\"}, {\"id\":...      False\n",
       "4  11862  [{\"id\": 1009, \"name\": \"baby\"}, {\"id\": 1599, \"n...      False"
      ]
     },
     "execution_count": 42,
     "metadata": {},
     "output_type": "execute_result"
    }
   ],
   "source": [
    "new_keywords_df.head()"
   ]
  },
  {
   "cell_type": "code",
   "execution_count": 43,
   "id": "ef5f969a-7900-4421-9aa1-453c1ebad407",
   "metadata": {},
   "outputs": [],
   "source": [
    "list_of_currupted_rows = find_currupted_index(new_keywords_df)"
   ]
  },
  {
   "cell_type": "code",
   "execution_count": 44,
   "id": "34c66a52-ad50-4d11-a3ae-96a6bfd258cc",
   "metadata": {
    "scrolled": true
   },
   "outputs": [],
   "source": [
    "# print(list_of_currupted_rows)"
   ]
  },
  {
   "cell_type": "code",
   "execution_count": 45,
   "id": "26130050-2905-4778-817c-79676469e015",
   "metadata": {},
   "outputs": [
    {
     "data": {
      "text/plain": [
       "628"
      ]
     },
     "execution_count": 45,
     "metadata": {},
     "output_type": "execute_result"
    }
   ],
   "source": [
    "len(list_of_currupted_rows)"
   ]
  },
  {
   "cell_type": "code",
   "execution_count": 46,
   "id": "a867a2af-ad5e-44ea-8fde-e038a9dfd37a",
   "metadata": {},
   "outputs": [],
   "source": [
    "# new_keywords_df.drop(labels=list_of_currupted_rows, axis=0, inplace=True)\n",
    "\n",
    "# above funciton is not working may be because of long list of indexes\n",
    "new_keywords_df = new_keywords_df[new_keywords_df['currupted'] == False]"
   ]
  },
  {
   "cell_type": "code",
   "execution_count": 47,
   "id": "4546b7c9-e712-4b85-94b3-f100d7e1241c",
   "metadata": {},
   "outputs": [],
   "source": [
    "new_keywords_df.reset_index(drop=True, inplace=True)"
   ]
  },
  {
   "cell_type": "code",
   "execution_count": 48,
   "id": "56cd2b6b-98a8-44d6-8fb4-68b8982c2d97",
   "metadata": {},
   "outputs": [
    {
     "data": {
      "text/plain": [
       "id                                  411007\n",
       "keywords     [{\"id\": 974, \"name\": \"bank\"}]\n",
       "currupted                            False\n",
       "Name: 44803, dtype: object"
      ]
     },
     "execution_count": 48,
     "metadata": {},
     "output_type": "execute_result"
    }
   ],
   "source": [
    "keywords_data.iloc[44803]"
   ]
  },
  {
   "cell_type": "code",
   "execution_count": 49,
   "id": "f307ed7c-c3b2-4ace-967d-4f5c4a51ee70",
   "metadata": {},
   "outputs": [
    {
     "data": {
      "text/plain": [
       "id           227506\n",
       "keywords         []\n",
       "currupted     False\n",
       "Name: 44802, dtype: object"
      ]
     },
     "execution_count": 49,
     "metadata": {},
     "output_type": "execute_result"
    }
   ],
   "source": [
    "new_keywords_df.iloc[44802]"
   ]
  },
  {
   "cell_type": "code",
   "execution_count": 50,
   "id": "5ed231d3-dd8f-4a94-9011-89225ab41b17",
   "metadata": {},
   "outputs": [
    {
     "data": {
      "text/html": [
       "<div>\n",
       "<style scoped>\n",
       "    .dataframe tbody tr th:only-of-type {\n",
       "        vertical-align: middle;\n",
       "    }\n",
       "\n",
       "    .dataframe tbody tr th {\n",
       "        vertical-align: top;\n",
       "    }\n",
       "\n",
       "    .dataframe thead th {\n",
       "        text-align: right;\n",
       "    }\n",
       "</style>\n",
       "<table border=\"1\" class=\"dataframe\">\n",
       "  <thead>\n",
       "    <tr style=\"text-align: right;\">\n",
       "      <th></th>\n",
       "      <th>id</th>\n",
       "      <th>keywords</th>\n",
       "      <th>currupted</th>\n",
       "    </tr>\n",
       "  </thead>\n",
       "  <tbody>\n",
       "    <tr>\n",
       "      <th>0</th>\n",
       "      <td>862</td>\n",
       "      <td>[{\"id\": 931, \"name\": \"jealousy\"}, {\"id\": 4290,...</td>\n",
       "      <td>False</td>\n",
       "    </tr>\n",
       "    <tr>\n",
       "      <th>1</th>\n",
       "      <td>15602</td>\n",
       "      <td>[{\"id\": 1495, \"name\": \"fishing\"}, {\"id\": 12392...</td>\n",
       "      <td>False</td>\n",
       "    </tr>\n",
       "    <tr>\n",
       "      <th>2</th>\n",
       "      <td>31357</td>\n",
       "      <td>[{\"id\": 818, \"name\": \"based on novel\"}, {\"id\":...</td>\n",
       "      <td>False</td>\n",
       "    </tr>\n",
       "    <tr>\n",
       "      <th>3</th>\n",
       "      <td>11862</td>\n",
       "      <td>[{\"id\": 1009, \"name\": \"baby\"}, {\"id\": 1599, \"n...</td>\n",
       "      <td>False</td>\n",
       "    </tr>\n",
       "    <tr>\n",
       "      <th>4</th>\n",
       "      <td>949</td>\n",
       "      <td>[{\"id\": 642, \"name\": \"robbery\"}, {\"id\": 703, \"...</td>\n",
       "      <td>False</td>\n",
       "    </tr>\n",
       "    <tr>\n",
       "      <th>...</th>\n",
       "      <td>...</td>\n",
       "      <td>...</td>\n",
       "      <td>...</td>\n",
       "    </tr>\n",
       "    <tr>\n",
       "      <th>44799</th>\n",
       "      <td>439050</td>\n",
       "      <td>[{\"id\": 10703, \"name\": \"tragic love\"}]</td>\n",
       "      <td>False</td>\n",
       "    </tr>\n",
       "    <tr>\n",
       "      <th>44800</th>\n",
       "      <td>111109</td>\n",
       "      <td>[{\"id\": 2679, \"name\": \"artist\"}, {\"id\": 14531,...</td>\n",
       "      <td>False</td>\n",
       "    </tr>\n",
       "    <tr>\n",
       "      <th>44801</th>\n",
       "      <td>67758</td>\n",
       "      <td>[]</td>\n",
       "      <td>False</td>\n",
       "    </tr>\n",
       "    <tr>\n",
       "      <th>44802</th>\n",
       "      <td>227506</td>\n",
       "      <td>[]</td>\n",
       "      <td>False</td>\n",
       "    </tr>\n",
       "    <tr>\n",
       "      <th>44803</th>\n",
       "      <td>461257</td>\n",
       "      <td>[]</td>\n",
       "      <td>False</td>\n",
       "    </tr>\n",
       "  </tbody>\n",
       "</table>\n",
       "<p>44804 rows × 3 columns</p>\n",
       "</div>"
      ],
      "text/plain": [
       "           id                                           keywords  currupted\n",
       "0         862  [{\"id\": 931, \"name\": \"jealousy\"}, {\"id\": 4290,...      False\n",
       "1       15602  [{\"id\": 1495, \"name\": \"fishing\"}, {\"id\": 12392...      False\n",
       "2       31357  [{\"id\": 818, \"name\": \"based on novel\"}, {\"id\":...      False\n",
       "3       11862  [{\"id\": 1009, \"name\": \"baby\"}, {\"id\": 1599, \"n...      False\n",
       "4         949  [{\"id\": 642, \"name\": \"robbery\"}, {\"id\": 703, \"...      False\n",
       "...       ...                                                ...        ...\n",
       "44799  439050             [{\"id\": 10703, \"name\": \"tragic love\"}]      False\n",
       "44800  111109  [{\"id\": 2679, \"name\": \"artist\"}, {\"id\": 14531,...      False\n",
       "44801   67758                                                 []      False\n",
       "44802  227506                                                 []      False\n",
       "44803  461257                                                 []      False\n",
       "\n",
       "[44804 rows x 3 columns]"
      ]
     },
     "execution_count": 50,
     "metadata": {},
     "output_type": "execute_result"
    }
   ],
   "source": [
    "new_keywords_df"
   ]
  },
  {
   "cell_type": "code",
   "execution_count": 51,
   "id": "64ed43d3-5d2a-4613-960d-cd0465457075",
   "metadata": {},
   "outputs": [],
   "source": [
    "# we have eliminated all currupted rows, now we have to extract list of keywords from keywords column"
   ]
  },
  {
   "cell_type": "code",
   "execution_count": 52,
   "id": "5f2eb0e7-8fbd-4975-ad91-d77cc16d269a",
   "metadata": {},
   "outputs": [],
   "source": [
    "# first remove currupted column"
   ]
  },
  {
   "cell_type": "code",
   "execution_count": 53,
   "id": "0fb1133e-a959-41b9-902b-b206d023f388",
   "metadata": {},
   "outputs": [
    {
     "name": "stderr",
     "output_type": "stream",
     "text": [
      "/tmp/ipykernel_1729985/501662641.py:1: SettingWithCopyWarning: \n",
      "A value is trying to be set on a copy of a slice from a DataFrame\n",
      "\n",
      "See the caveats in the documentation: https://pandas.pydata.org/pandas-docs/stable/user_guide/indexing.html#returning-a-view-versus-a-copy\n",
      "  new_keywords_df.drop(columns=['currupted'], inplace=True)\n"
     ]
    }
   ],
   "source": [
    "new_keywords_df.drop(columns=['currupted'], inplace=True)"
   ]
  },
  {
   "cell_type": "code",
   "execution_count": 54,
   "id": "754452e2-1593-4c71-b676-ae81c8aae7d8",
   "metadata": {},
   "outputs": [
    {
     "data": {
      "text/html": [
       "<div>\n",
       "<style scoped>\n",
       "    .dataframe tbody tr th:only-of-type {\n",
       "        vertical-align: middle;\n",
       "    }\n",
       "\n",
       "    .dataframe tbody tr th {\n",
       "        vertical-align: top;\n",
       "    }\n",
       "\n",
       "    .dataframe thead th {\n",
       "        text-align: right;\n",
       "    }\n",
       "</style>\n",
       "<table border=\"1\" class=\"dataframe\">\n",
       "  <thead>\n",
       "    <tr style=\"text-align: right;\">\n",
       "      <th></th>\n",
       "      <th>id</th>\n",
       "      <th>keywords</th>\n",
       "    </tr>\n",
       "  </thead>\n",
       "  <tbody>\n",
       "    <tr>\n",
       "      <th>0</th>\n",
       "      <td>862</td>\n",
       "      <td>[{\"id\": 931, \"name\": \"jealousy\"}, {\"id\": 4290,...</td>\n",
       "    </tr>\n",
       "    <tr>\n",
       "      <th>1</th>\n",
       "      <td>15602</td>\n",
       "      <td>[{\"id\": 1495, \"name\": \"fishing\"}, {\"id\": 12392...</td>\n",
       "    </tr>\n",
       "    <tr>\n",
       "      <th>2</th>\n",
       "      <td>31357</td>\n",
       "      <td>[{\"id\": 818, \"name\": \"based on novel\"}, {\"id\":...</td>\n",
       "    </tr>\n",
       "    <tr>\n",
       "      <th>3</th>\n",
       "      <td>11862</td>\n",
       "      <td>[{\"id\": 1009, \"name\": \"baby\"}, {\"id\": 1599, \"n...</td>\n",
       "    </tr>\n",
       "    <tr>\n",
       "      <th>4</th>\n",
       "      <td>949</td>\n",
       "      <td>[{\"id\": 642, \"name\": \"robbery\"}, {\"id\": 703, \"...</td>\n",
       "    </tr>\n",
       "    <tr>\n",
       "      <th>...</th>\n",
       "      <td>...</td>\n",
       "      <td>...</td>\n",
       "    </tr>\n",
       "    <tr>\n",
       "      <th>44799</th>\n",
       "      <td>439050</td>\n",
       "      <td>[{\"id\": 10703, \"name\": \"tragic love\"}]</td>\n",
       "    </tr>\n",
       "    <tr>\n",
       "      <th>44800</th>\n",
       "      <td>111109</td>\n",
       "      <td>[{\"id\": 2679, \"name\": \"artist\"}, {\"id\": 14531,...</td>\n",
       "    </tr>\n",
       "    <tr>\n",
       "      <th>44801</th>\n",
       "      <td>67758</td>\n",
       "      <td>[]</td>\n",
       "    </tr>\n",
       "    <tr>\n",
       "      <th>44802</th>\n",
       "      <td>227506</td>\n",
       "      <td>[]</td>\n",
       "    </tr>\n",
       "    <tr>\n",
       "      <th>44803</th>\n",
       "      <td>461257</td>\n",
       "      <td>[]</td>\n",
       "    </tr>\n",
       "  </tbody>\n",
       "</table>\n",
       "<p>44804 rows × 2 columns</p>\n",
       "</div>"
      ],
      "text/plain": [
       "           id                                           keywords\n",
       "0         862  [{\"id\": 931, \"name\": \"jealousy\"}, {\"id\": 4290,...\n",
       "1       15602  [{\"id\": 1495, \"name\": \"fishing\"}, {\"id\": 12392...\n",
       "2       31357  [{\"id\": 818, \"name\": \"based on novel\"}, {\"id\":...\n",
       "3       11862  [{\"id\": 1009, \"name\": \"baby\"}, {\"id\": 1599, \"n...\n",
       "4         949  [{\"id\": 642, \"name\": \"robbery\"}, {\"id\": 703, \"...\n",
       "...       ...                                                ...\n",
       "44799  439050             [{\"id\": 10703, \"name\": \"tragic love\"}]\n",
       "44800  111109  [{\"id\": 2679, \"name\": \"artist\"}, {\"id\": 14531,...\n",
       "44801   67758                                                 []\n",
       "44802  227506                                                 []\n",
       "44803  461257                                                 []\n",
       "\n",
       "[44804 rows x 2 columns]"
      ]
     },
     "execution_count": 54,
     "metadata": {},
     "output_type": "execute_result"
    }
   ],
   "source": [
    "new_keywords_df"
   ]
  },
  {
   "cell_type": "code",
   "execution_count": 55,
   "id": "43170f7b-dcca-4d19-849b-bbfddb7499cd",
   "metadata": {},
   "outputs": [
    {
     "data": {
      "text/plain": [
       "(44804, 2)"
      ]
     },
     "execution_count": 55,
     "metadata": {},
     "output_type": "execute_result"
    }
   ],
   "source": [
    "new_keywords_df.shape"
   ]
  },
  {
   "cell_type": "code",
   "execution_count": 56,
   "id": "0ff1b271-ecf3-4708-bf3d-073aa3f1d73d",
   "metadata": {},
   "outputs": [
    {
     "data": {
      "text/plain": [
       "True"
      ]
     },
     "execution_count": 56,
     "metadata": {},
     "output_type": "execute_result"
    }
   ],
   "source": [
    "new_keywords_df['keywords'].iloc[44803] == '[]'"
   ]
  },
  {
   "cell_type": "code",
   "execution_count": 57,
   "id": "c1f9fbb0-cda9-41b7-82dd-de4b9792f5bb",
   "metadata": {},
   "outputs": [],
   "source": [
    "# empty_list = []\n",
    "# for entry in new_keywords_df['keywords']:\n",
    "#     if entry == '[]':\n",
    "#         empty_list.append(entry.index)\n",
    "new_keywords_df = new_keywords_df[new_keywords_df['keywords'].apply(lambda entry : entry != '[]')]"
   ]
  },
  {
   "cell_type": "code",
   "execution_count": 58,
   "id": "2787f8b5-21c7-4fb7-adde-f17be8d32392",
   "metadata": {},
   "outputs": [
    {
     "data": {
      "text/plain": [
       "(30464, 2)"
      ]
     },
     "execution_count": 58,
     "metadata": {},
     "output_type": "execute_result"
    }
   ],
   "source": [
    "new_keywords_df.shape"
   ]
  },
  {
   "cell_type": "code",
   "execution_count": 59,
   "id": "9fd3ec85-8f2b-40b7-b822-517f540ff707",
   "metadata": {},
   "outputs": [
    {
     "data": {
      "text/html": [
       "<div>\n",
       "<style scoped>\n",
       "    .dataframe tbody tr th:only-of-type {\n",
       "        vertical-align: middle;\n",
       "    }\n",
       "\n",
       "    .dataframe tbody tr th {\n",
       "        vertical-align: top;\n",
       "    }\n",
       "\n",
       "    .dataframe thead th {\n",
       "        text-align: right;\n",
       "    }\n",
       "</style>\n",
       "<table border=\"1\" class=\"dataframe\">\n",
       "  <thead>\n",
       "    <tr style=\"text-align: right;\">\n",
       "      <th></th>\n",
       "      <th>id</th>\n",
       "      <th>keywords</th>\n",
       "    </tr>\n",
       "  </thead>\n",
       "  <tbody>\n",
       "    <tr>\n",
       "      <th>0</th>\n",
       "      <td>862</td>\n",
       "      <td>[{\"id\": 931, \"name\": \"jealousy\"}, {\"id\": 4290,...</td>\n",
       "    </tr>\n",
       "    <tr>\n",
       "      <th>1</th>\n",
       "      <td>15602</td>\n",
       "      <td>[{\"id\": 1495, \"name\": \"fishing\"}, {\"id\": 12392...</td>\n",
       "    </tr>\n",
       "    <tr>\n",
       "      <th>2</th>\n",
       "      <td>31357</td>\n",
       "      <td>[{\"id\": 818, \"name\": \"based on novel\"}, {\"id\":...</td>\n",
       "    </tr>\n",
       "    <tr>\n",
       "      <th>3</th>\n",
       "      <td>11862</td>\n",
       "      <td>[{\"id\": 1009, \"name\": \"baby\"}, {\"id\": 1599, \"n...</td>\n",
       "    </tr>\n",
       "    <tr>\n",
       "      <th>4</th>\n",
       "      <td>949</td>\n",
       "      <td>[{\"id\": 642, \"name\": \"robbery\"}, {\"id\": 703, \"...</td>\n",
       "    </tr>\n",
       "    <tr>\n",
       "      <th>...</th>\n",
       "      <td>...</td>\n",
       "      <td>...</td>\n",
       "    </tr>\n",
       "    <tr>\n",
       "      <th>44794</th>\n",
       "      <td>84419</td>\n",
       "      <td>[{\"id\": 9748, \"name\": \"revenge\"}, {\"id\": 9826,...</td>\n",
       "    </tr>\n",
       "    <tr>\n",
       "      <th>44795</th>\n",
       "      <td>390959</td>\n",
       "      <td>[{\"id\": 224180, \"name\": \"blair witch\"}]</td>\n",
       "    </tr>\n",
       "    <tr>\n",
       "      <th>44796</th>\n",
       "      <td>289923</td>\n",
       "      <td>[{\"id\": 616, \"name\": \"witch\"}, {\"id\": 2035, \"n...</td>\n",
       "    </tr>\n",
       "    <tr>\n",
       "      <th>44799</th>\n",
       "      <td>439050</td>\n",
       "      <td>[{\"id\": 10703, \"name\": \"tragic love\"}]</td>\n",
       "    </tr>\n",
       "    <tr>\n",
       "      <th>44800</th>\n",
       "      <td>111109</td>\n",
       "      <td>[{\"id\": 2679, \"name\": \"artist\"}, {\"id\": 14531,...</td>\n",
       "    </tr>\n",
       "  </tbody>\n",
       "</table>\n",
       "<p>30464 rows × 2 columns</p>\n",
       "</div>"
      ],
      "text/plain": [
       "           id                                           keywords\n",
       "0         862  [{\"id\": 931, \"name\": \"jealousy\"}, {\"id\": 4290,...\n",
       "1       15602  [{\"id\": 1495, \"name\": \"fishing\"}, {\"id\": 12392...\n",
       "2       31357  [{\"id\": 818, \"name\": \"based on novel\"}, {\"id\":...\n",
       "3       11862  [{\"id\": 1009, \"name\": \"baby\"}, {\"id\": 1599, \"n...\n",
       "4         949  [{\"id\": 642, \"name\": \"robbery\"}, {\"id\": 703, \"...\n",
       "...       ...                                                ...\n",
       "44794   84419  [{\"id\": 9748, \"name\": \"revenge\"}, {\"id\": 9826,...\n",
       "44795  390959            [{\"id\": 224180, \"name\": \"blair witch\"}]\n",
       "44796  289923  [{\"id\": 616, \"name\": \"witch\"}, {\"id\": 2035, \"n...\n",
       "44799  439050             [{\"id\": 10703, \"name\": \"tragic love\"}]\n",
       "44800  111109  [{\"id\": 2679, \"name\": \"artist\"}, {\"id\": 14531,...\n",
       "\n",
       "[30464 rows x 2 columns]"
      ]
     },
     "execution_count": 59,
     "metadata": {},
     "output_type": "execute_result"
    }
   ],
   "source": [
    "new_keywords_df"
   ]
  },
  {
   "cell_type": "code",
   "execution_count": 60,
   "id": "84624323-9e81-4ab0-a367-8f650b566152",
   "metadata": {},
   "outputs": [],
   "source": [
    "new_keywords_df.reset_index(drop=True, inplace=True)"
   ]
  },
  {
   "cell_type": "code",
   "execution_count": 61,
   "id": "46eba607-34fd-46a8-a7d5-6a847a6bce40",
   "metadata": {},
   "outputs": [
    {
     "data": {
      "text/html": [
       "<div>\n",
       "<style scoped>\n",
       "    .dataframe tbody tr th:only-of-type {\n",
       "        vertical-align: middle;\n",
       "    }\n",
       "\n",
       "    .dataframe tbody tr th {\n",
       "        vertical-align: top;\n",
       "    }\n",
       "\n",
       "    .dataframe thead th {\n",
       "        text-align: right;\n",
       "    }\n",
       "</style>\n",
       "<table border=\"1\" class=\"dataframe\">\n",
       "  <thead>\n",
       "    <tr style=\"text-align: right;\">\n",
       "      <th></th>\n",
       "      <th>id</th>\n",
       "      <th>keywords</th>\n",
       "    </tr>\n",
       "  </thead>\n",
       "  <tbody>\n",
       "    <tr>\n",
       "      <th>0</th>\n",
       "      <td>862</td>\n",
       "      <td>[{\"id\": 931, \"name\": \"jealousy\"}, {\"id\": 4290,...</td>\n",
       "    </tr>\n",
       "    <tr>\n",
       "      <th>1</th>\n",
       "      <td>15602</td>\n",
       "      <td>[{\"id\": 1495, \"name\": \"fishing\"}, {\"id\": 12392...</td>\n",
       "    </tr>\n",
       "    <tr>\n",
       "      <th>2</th>\n",
       "      <td>31357</td>\n",
       "      <td>[{\"id\": 818, \"name\": \"based on novel\"}, {\"id\":...</td>\n",
       "    </tr>\n",
       "    <tr>\n",
       "      <th>3</th>\n",
       "      <td>11862</td>\n",
       "      <td>[{\"id\": 1009, \"name\": \"baby\"}, {\"id\": 1599, \"n...</td>\n",
       "    </tr>\n",
       "    <tr>\n",
       "      <th>4</th>\n",
       "      <td>949</td>\n",
       "      <td>[{\"id\": 642, \"name\": \"robbery\"}, {\"id\": 703, \"...</td>\n",
       "    </tr>\n",
       "    <tr>\n",
       "      <th>...</th>\n",
       "      <td>...</td>\n",
       "      <td>...</td>\n",
       "    </tr>\n",
       "    <tr>\n",
       "      <th>30459</th>\n",
       "      <td>84419</td>\n",
       "      <td>[{\"id\": 9748, \"name\": \"revenge\"}, {\"id\": 9826,...</td>\n",
       "    </tr>\n",
       "    <tr>\n",
       "      <th>30460</th>\n",
       "      <td>390959</td>\n",
       "      <td>[{\"id\": 224180, \"name\": \"blair witch\"}]</td>\n",
       "    </tr>\n",
       "    <tr>\n",
       "      <th>30461</th>\n",
       "      <td>289923</td>\n",
       "      <td>[{\"id\": 616, \"name\": \"witch\"}, {\"id\": 2035, \"n...</td>\n",
       "    </tr>\n",
       "    <tr>\n",
       "      <th>30462</th>\n",
       "      <td>439050</td>\n",
       "      <td>[{\"id\": 10703, \"name\": \"tragic love\"}]</td>\n",
       "    </tr>\n",
       "    <tr>\n",
       "      <th>30463</th>\n",
       "      <td>111109</td>\n",
       "      <td>[{\"id\": 2679, \"name\": \"artist\"}, {\"id\": 14531,...</td>\n",
       "    </tr>\n",
       "  </tbody>\n",
       "</table>\n",
       "<p>30464 rows × 2 columns</p>\n",
       "</div>"
      ],
      "text/plain": [
       "           id                                           keywords\n",
       "0         862  [{\"id\": 931, \"name\": \"jealousy\"}, {\"id\": 4290,...\n",
       "1       15602  [{\"id\": 1495, \"name\": \"fishing\"}, {\"id\": 12392...\n",
       "2       31357  [{\"id\": 818, \"name\": \"based on novel\"}, {\"id\":...\n",
       "3       11862  [{\"id\": 1009, \"name\": \"baby\"}, {\"id\": 1599, \"n...\n",
       "4         949  [{\"id\": 642, \"name\": \"robbery\"}, {\"id\": 703, \"...\n",
       "...       ...                                                ...\n",
       "30459   84419  [{\"id\": 9748, \"name\": \"revenge\"}, {\"id\": 9826,...\n",
       "30460  390959            [{\"id\": 224180, \"name\": \"blair witch\"}]\n",
       "30461  289923  [{\"id\": 616, \"name\": \"witch\"}, {\"id\": 2035, \"n...\n",
       "30462  439050             [{\"id\": 10703, \"name\": \"tragic love\"}]\n",
       "30463  111109  [{\"id\": 2679, \"name\": \"artist\"}, {\"id\": 14531,...\n",
       "\n",
       "[30464 rows x 2 columns]"
      ]
     },
     "execution_count": 61,
     "metadata": {},
     "output_type": "execute_result"
    }
   ],
   "source": [
    "new_keywords_df"
   ]
  },
  {
   "cell_type": "code",
   "execution_count": 62,
   "id": "2b8813fe-c0f8-491a-aa76-0d85be00263e",
   "metadata": {},
   "outputs": [],
   "source": [
    "# Now we extract keywords name from keywords column"
   ]
  },
  {
   "cell_type": "code",
   "execution_count": 63,
   "id": "2f4782c0-50dc-41c4-8291-6356a9b72454",
   "metadata": {},
   "outputs": [
    {
     "name": "stderr",
     "output_type": "stream",
     "text": [
      "/tmp/ipykernel_1729985/1692557842.py:1: SettingWithCopyWarning: \n",
      "A value is trying to be set on a copy of a slice from a DataFrame.\n",
      "Try using .loc[row_indexer,col_indexer] = value instead\n",
      "\n",
      "See the caveats in the documentation: https://pandas.pydata.org/pandas-docs/stable/user_guide/indexing.html#returning-a-view-versus-a-copy\n",
      "  new_keywords_df['keywords'] = new_keywords_df['keywords'].apply(lambda x: [entry[\"name\"] for entry in json.loads(x)])\n"
     ]
    }
   ],
   "source": [
    "new_keywords_df['keywords'] = new_keywords_df['keywords'].apply(lambda x: [entry[\"name\"] for entry in json.loads(x)])\n",
    "\n",
    "# new_keywords_df = new_keywords_df['keywords'].apply(lambda x: [entry[\"name\"] for entry in json.load(x)])"
   ]
  },
  {
   "cell_type": "code",
   "execution_count": 64,
   "id": "b929e563-a273-489e-90f1-7f66fa61441c",
   "metadata": {},
   "outputs": [
    {
     "data": {
      "text/html": [
       "<div>\n",
       "<style scoped>\n",
       "    .dataframe tbody tr th:only-of-type {\n",
       "        vertical-align: middle;\n",
       "    }\n",
       "\n",
       "    .dataframe tbody tr th {\n",
       "        vertical-align: top;\n",
       "    }\n",
       "\n",
       "    .dataframe thead th {\n",
       "        text-align: right;\n",
       "    }\n",
       "</style>\n",
       "<table border=\"1\" class=\"dataframe\">\n",
       "  <thead>\n",
       "    <tr style=\"text-align: right;\">\n",
       "      <th></th>\n",
       "      <th>id</th>\n",
       "      <th>keywords</th>\n",
       "    </tr>\n",
       "  </thead>\n",
       "  <tbody>\n",
       "    <tr>\n",
       "      <th>0</th>\n",
       "      <td>862</td>\n",
       "      <td>[jealousy, toy, boy, friendship, friends, riva...</td>\n",
       "    </tr>\n",
       "    <tr>\n",
       "      <th>1</th>\n",
       "      <td>15602</td>\n",
       "      <td>[fishing, best friend, duringcreditsstinger, o...</td>\n",
       "    </tr>\n",
       "    <tr>\n",
       "      <th>2</th>\n",
       "      <td>31357</td>\n",
       "      <td>[based on novel, interracial relationship, sin...</td>\n",
       "    </tr>\n",
       "    <tr>\n",
       "      <th>3</th>\n",
       "      <td>11862</td>\n",
       "      <td>[baby, midlife crisis, confidence, aging, daug...</td>\n",
       "    </tr>\n",
       "    <tr>\n",
       "      <th>4</th>\n",
       "      <td>949</td>\n",
       "      <td>[robbery, detective, bank, obsession, chase, s...</td>\n",
       "    </tr>\n",
       "  </tbody>\n",
       "</table>\n",
       "</div>"
      ],
      "text/plain": [
       "      id                                           keywords\n",
       "0    862  [jealousy, toy, boy, friendship, friends, riva...\n",
       "1  15602  [fishing, best friend, duringcreditsstinger, o...\n",
       "2  31357  [based on novel, interracial relationship, sin...\n",
       "3  11862  [baby, midlife crisis, confidence, aging, daug...\n",
       "4    949  [robbery, detective, bank, obsession, chase, s..."
      ]
     },
     "execution_count": 64,
     "metadata": {},
     "output_type": "execute_result"
    }
   ],
   "source": [
    "new_keywords_df.head()"
   ]
  },
  {
   "cell_type": "code",
   "execution_count": 65,
   "id": "a31d65af-82f6-42d8-a89c-50248779062f",
   "metadata": {},
   "outputs": [],
   "source": [
    "import pickle\n",
    "pickle.dump(new_keywords_df,open('../backend/processed_data/keywords_info.pkl', 'wb'))"
   ]
  },
  {
   "cell_type": "markdown",
   "id": "c653d476-e288-40fe-91a2-72a6c05785dc",
   "metadata": {},
   "source": [
    "#### 🤣 finding the problem took my whole day\n",
    "#### problem some data contain \\' and some contain '\n",
    "#### 👉 keywords_data['keywords'].iloc[1]\n",
    "#### '[{\\'id\\': 10090, \\'name\\': \\'board game\\'}, {\\'id\\': 10941, \\'name\\': \\'disappearance\\'}, {\\'id\\': 15101, \\'name\\': \"based on children\\'s book\"}, {\\'id\\': 33467, \\'name\\': \\'new home\\'}, {\\'id\\': 158086, \\'name\\': \\'recluse\\'}, {\\'id\\': 158091, \\'name\\': \\'giant insect\\'}]'\n",
    "#### keywords_data['keywords'].iloc[0]\n",
    "#### \"[{'id': 931, 'name': 'jealousy'}, {'id': 4290, 'name': 'toy'}, {'id': 5202, 'name': 'boy'}, {'id': 6054, 'name': 'friendship'}, {'id': 9713, 'name': 'friends'}, {'id': 9823, 'name': 'rivalry'}, {'id': 165503, 'name': 'boy next door'}, {'id': 170722, 'name': 'new toy'}, {'id': 187065, 'name': 'toy comes to life'}]\"\n",
    "\n",
    "\n",
    "#### edit: again took whole day 😡\n",
    "#### data got currupted\n",
    "#### value inside \"name\" contains double quote also get converted on converting the single quote to double quote.\n",
    "#### eg. children's -> children\"s in second row -> \\'name\\': \"based on children\\'s book\" 🤬\n",
    "#### it is a severe problem 👹 without solving it, json will get delimitter error\n",
    "#### try converting \\'name\\' to 'name' and \\'id'\\ to 'id'\n",
    "\n",
    "#### result : we need to remove the rows that got currpted after converting \\' to \" or use regular expression to remove correct the data\n",
    "\n",
    "#### later i found keywords have empty json data so i filtered them\n",
    "#### my reaction: finally i can proceed 💆"
   ]
  },
  {
   "cell_type": "code",
   "execution_count": null,
   "id": "6c3957ee-ee0d-4318-83ad-e24ca16a75bd",
   "metadata": {},
   "outputs": [],
   "source": []
  },
  {
   "cell_type": "code",
   "execution_count": 66,
   "id": "4c634b74-dc86-4cbb-a484-94de39a167c9",
   "metadata": {},
   "outputs": [],
   "source": [
    "# Next we will take only those row from ratings dataframe which contain movie keyword in new_keywords_df"
   ]
  },
  {
   "cell_type": "code",
   "execution_count": 67,
   "id": "c0beb3e3-27c0-488c-9abc-20f9fcf5adcb",
   "metadata": {},
   "outputs": [],
   "source": [
    "# create map of entries present in new_keywords_df to get keywords list easily"
   ]
  },
  {
   "cell_type": "code",
   "execution_count": 68,
   "id": "5b826b62-981b-45ea-b86a-63978def9840",
   "metadata": {},
   "outputs": [],
   "source": [
    "my_map = list(enumerate(keywords_data['id']))\n",
    "mymap = {value: key for key, value in my_map}"
   ]
  },
  {
   "cell_type": "code",
   "execution_count": 69,
   "id": "ad5674b0-8ac4-4c79-bd42-7880813ba588",
   "metadata": {},
   "outputs": [],
   "source": [
    "# we will use this list to feed neurons so that they will understand the pattern"
   ]
  },
  {
   "cell_type": "markdown",
   "id": "712f8abf-31ce-4ba4-bc21-e2f33aac4b9d",
   "metadata": {},
   "source": [
    "### PROCESSING RATINGS DATA"
   ]
  },
  {
   "cell_type": "code",
   "execution_count": 70,
   "id": "87e93b56-3607-4e8a-bbd3-cab6094a2c97",
   "metadata": {},
   "outputs": [],
   "source": [
    "# print(mymap)"
   ]
  },
  {
   "cell_type": "code",
   "execution_count": 71,
   "id": "cb9519c5-444c-44ee-b607-3c25fdb04579",
   "metadata": {},
   "outputs": [],
   "source": [
    "new_ratings_df = pd.DataFrame(ratings)"
   ]
  },
  {
   "cell_type": "code",
   "execution_count": 72,
   "id": "b9410b31-d265-40f6-97df-4aa15fd6dcc3",
   "metadata": {},
   "outputs": [],
   "source": [
    "def myfilter(movieId):\n",
    "    if movieId in mymap:\n",
    "        return True\n",
    "    else:\n",
    "        return False"
   ]
  },
  {
   "cell_type": "code",
   "execution_count": 73,
   "id": "9ebe0aee-8831-482c-b8fc-d44ed260ef38",
   "metadata": {},
   "outputs": [],
   "source": [
    "new_ratings_df = new_ratings_df[new_ratings_df['movieId'].apply(myfilter)]"
   ]
  },
  {
   "cell_type": "code",
   "execution_count": 74,
   "id": "988d8cb7-5bd4-4077-882b-700387981d43",
   "metadata": {},
   "outputs": [],
   "source": [
    "if 1221 in mymap:\n",
    "    print(\"exist\")"
   ]
  },
  {
   "cell_type": "code",
   "execution_count": 75,
   "id": "195ba642-5418-4ae7-96c1-2fa86ce2f561",
   "metadata": {},
   "outputs": [
    {
     "data": {
      "text/plain": [
       "(11436568, 4)"
      ]
     },
     "execution_count": 75,
     "metadata": {},
     "output_type": "execute_result"
    }
   ],
   "source": [
    "new_ratings_df.shape"
   ]
  },
  {
   "cell_type": "code",
   "execution_count": 76,
   "id": "5d377893-3dc6-4441-9e06-372ac7699e91",
   "metadata": {},
   "outputs": [
    {
     "data": {
      "text/plain": [
       "(26024289, 4)"
      ]
     },
     "execution_count": 76,
     "metadata": {},
     "output_type": "execute_result"
    }
   ],
   "source": [
    "ratings.shape"
   ]
  },
  {
   "cell_type": "code",
   "execution_count": 77,
   "id": "db56c34a-5975-49a4-b5b0-b7c859df1e0f",
   "metadata": {},
   "outputs": [
    {
     "name": "stdout",
     "output_type": "stream",
     "text": [
      "Last key: 862, Last value: 0\n"
     ]
    }
   ],
   "source": [
    "last_key, last_value = next(iter(mymap.items()))\n",
    "print(f\"Last key: {last_key}, Last value: {last_value}\")"
   ]
  },
  {
   "cell_type": "code",
   "execution_count": 78,
   "id": "650d4eea-2df1-423b-ab8e-a56ebe2104c7",
   "metadata": {},
   "outputs": [],
   "source": [
    "# checking keys are integer type\n",
    "for key, val in mymap.items():\n",
    "    if type(key) != int:\n",
    "        print(f\"Invalid type {type(key)} at index {val}\")"
   ]
  },
  {
   "cell_type": "code",
   "execution_count": 79,
   "id": "108f8e33-da65-4832-a067-2cf43e37af58",
   "metadata": {},
   "outputs": [],
   "source": [
    "# checking movieId in new_ratings_df are integer\n",
    "for movie_id in new_ratings_df['movieId']:\n",
    "    if type(movie_id) != int:\n",
    "        print(f\"movieId {movie_id} is {type(movie_id)}\")"
   ]
  },
  {
   "cell_type": "code",
   "execution_count": 80,
   "id": "3c25327e-15fe-4629-8741-9fe4946bfca9",
   "metadata": {},
   "outputs": [],
   "source": [
    "l = set()\n",
    "def extract_keywords(movieId):\n",
    "    try:\n",
    "        return new_keywords_df['keywords'].iloc[mymap[movieId]]\n",
    "    except IndexError as e:\n",
    "        l.add(movieId)\n",
    "        l.add(type(movieId))"
   ]
  },
  {
   "cell_type": "code",
   "execution_count": 81,
   "id": "4b4865b0-bed3-4320-a394-7e012a0334c2",
   "metadata": {},
   "outputs": [],
   "source": [
    "# new_ratings_df['keywords'] = new_ratings_df['movieId'].apply(extract_keywords)"
   ]
  },
  {
   "cell_type": "code",
   "execution_count": 82,
   "id": "5a481bfb-2c50-47fc-968f-586a32ae53a0",
   "metadata": {},
   "outputs": [
    {
     "data": {
      "text/plain": [
       "0"
      ]
     },
     "execution_count": 82,
     "metadata": {},
     "output_type": "execute_result"
    }
   ],
   "source": [
    "len(l)"
   ]
  },
  {
   "cell_type": "code",
   "execution_count": 83,
   "id": "4481b8d5-f03b-47b3-a924-dec7979e3eda",
   "metadata": {},
   "outputs": [],
   "source": [
    "# print(l, end=' ')"
   ]
  },
  {
   "cell_type": "code",
   "execution_count": 84,
   "id": "05c6c873-bf63-453b-bf04-078e3395094d",
   "metadata": {},
   "outputs": [],
   "source": [
    "# if 131074 in mymap:\n",
    "#     print(\"exist\")"
   ]
  },
  {
   "cell_type": "code",
   "execution_count": 85,
   "id": "0465f72c-02e2-47d0-b584-763bff8eed0c",
   "metadata": {},
   "outputs": [],
   "source": [
    "# new_keywords_df['keywords'].iloc[mymap[131074]]\n",
    "\n",
    "# -> result : IndexError\n",
    "\n",
    "# Important ->\n",
    "# Conclusion : list of data inside l are not available in new_keywords_df which result in single positional indexer in out of bound eror"
   ]
  },
  {
   "cell_type": "code",
   "execution_count": 86,
   "id": "53f177c9-7c49-4d46-9275-86330d9a145b",
   "metadata": {},
   "outputs": [
    {
     "data": {
      "text/plain": [
       "(11436568, 4)"
      ]
     },
     "execution_count": 86,
     "metadata": {},
     "output_type": "execute_result"
    }
   ],
   "source": [
    "new_ratings_df.shape"
   ]
  },
  {
   "cell_type": "code",
   "execution_count": 87,
   "id": "ff34ce2a-e97b-4423-8487-1c040c176380",
   "metadata": {},
   "outputs": [
    {
     "data": {
      "text/html": [
       "<div>\n",
       "<style scoped>\n",
       "    .dataframe tbody tr th:only-of-type {\n",
       "        vertical-align: middle;\n",
       "    }\n",
       "\n",
       "    .dataframe tbody tr th {\n",
       "        vertical-align: top;\n",
       "    }\n",
       "\n",
       "    .dataframe thead th {\n",
       "        text-align: right;\n",
       "    }\n",
       "</style>\n",
       "<table border=\"1\" class=\"dataframe\">\n",
       "  <thead>\n",
       "    <tr style=\"text-align: right;\">\n",
       "      <th></th>\n",
       "      <th>userId</th>\n",
       "      <th>movieId</th>\n",
       "      <th>rating</th>\n",
       "      <th>timestamp</th>\n",
       "    </tr>\n",
       "  </thead>\n",
       "  <tbody>\n",
       "    <tr>\n",
       "      <th>0</th>\n",
       "      <td>1</td>\n",
       "      <td>110</td>\n",
       "      <td>1.0</td>\n",
       "      <td>1425941529</td>\n",
       "    </tr>\n",
       "    <tr>\n",
       "      <th>1</th>\n",
       "      <td>1</td>\n",
       "      <td>147</td>\n",
       "      <td>4.5</td>\n",
       "      <td>1425942435</td>\n",
       "    </tr>\n",
       "    <tr>\n",
       "      <th>2</th>\n",
       "      <td>1</td>\n",
       "      <td>858</td>\n",
       "      <td>5.0</td>\n",
       "      <td>1425941523</td>\n",
       "    </tr>\n",
       "    <tr>\n",
       "      <th>4</th>\n",
       "      <td>1</td>\n",
       "      <td>1246</td>\n",
       "      <td>5.0</td>\n",
       "      <td>1425941556</td>\n",
       "    </tr>\n",
       "    <tr>\n",
       "      <th>5</th>\n",
       "      <td>1</td>\n",
       "      <td>1968</td>\n",
       "      <td>4.0</td>\n",
       "      <td>1425942148</td>\n",
       "    </tr>\n",
       "  </tbody>\n",
       "</table>\n",
       "</div>"
      ],
      "text/plain": [
       "   userId  movieId  rating   timestamp\n",
       "0       1      110     1.0  1425941529\n",
       "1       1      147     4.5  1425942435\n",
       "2       1      858     5.0  1425941523\n",
       "4       1     1246     5.0  1425941556\n",
       "5       1     1968     4.0  1425942148"
      ]
     },
     "execution_count": 87,
     "metadata": {},
     "output_type": "execute_result"
    }
   ],
   "source": [
    "new_ratings_df.head()"
   ]
  },
  {
   "cell_type": "code",
   "execution_count": 88,
   "id": "42245c04-50d4-4bd5-ba05-8efd19fe42da",
   "metadata": {},
   "outputs": [],
   "source": [
    "# store processed ratings data\n",
    "# pickle.dump(new_ratings_df, open('../backend/processed_data/new_ratings_df.pkl','wb'))"
   ]
  },
  {
   "cell_type": "code",
   "execution_count": 89,
   "id": "a0853b75-9358-467c-a459-bd06d1f50972",
   "metadata": {},
   "outputs": [],
   "source": [
    "# !ls ../backend/processed_data/"
   ]
  },
  {
   "cell_type": "code",
   "execution_count": null,
   "id": "3684969e-0507-41f5-8024-567258be5a28",
   "metadata": {},
   "outputs": [],
   "source": []
  },
  {
   "cell_type": "markdown",
   "id": "851612bf-127c-47f5-9c72-82c8774f22da",
   "metadata": {},
   "source": [
    "#### RESULT : We have processed ratings and keywords data in new_ratings_df\n",
    "- TODO: extract movies keyword from movies dataset using TF_IDF algo in overview column"
   ]
  },
  {
   "cell_type": "code",
   "execution_count": null,
   "id": "e99ce132-c79f-435c-baaf-d2e11645ccee",
   "metadata": {},
   "outputs": [],
   "source": [
    "# Remove the user who do not rate movies mostly"
   ]
  },
  {
   "cell_type": "code",
   "execution_count": 144,
   "id": "03e57963-db25-4d28-8f02-e35c0d7a2417",
   "metadata": {},
   "outputs": [
    {
     "name": "stdout",
     "output_type": "stream",
     "text": [
      "3593\n",
      "1\n"
     ]
    }
   ],
   "source": [
    "# lets check minimum and maximum vote by user\n",
    "\n",
    "user_freq = new_ratings_df['userId'].value_counts()\n",
    "\n",
    "max_freq = user_freq.max()\n",
    "min_freq = user_freq.min()\n",
    "\n",
    "print(max_freq)\n",
    "print(min_freq)"
   ]
  },
  {
   "cell_type": "code",
   "execution_count": 149,
   "id": "39080d04-d3c7-4443-99be-176d74e3dc2b",
   "metadata": {},
   "outputs": [
    {
     "name": "stdout",
     "output_type": "stream",
     "text": [
      "92647\n"
     ]
    }
   ],
   "source": [
    "no_of_valid_users = len(user_freq[user_freq >= 30])\n",
    "print(no_of_valid_users)"
   ]
  },
  {
   "cell_type": "code",
   "execution_count": 150,
   "id": "3fc51538-dc02-4942-9a9d-85d500033f62",
   "metadata": {},
   "outputs": [
    {
     "data": {
      "text/plain": [
       "np.float64(43.00803634216692)"
      ]
     },
     "execution_count": 150,
     "metadata": {},
     "output_type": "execute_result"
    }
   ],
   "source": [
    "user_freq.mean()"
   ]
  },
  {
   "cell_type": "code",
   "execution_count": 165,
   "id": "b20e22f9-5ed6-4ff3-9449-abbf052f53cf",
   "metadata": {},
   "outputs": [
    {
     "data": {
      "image/png": "[encoded data removed]",
      "text/plain": [
       "<Figure size 1000x600 with 1 Axes>"
      ]
     },
     "metadata": {},
     "output_type": "display_data"
    }
   ],
   "source": [
    "plt.figure(figsize=(10, 6))\n",
    "plt.hist(user_freq, bins=50, color='blue', edgecolor='black', alpha=0.7)\n",
    "plt.title('User Frequency Distribution')\n",
    "plt.xlabel('Number of Ratings per User')\n",
    "plt.ylabel('Number of Users')\n",
    "plt.grid(axis='y', linestyle='--', alpha=0.7)\n",
    "plt.show()"
   ]
  },
  {
   "cell_type": "code",
   "execution_count": 177,
   "id": "ef6ce595-d599-4669-8888-92567e650d40",
   "metadata": {},
   "outputs": [
    {
     "name": "stdout",
     "output_type": "stream",
     "text": [
      "There are 1199 no of users who rated more than 500 movies\n"
     ]
    }
   ],
   "source": [
    "user_rated_gt_500 = len(user_freq[user_freq >= 500])\n",
    "print(f\"There are {user_rated_gt_500} no of users who rated more than 500 movies\")"
   ]
  },
  {
   "cell_type": "markdown",
   "id": "9ea315b2-9476-48b5-b1b6-b09f315e19ed",
   "metadata": {},
   "source": [
    "    Conclusion : Our user distriution is skewed. There are 1199 user who rated more than 500 movies."
   ]
  },
  {
   "cell_type": "code",
   "execution_count": 178,
   "id": "8b1b2f7b-e285-404b-a489-67ee2e506672",
   "metadata": {},
   "outputs": [
    {
     "data": {
      "image/png": "[encoded data removed]",
      "text/plain": [
       "<Figure size 1000x600 with 1 Axes>"
      ]
     },
     "metadata": {},
     "output_type": "display_data"
    }
   ],
   "source": [
    "plt.figure(figsize=(10, 6))\n",
    "\n",
    "# top 20 users from series of user_freq\n",
    "top_users = user_freq.head(20)\n",
    "\n",
    "plt.figure(figsize=(10, 6))\n",
    "top_users.plot(kind='bar', color='green', edgecolor='black', alpha=0.8)\n",
    "plt.title('Top 20 Users with Most Ratings')\n",
    "plt.xlabel('User ID')\n",
    "plt.ylabel('Number of Ratings')\n",
    "plt.xticks(rotation=45)\n",
    "plt.grid(axis='y', linestyle='--', alpha=0.7)\n",
    "plt.show()"
   ]
  },
  {
   "cell_type": "markdown",
   "id": "ec073b80-e93c-4a11-86ce-d85c210bb2c8",
   "metadata": {},
   "source": [
    "    Conclusion: above are the top 20 regular users which rated most of the movies"
   ]
  },
  {
   "cell_type": "code",
   "execution_count": null,
   "id": "930e0a34-0455-4d27-a9bb-415db15a2ba3",
   "metadata": {},
   "outputs": [],
   "source": []
  },
  {
   "cell_type": "markdown",
   "id": "554e9693-086c-486a-a5bd-b457880c15a7",
   "metadata": {},
   "source": [
    "## Modeling\n",
    "\n",
    "We have processed the ratings and keywords and store it in new_ratings_df. we have to now create a model to understand the pattern and using this we will build our recommendation system."
   ]
  },
  {
   "cell_type": "markdown",
   "id": "9e219229-7530-4c27-97b3-898b626678fa",
   "metadata": {},
   "source": [
    "# Recommendation System\n",
    "\n",
    "A **Recommendation System** is a machine learning model designed to suggest items to users based on their preferences, interests, ratings and item similarity. It helps reduce the time users spend manually for searching the items of his interest. Recommendation systems are widely used in various domains like e-commerce, streaming platforms, and social media.\n",
    "Recommendation System mainly categories into 3 parts.\n",
    "1. **Popularity-Based Recommendation**\n",
    "2. **Content-Based Recommendation**\n",
    "3. **Collaborative Filtering**\n",
    "\n",
    "## 1. **Popularity Based Recommendation:**\n",
    "This type of recommendation system suggests items that are trending or popular among all users, irrespective of their individual preferences.\n",
    "For example:\n",
    "\n",
    "- The trending section on Netflix recommends shows or movies that are widely viewed by other users.\n",
    "- The \"Trending Now\" section on X (formerly Twitter) highlights trending posts or topics.\n",
    "    \n",
    "## 2. **Content based filtering**:\n",
    "This Model used the feature of the currently visited or liked item by the user like if a user like a movie of genre action and comedy. Model will recommmend him similar movie containing same tags (action and comedy). To do show we use vectorization technique(eg. TF-IDF, count_vectorizer) and cosine similarity.\n",
    "## 3. **Collaborative filtering**:\n",
    "It used the idea of similarity in preference and co-occurence of the item.\n",
    "It is called collaborative because it used collabortion of various user and items to suggest items.\n",
    "Collaborative Filtering is further divided into:\n",
    "\n",
    "1. **Neighbourhood based approach**\n",
    "2. **Model Based Approaches**\n",
    "\n",
    "### 3.1 **Neighbourhood based approach:**\n",
    "This method identifies users or items with similar preferences.\n",
    "- **User-Based Filtering:**\n",
    "\n",
    "    - Finds users (neighbors) with similar preferences or behavior.\n",
    "    - Predicts how likely a user is to like an item based on the preferences of similar users.\n",
    "    - Example: If User A and User B have rated the same movies highly, a movie liked by User A but not yet watched by User B may be recommended to User B.\n",
    "\n",
    "- **Item-Based Filtering:**\n",
    "\n",
    "    - Focuses on the similarity between items based on user interactions.\n",
    "    - Uses a co-occurrence matrix that records how often items are interacted with together.\n",
    "    - Items are ranked and sorted based on similarity scores.\n",
    "    - Example: If a user liked Movie A and Movie B, a new user liking Movie A might also be recommended Movie B.\n",
    "User and item based filtering both uses nearest neighbour learning algorithm(**KNN**). As we know KNN is a run time algorithm and in any instant there is a million or billion of items and users, it will become memory consuming and takes lots of time. so during the run time, this is not a good approach in recommendation system.\n",
    "User and Item based filtering both are classification method.\n",
    "\n",
    "### 3.2 **Model Based Approach**\n",
    "These approaches use advanced algorithms to build more scalable and accurate recommendation systems.\n",
    "i) **Clustering-Based Filtering**\n",
    "ii) **Matrix Factorization**\n",
    "iii) **Deep Learning-Based Approaches**"
   ]
  },
  {
   "cell_type": "code",
   "execution_count": 90,
   "id": "bf0a333f-0c32-4b8b-a690-d0e7463c175f",
   "metadata": {},
   "outputs": [],
   "source": [
    "# We can use collaborative filtering in both user rating and content. First we will machine learning on ratings then on content.\n",
    "# Then we will apply deep learning in both ratings and content. Then we will try to make a hybrid recommendation system, we will make an \n",
    "# order that what should we apply first to recommend.\n",
    "\n",
    "# Let's first make a user-movie matrix which contain rating and apply machine learning and deep learning."
   ]
  },
  {
   "cell_type": "code",
   "execution_count": 108,
   "id": "0a12f723-c29b-4cbf-a882-ba58839ac82a",
   "metadata": {},
   "outputs": [],
   "source": [
    "df = new_ratings_df[0:200000]"
   ]
  },
  {
   "cell_type": "code",
   "execution_count": 109,
   "id": "3c6b64de-1fdc-4288-8a61-3513cd9894ae",
   "metadata": {},
   "outputs": [
    {
     "data": {
      "text/html": [
       "<div>\n",
       "<style scoped>\n",
       "    .dataframe tbody tr th:only-of-type {\n",
       "        vertical-align: middle;\n",
       "    }\n",
       "\n",
       "    .dataframe tbody tr th {\n",
       "        vertical-align: top;\n",
       "    }\n",
       "\n",
       "    .dataframe thead th {\n",
       "        text-align: right;\n",
       "    }\n",
       "</style>\n",
       "<table border=\"1\" class=\"dataframe\">\n",
       "  <thead>\n",
       "    <tr style=\"text-align: right;\">\n",
       "      <th></th>\n",
       "      <th>userId</th>\n",
       "      <th>movieId</th>\n",
       "      <th>rating</th>\n",
       "      <th>timestamp</th>\n",
       "    </tr>\n",
       "  </thead>\n",
       "  <tbody>\n",
       "    <tr>\n",
       "      <th>0</th>\n",
       "      <td>1</td>\n",
       "      <td>110</td>\n",
       "      <td>1.0</td>\n",
       "      <td>1425941529</td>\n",
       "    </tr>\n",
       "    <tr>\n",
       "      <th>1</th>\n",
       "      <td>1</td>\n",
       "      <td>147</td>\n",
       "      <td>4.5</td>\n",
       "      <td>1425942435</td>\n",
       "    </tr>\n",
       "    <tr>\n",
       "      <th>2</th>\n",
       "      <td>1</td>\n",
       "      <td>858</td>\n",
       "      <td>5.0</td>\n",
       "      <td>1425941523</td>\n",
       "    </tr>\n",
       "    <tr>\n",
       "      <th>4</th>\n",
       "      <td>1</td>\n",
       "      <td>1246</td>\n",
       "      <td>5.0</td>\n",
       "      <td>1425941556</td>\n",
       "    </tr>\n",
       "    <tr>\n",
       "      <th>5</th>\n",
       "      <td>1</td>\n",
       "      <td>1968</td>\n",
       "      <td>4.0</td>\n",
       "      <td>1425942148</td>\n",
       "    </tr>\n",
       "    <tr>\n",
       "      <th>6</th>\n",
       "      <td>1</td>\n",
       "      <td>2762</td>\n",
       "      <td>4.5</td>\n",
       "      <td>1425941300</td>\n",
       "    </tr>\n",
       "    <tr>\n",
       "      <th>8</th>\n",
       "      <td>1</td>\n",
       "      <td>2959</td>\n",
       "      <td>4.0</td>\n",
       "      <td>1425941601</td>\n",
       "    </tr>\n",
       "    <tr>\n",
       "      <th>9</th>\n",
       "      <td>1</td>\n",
       "      <td>4226</td>\n",
       "      <td>4.0</td>\n",
       "      <td>1425942228</td>\n",
       "    </tr>\n",
       "    <tr>\n",
       "      <th>13</th>\n",
       "      <td>1</td>\n",
       "      <td>54503</td>\n",
       "      <td>3.5</td>\n",
       "      <td>1425941313</td>\n",
       "    </tr>\n",
       "    <tr>\n",
       "      <th>14</th>\n",
       "      <td>1</td>\n",
       "      <td>58559</td>\n",
       "      <td>4.0</td>\n",
       "      <td>1425942007</td>\n",
       "    </tr>\n",
       "    <tr>\n",
       "      <th>23</th>\n",
       "      <td>1</td>\n",
       "      <td>96821</td>\n",
       "      <td>5.0</td>\n",
       "      <td>1425941382</td>\n",
       "    </tr>\n",
       "    <tr>\n",
       "      <th>27</th>\n",
       "      <td>2</td>\n",
       "      <td>5</td>\n",
       "      <td>3.0</td>\n",
       "      <td>867039249</td>\n",
       "    </tr>\n",
       "    <tr>\n",
       "      <th>28</th>\n",
       "      <td>2</td>\n",
       "      <td>25</td>\n",
       "      <td>3.0</td>\n",
       "      <td>867039168</td>\n",
       "    </tr>\n",
       "    <tr>\n",
       "      <th>30</th>\n",
       "      <td>2</td>\n",
       "      <td>58</td>\n",
       "      <td>3.0</td>\n",
       "      <td>867039325</td>\n",
       "    </tr>\n",
       "    <tr>\n",
       "      <th>31</th>\n",
       "      <td>2</td>\n",
       "      <td>64</td>\n",
       "      <td>4.0</td>\n",
       "      <td>867039612</td>\n",
       "    </tr>\n",
       "    <tr>\n",
       "      <th>32</th>\n",
       "      <td>2</td>\n",
       "      <td>79</td>\n",
       "      <td>4.0</td>\n",
       "      <td>867039325</td>\n",
       "    </tr>\n",
       "    <tr>\n",
       "      <th>33</th>\n",
       "      <td>2</td>\n",
       "      <td>141</td>\n",
       "      <td>3.0</td>\n",
       "      <td>867039168</td>\n",
       "    </tr>\n",
       "    <tr>\n",
       "      <th>34</th>\n",
       "      <td>2</td>\n",
       "      <td>260</td>\n",
       "      <td>4.0</td>\n",
       "      <td>867039249</td>\n",
       "    </tr>\n",
       "    <tr>\n",
       "      <th>35</th>\n",
       "      <td>2</td>\n",
       "      <td>339</td>\n",
       "      <td>5.0</td>\n",
       "      <td>867041296</td>\n",
       "    </tr>\n",
       "    <tr>\n",
       "      <th>36</th>\n",
       "      <td>2</td>\n",
       "      <td>377</td>\n",
       "      <td>4.0</td>\n",
       "      <td>867041121</td>\n",
       "    </tr>\n",
       "  </tbody>\n",
       "</table>\n",
       "</div>"
      ],
      "text/plain": [
       "    userId  movieId  rating   timestamp\n",
       "0        1      110     1.0  1425941529\n",
       "1        1      147     4.5  1425942435\n",
       "2        1      858     5.0  1425941523\n",
       "4        1     1246     5.0  1425941556\n",
       "5        1     1968     4.0  1425942148\n",
       "6        1     2762     4.5  1425941300\n",
       "8        1     2959     4.0  1425941601\n",
       "9        1     4226     4.0  1425942228\n",
       "13       1    54503     3.5  1425941313\n",
       "14       1    58559     4.0  1425942007\n",
       "23       1    96821     5.0  1425941382\n",
       "27       2        5     3.0   867039249\n",
       "28       2       25     3.0   867039168\n",
       "30       2       58     3.0   867039325\n",
       "31       2       64     4.0   867039612\n",
       "32       2       79     4.0   867039325\n",
       "33       2      141     3.0   867039168\n",
       "34       2      260     4.0   867039249\n",
       "35       2      339     5.0   867041296\n",
       "36       2      377     4.0   867041121"
      ]
     },
     "execution_count": 109,
     "metadata": {},
     "output_type": "execute_result"
    }
   ],
   "source": [
    "df.head(20)"
   ]
  },
  {
   "cell_type": "code",
   "execution_count": 110,
   "id": "e3cae989-b521-4346-831c-55c3b5e7b93a",
   "metadata": {},
   "outputs": [
    {
     "data": {
      "text/html": [
       "<div>\n",
       "<style scoped>\n",
       "    .dataframe tbody tr th:only-of-type {\n",
       "        vertical-align: middle;\n",
       "    }\n",
       "\n",
       "    .dataframe tbody tr th {\n",
       "        vertical-align: top;\n",
       "    }\n",
       "\n",
       "    .dataframe thead th {\n",
       "        text-align: right;\n",
       "    }\n",
       "</style>\n",
       "<table border=\"1\" class=\"dataframe\">\n",
       "  <thead>\n",
       "    <tr style=\"text-align: right;\">\n",
       "      <th></th>\n",
       "      <th>userId</th>\n",
       "      <th>movieId</th>\n",
       "      <th>rating</th>\n",
       "      <th>timestamp</th>\n",
       "    </tr>\n",
       "  </thead>\n",
       "  <tbody>\n",
       "    <tr>\n",
       "      <th>458202</th>\n",
       "      <td>4744</td>\n",
       "      <td>1688</td>\n",
       "      <td>2.5</td>\n",
       "      <td>1461456424</td>\n",
       "    </tr>\n",
       "    <tr>\n",
       "      <th>458203</th>\n",
       "      <td>4744</td>\n",
       "      <td>1701</td>\n",
       "      <td>2.0</td>\n",
       "      <td>1461457679</td>\n",
       "    </tr>\n",
       "    <tr>\n",
       "      <th>458204</th>\n",
       "      <td>4744</td>\n",
       "      <td>1732</td>\n",
       "      <td>3.5</td>\n",
       "      <td>1461375787</td>\n",
       "    </tr>\n",
       "    <tr>\n",
       "      <th>458205</th>\n",
       "      <td>4744</td>\n",
       "      <td>1907</td>\n",
       "      <td>3.5</td>\n",
       "      <td>1461376259</td>\n",
       "    </tr>\n",
       "    <tr>\n",
       "      <th>458207</th>\n",
       "      <td>4744</td>\n",
       "      <td>1954</td>\n",
       "      <td>3.0</td>\n",
       "      <td>1461376371</td>\n",
       "    </tr>\n",
       "    <tr>\n",
       "      <th>458208</th>\n",
       "      <td>4744</td>\n",
       "      <td>1968</td>\n",
       "      <td>3.0</td>\n",
       "      <td>1461455706</td>\n",
       "    </tr>\n",
       "    <tr>\n",
       "      <th>458209</th>\n",
       "      <td>4744</td>\n",
       "      <td>2011</td>\n",
       "      <td>3.0</td>\n",
       "      <td>1461376212</td>\n",
       "    </tr>\n",
       "    <tr>\n",
       "      <th>458210</th>\n",
       "      <td>4744</td>\n",
       "      <td>2012</td>\n",
       "      <td>3.0</td>\n",
       "      <td>1461376428</td>\n",
       "    </tr>\n",
       "    <tr>\n",
       "      <th>458212</th>\n",
       "      <td>4744</td>\n",
       "      <td>2078</td>\n",
       "      <td>3.0</td>\n",
       "      <td>1461376201</td>\n",
       "    </tr>\n",
       "  </tbody>\n",
       "</table>\n",
       "</div>"
      ],
      "text/plain": [
       "        userId  movieId  rating   timestamp\n",
       "458202    4744     1688     2.5  1461456424\n",
       "458203    4744     1701     2.0  1461457679\n",
       "458204    4744     1732     3.5  1461375787\n",
       "458205    4744     1907     3.5  1461376259\n",
       "458207    4744     1954     3.0  1461376371\n",
       "458208    4744     1968     3.0  1461455706\n",
       "458209    4744     2011     3.0  1461376212\n",
       "458210    4744     2012     3.0  1461376428\n",
       "458212    4744     2078     3.0  1461376201"
      ]
     },
     "execution_count": 110,
     "metadata": {},
     "output_type": "execute_result"
    }
   ],
   "source": [
    "df[-10:-1]"
   ]
  },
  {
   "cell_type": "code",
   "execution_count": 111,
   "id": "c72df0ef-ef4c-4ca8-b3f8-ec572f8f0dd1",
   "metadata": {},
   "outputs": [
    {
     "data": {
      "text/html": [
       "<div>\n",
       "<style scoped>\n",
       "    .dataframe tbody tr th:only-of-type {\n",
       "        vertical-align: middle;\n",
       "    }\n",
       "\n",
       "    .dataframe tbody tr th {\n",
       "        vertical-align: top;\n",
       "    }\n",
       "\n",
       "    .dataframe thead th {\n",
       "        text-align: right;\n",
       "    }\n",
       "</style>\n",
       "<table border=\"1\" class=\"dataframe\">\n",
       "  <thead>\n",
       "    <tr style=\"text-align: right;\">\n",
       "      <th></th>\n",
       "      <th>userId</th>\n",
       "      <th>movieId</th>\n",
       "      <th>rating</th>\n",
       "    </tr>\n",
       "  </thead>\n",
       "  <tbody>\n",
       "    <tr>\n",
       "      <th>0</th>\n",
       "      <td>1</td>\n",
       "      <td>110</td>\n",
       "      <td>1.0</td>\n",
       "    </tr>\n",
       "    <tr>\n",
       "      <th>1</th>\n",
       "      <td>1</td>\n",
       "      <td>147</td>\n",
       "      <td>4.5</td>\n",
       "    </tr>\n",
       "    <tr>\n",
       "      <th>2</th>\n",
       "      <td>1</td>\n",
       "      <td>858</td>\n",
       "      <td>5.0</td>\n",
       "    </tr>\n",
       "    <tr>\n",
       "      <th>4</th>\n",
       "      <td>1</td>\n",
       "      <td>1246</td>\n",
       "      <td>5.0</td>\n",
       "    </tr>\n",
       "    <tr>\n",
       "      <th>5</th>\n",
       "      <td>1</td>\n",
       "      <td>1968</td>\n",
       "      <td>4.0</td>\n",
       "    </tr>\n",
       "    <tr>\n",
       "      <th>...</th>\n",
       "      <td>...</td>\n",
       "      <td>...</td>\n",
       "      <td>...</td>\n",
       "    </tr>\n",
       "    <tr>\n",
       "      <th>458208</th>\n",
       "      <td>4744</td>\n",
       "      <td>1968</td>\n",
       "      <td>3.0</td>\n",
       "    </tr>\n",
       "    <tr>\n",
       "      <th>458209</th>\n",
       "      <td>4744</td>\n",
       "      <td>2011</td>\n",
       "      <td>3.0</td>\n",
       "    </tr>\n",
       "    <tr>\n",
       "      <th>458210</th>\n",
       "      <td>4744</td>\n",
       "      <td>2012</td>\n",
       "      <td>3.0</td>\n",
       "    </tr>\n",
       "    <tr>\n",
       "      <th>458212</th>\n",
       "      <td>4744</td>\n",
       "      <td>2078</td>\n",
       "      <td>3.0</td>\n",
       "    </tr>\n",
       "    <tr>\n",
       "      <th>458215</th>\n",
       "      <td>4744</td>\n",
       "      <td>2176</td>\n",
       "      <td>3.0</td>\n",
       "    </tr>\n",
       "  </tbody>\n",
       "</table>\n",
       "<p>200000 rows × 3 columns</p>\n",
       "</div>"
      ],
      "text/plain": [
       "        userId  movieId  rating\n",
       "0            1      110     1.0\n",
       "1            1      147     4.5\n",
       "2            1      858     5.0\n",
       "4            1     1246     5.0\n",
       "5            1     1968     4.0\n",
       "...        ...      ...     ...\n",
       "458208    4744     1968     3.0\n",
       "458209    4744     2011     3.0\n",
       "458210    4744     2012     3.0\n",
       "458212    4744     2078     3.0\n",
       "458215    4744     2176     3.0\n",
       "\n",
       "[200000 rows x 3 columns]"
      ]
     },
     "execution_count": 111,
     "metadata": {},
     "output_type": "execute_result"
    }
   ],
   "source": [
    "df.drop(columns=['timestamp'])"
   ]
  },
  {
   "cell_type": "code",
   "execution_count": 112,
   "id": "830e3808-ac1b-4973-8b2c-92ffbb223fe6",
   "metadata": {},
   "outputs": [
    {
     "data": {
      "text/plain": [
       "True"
      ]
     },
     "execution_count": 112,
     "metadata": {},
     "output_type": "execute_result"
    }
   ],
   "source": [
    "df['userId'].is_monotonic_increasing"
   ]
  },
  {
   "cell_type": "code",
   "execution_count": 113,
   "id": "b72c0c86-1510-4c69-abd6-302df52fb55e",
   "metadata": {},
   "outputs": [],
   "source": [
    "rows = df['userId'].unique()\n",
    "cols = df['movieId'].unique()"
   ]
  },
  {
   "cell_type": "code",
   "execution_count": 114,
   "id": "e3dbc6ab-2738-4aa3-bb7f-f467a48bfe16",
   "metadata": {},
   "outputs": [
    {
     "data": {
      "text/plain": [
       "4655"
      ]
     },
     "execution_count": 114,
     "metadata": {},
     "output_type": "execute_result"
    }
   ],
   "source": [
    "len(rows)"
   ]
  },
  {
   "cell_type": "code",
   "execution_count": 115,
   "id": "f581d27a-9816-4372-9385-70fd7b21407d",
   "metadata": {},
   "outputs": [
    {
     "data": {
      "text/plain": [
       "3973"
      ]
     },
     "execution_count": 115,
     "metadata": {},
     "output_type": "execute_result"
    }
   ],
   "source": [
    "len(cols)"
   ]
  },
  {
   "cell_type": "code",
   "execution_count": 116,
   "id": "f2765bd7-676d-4f3c-97ab-cbca5e2656a8",
   "metadata": {},
   "outputs": [],
   "source": [
    "user_ratings_df = pd.DataFrame(index = rows, columns=cols, data=np.nan)"
   ]
  },
  {
   "cell_type": "code",
   "execution_count": 117,
   "id": "86fc6b33-c761-4a6b-8686-997d3ac8e9b3",
   "metadata": {},
   "outputs": [
    {
     "data": {
      "text/html": [
       "<div>\n",
       "<style scoped>\n",
       "    .dataframe tbody tr th:only-of-type {\n",
       "        vertical-align: middle;\n",
       "    }\n",
       "\n",
       "    .dataframe tbody tr th {\n",
       "        vertical-align: top;\n",
       "    }\n",
       "\n",
       "    .dataframe thead th {\n",
       "        text-align: right;\n",
       "    }\n",
       "</style>\n",
       "<table border=\"1\" class=\"dataframe\">\n",
       "  <thead>\n",
       "    <tr style=\"text-align: right;\">\n",
       "      <th></th>\n",
       "      <th>110</th>\n",
       "      <th>147</th>\n",
       "      <th>858</th>\n",
       "      <th>1246</th>\n",
       "      <th>1968</th>\n",
       "      <th>2762</th>\n",
       "      <th>2959</th>\n",
       "      <th>4226</th>\n",
       "      <th>54503</th>\n",
       "      <th>58559</th>\n",
       "      <th>...</th>\n",
       "      <th>49526</th>\n",
       "      <th>27095</th>\n",
       "      <th>139575</th>\n",
       "      <th>4307</th>\n",
       "      <th>7985</th>\n",
       "      <th>31680</th>\n",
       "      <th>51991</th>\n",
       "      <th>5996</th>\n",
       "      <th>32834</th>\n",
       "      <th>71688</th>\n",
       "    </tr>\n",
       "  </thead>\n",
       "  <tbody>\n",
       "    <tr>\n",
       "      <th>1</th>\n",
       "      <td>NaN</td>\n",
       "      <td>NaN</td>\n",
       "      <td>NaN</td>\n",
       "      <td>NaN</td>\n",
       "      <td>NaN</td>\n",
       "      <td>NaN</td>\n",
       "      <td>NaN</td>\n",
       "      <td>NaN</td>\n",
       "      <td>NaN</td>\n",
       "      <td>NaN</td>\n",
       "      <td>...</td>\n",
       "      <td>NaN</td>\n",
       "      <td>NaN</td>\n",
       "      <td>NaN</td>\n",
       "      <td>NaN</td>\n",
       "      <td>NaN</td>\n",
       "      <td>NaN</td>\n",
       "      <td>NaN</td>\n",
       "      <td>NaN</td>\n",
       "      <td>NaN</td>\n",
       "      <td>NaN</td>\n",
       "    </tr>\n",
       "    <tr>\n",
       "      <th>2</th>\n",
       "      <td>NaN</td>\n",
       "      <td>NaN</td>\n",
       "      <td>NaN</td>\n",
       "      <td>NaN</td>\n",
       "      <td>NaN</td>\n",
       "      <td>NaN</td>\n",
       "      <td>NaN</td>\n",
       "      <td>NaN</td>\n",
       "      <td>NaN</td>\n",
       "      <td>NaN</td>\n",
       "      <td>...</td>\n",
       "      <td>NaN</td>\n",
       "      <td>NaN</td>\n",
       "      <td>NaN</td>\n",
       "      <td>NaN</td>\n",
       "      <td>NaN</td>\n",
       "      <td>NaN</td>\n",
       "      <td>NaN</td>\n",
       "      <td>NaN</td>\n",
       "      <td>NaN</td>\n",
       "      <td>NaN</td>\n",
       "    </tr>\n",
       "    <tr>\n",
       "      <th>3</th>\n",
       "      <td>NaN</td>\n",
       "      <td>NaN</td>\n",
       "      <td>NaN</td>\n",
       "      <td>NaN</td>\n",
       "      <td>NaN</td>\n",
       "      <td>NaN</td>\n",
       "      <td>NaN</td>\n",
       "      <td>NaN</td>\n",
       "      <td>NaN</td>\n",
       "      <td>NaN</td>\n",
       "      <td>...</td>\n",
       "      <td>NaN</td>\n",
       "      <td>NaN</td>\n",
       "      <td>NaN</td>\n",
       "      <td>NaN</td>\n",
       "      <td>NaN</td>\n",
       "      <td>NaN</td>\n",
       "      <td>NaN</td>\n",
       "      <td>NaN</td>\n",
       "      <td>NaN</td>\n",
       "      <td>NaN</td>\n",
       "    </tr>\n",
       "    <tr>\n",
       "      <th>4</th>\n",
       "      <td>NaN</td>\n",
       "      <td>NaN</td>\n",
       "      <td>NaN</td>\n",
       "      <td>NaN</td>\n",
       "      <td>NaN</td>\n",
       "      <td>NaN</td>\n",
       "      <td>NaN</td>\n",
       "      <td>NaN</td>\n",
       "      <td>NaN</td>\n",
       "      <td>NaN</td>\n",
       "      <td>...</td>\n",
       "      <td>NaN</td>\n",
       "      <td>NaN</td>\n",
       "      <td>NaN</td>\n",
       "      <td>NaN</td>\n",
       "      <td>NaN</td>\n",
       "      <td>NaN</td>\n",
       "      <td>NaN</td>\n",
       "      <td>NaN</td>\n",
       "      <td>NaN</td>\n",
       "      <td>NaN</td>\n",
       "    </tr>\n",
       "    <tr>\n",
       "      <th>5</th>\n",
       "      <td>NaN</td>\n",
       "      <td>NaN</td>\n",
       "      <td>NaN</td>\n",
       "      <td>NaN</td>\n",
       "      <td>NaN</td>\n",
       "      <td>NaN</td>\n",
       "      <td>NaN</td>\n",
       "      <td>NaN</td>\n",
       "      <td>NaN</td>\n",
       "      <td>NaN</td>\n",
       "      <td>...</td>\n",
       "      <td>NaN</td>\n",
       "      <td>NaN</td>\n",
       "      <td>NaN</td>\n",
       "      <td>NaN</td>\n",
       "      <td>NaN</td>\n",
       "      <td>NaN</td>\n",
       "      <td>NaN</td>\n",
       "      <td>NaN</td>\n",
       "      <td>NaN</td>\n",
       "      <td>NaN</td>\n",
       "    </tr>\n",
       "  </tbody>\n",
       "</table>\n",
       "<p>5 rows × 3973 columns</p>\n",
       "</div>"
      ],
      "text/plain": [
       "   110     147     858     1246    1968    2762    2959    4226    54503   \\\n",
       "1     NaN     NaN     NaN     NaN     NaN     NaN     NaN     NaN     NaN   \n",
       "2     NaN     NaN     NaN     NaN     NaN     NaN     NaN     NaN     NaN   \n",
       "3     NaN     NaN     NaN     NaN     NaN     NaN     NaN     NaN     NaN   \n",
       "4     NaN     NaN     NaN     NaN     NaN     NaN     NaN     NaN     NaN   \n",
       "5     NaN     NaN     NaN     NaN     NaN     NaN     NaN     NaN     NaN   \n",
       "\n",
       "   58559   ...  49526   27095   139575  4307    7985    31680   51991   \\\n",
       "1     NaN  ...     NaN     NaN     NaN     NaN     NaN     NaN     NaN   \n",
       "2     NaN  ...     NaN     NaN     NaN     NaN     NaN     NaN     NaN   \n",
       "3     NaN  ...     NaN     NaN     NaN     NaN     NaN     NaN     NaN   \n",
       "4     NaN  ...     NaN     NaN     NaN     NaN     NaN     NaN     NaN   \n",
       "5     NaN  ...     NaN     NaN     NaN     NaN     NaN     NaN     NaN   \n",
       "\n",
       "   5996    32834   71688   \n",
       "1     NaN     NaN     NaN  \n",
       "2     NaN     NaN     NaN  \n",
       "3     NaN     NaN     NaN  \n",
       "4     NaN     NaN     NaN  \n",
       "5     NaN     NaN     NaN  \n",
       "\n",
       "[5 rows x 3973 columns]"
      ]
     },
     "execution_count": 117,
     "metadata": {},
     "output_type": "execute_result"
    }
   ],
   "source": [
    "user_ratings_df.head()"
   ]
  },
  {
   "cell_type": "code",
   "execution_count": 118,
   "id": "1eeacd01-e4df-4944-bf8a-1299f74d2ce1",
   "metadata": {},
   "outputs": [],
   "source": [
    "# user_ratings_df = df.pivot_table(index='userId', columns='movieId', values='rating', fill_value=0)"
   ]
  },
  {
   "cell_type": "code",
   "execution_count": 119,
   "id": "1fb767a2-6abd-4860-b118-b5c1e2570b97",
   "metadata": {},
   "outputs": [],
   "source": [
    "for _, row in df.iterrows():\n",
    "    user = row['userId']\n",
    "    movie = row['movieId']\n",
    "    rating = row['rating']\n",
    "    user_ratings_df.loc[user, movie] = rating"
   ]
  },
  {
   "cell_type": "code",
   "execution_count": 120,
   "id": "044eac30-565f-47d2-a121-8e448c6acee7",
   "metadata": {},
   "outputs": [
    {
     "data": {
      "text/html": [
       "<div>\n",
       "<style scoped>\n",
       "    .dataframe tbody tr th:only-of-type {\n",
       "        vertical-align: middle;\n",
       "    }\n",
       "\n",
       "    .dataframe tbody tr th {\n",
       "        vertical-align: top;\n",
       "    }\n",
       "\n",
       "    .dataframe thead th {\n",
       "        text-align: right;\n",
       "    }\n",
       "</style>\n",
       "<table border=\"1\" class=\"dataframe\">\n",
       "  <thead>\n",
       "    <tr style=\"text-align: right;\">\n",
       "      <th></th>\n",
       "      <th>110</th>\n",
       "      <th>147</th>\n",
       "      <th>858</th>\n",
       "      <th>1246</th>\n",
       "      <th>1968</th>\n",
       "      <th>2762</th>\n",
       "      <th>2959</th>\n",
       "      <th>4226</th>\n",
       "      <th>54503</th>\n",
       "      <th>58559</th>\n",
       "      <th>...</th>\n",
       "      <th>49526</th>\n",
       "      <th>27095</th>\n",
       "      <th>139575</th>\n",
       "      <th>4307</th>\n",
       "      <th>7985</th>\n",
       "      <th>31680</th>\n",
       "      <th>51991</th>\n",
       "      <th>5996</th>\n",
       "      <th>32834</th>\n",
       "      <th>71688</th>\n",
       "    </tr>\n",
       "  </thead>\n",
       "  <tbody>\n",
       "    <tr>\n",
       "      <th>1</th>\n",
       "      <td>1.0</td>\n",
       "      <td>4.5</td>\n",
       "      <td>5.0</td>\n",
       "      <td>5.0</td>\n",
       "      <td>4.0</td>\n",
       "      <td>4.5</td>\n",
       "      <td>4.0</td>\n",
       "      <td>4.0</td>\n",
       "      <td>3.5</td>\n",
       "      <td>4.0</td>\n",
       "      <td>...</td>\n",
       "      <td>NaN</td>\n",
       "      <td>NaN</td>\n",
       "      <td>NaN</td>\n",
       "      <td>NaN</td>\n",
       "      <td>NaN</td>\n",
       "      <td>NaN</td>\n",
       "      <td>NaN</td>\n",
       "      <td>NaN</td>\n",
       "      <td>NaN</td>\n",
       "      <td>NaN</td>\n",
       "    </tr>\n",
       "    <tr>\n",
       "      <th>2</th>\n",
       "      <td>NaN</td>\n",
       "      <td>NaN</td>\n",
       "      <td>NaN</td>\n",
       "      <td>NaN</td>\n",
       "      <td>NaN</td>\n",
       "      <td>NaN</td>\n",
       "      <td>NaN</td>\n",
       "      <td>NaN</td>\n",
       "      <td>NaN</td>\n",
       "      <td>NaN</td>\n",
       "      <td>...</td>\n",
       "      <td>NaN</td>\n",
       "      <td>NaN</td>\n",
       "      <td>NaN</td>\n",
       "      <td>NaN</td>\n",
       "      <td>NaN</td>\n",
       "      <td>NaN</td>\n",
       "      <td>NaN</td>\n",
       "      <td>NaN</td>\n",
       "      <td>NaN</td>\n",
       "      <td>NaN</td>\n",
       "    </tr>\n",
       "    <tr>\n",
       "      <th>3</th>\n",
       "      <td>NaN</td>\n",
       "      <td>NaN</td>\n",
       "      <td>4.0</td>\n",
       "      <td>NaN</td>\n",
       "      <td>3.0</td>\n",
       "      <td>NaN</td>\n",
       "      <td>NaN</td>\n",
       "      <td>NaN</td>\n",
       "      <td>NaN</td>\n",
       "      <td>NaN</td>\n",
       "      <td>...</td>\n",
       "      <td>NaN</td>\n",
       "      <td>NaN</td>\n",
       "      <td>NaN</td>\n",
       "      <td>NaN</td>\n",
       "      <td>NaN</td>\n",
       "      <td>NaN</td>\n",
       "      <td>NaN</td>\n",
       "      <td>NaN</td>\n",
       "      <td>NaN</td>\n",
       "      <td>NaN</td>\n",
       "    </tr>\n",
       "    <tr>\n",
       "      <th>4</th>\n",
       "      <td>NaN</td>\n",
       "      <td>NaN</td>\n",
       "      <td>NaN</td>\n",
       "      <td>NaN</td>\n",
       "      <td>NaN</td>\n",
       "      <td>5.0</td>\n",
       "      <td>NaN</td>\n",
       "      <td>3.0</td>\n",
       "      <td>NaN</td>\n",
       "      <td>NaN</td>\n",
       "      <td>...</td>\n",
       "      <td>NaN</td>\n",
       "      <td>NaN</td>\n",
       "      <td>NaN</td>\n",
       "      <td>NaN</td>\n",
       "      <td>NaN</td>\n",
       "      <td>NaN</td>\n",
       "      <td>NaN</td>\n",
       "      <td>NaN</td>\n",
       "      <td>NaN</td>\n",
       "      <td>NaN</td>\n",
       "    </tr>\n",
       "    <tr>\n",
       "      <th>5</th>\n",
       "      <td>NaN</td>\n",
       "      <td>NaN</td>\n",
       "      <td>5.0</td>\n",
       "      <td>NaN</td>\n",
       "      <td>NaN</td>\n",
       "      <td>NaN</td>\n",
       "      <td>NaN</td>\n",
       "      <td>NaN</td>\n",
       "      <td>NaN</td>\n",
       "      <td>NaN</td>\n",
       "      <td>...</td>\n",
       "      <td>NaN</td>\n",
       "      <td>NaN</td>\n",
       "      <td>NaN</td>\n",
       "      <td>NaN</td>\n",
       "      <td>NaN</td>\n",
       "      <td>NaN</td>\n",
       "      <td>NaN</td>\n",
       "      <td>NaN</td>\n",
       "      <td>NaN</td>\n",
       "      <td>NaN</td>\n",
       "    </tr>\n",
       "  </tbody>\n",
       "</table>\n",
       "<p>5 rows × 3973 columns</p>\n",
       "</div>"
      ],
      "text/plain": [
       "   110     147     858     1246    1968    2762    2959    4226    54503   \\\n",
       "1     1.0     4.5     5.0     5.0     4.0     4.5     4.0     4.0     3.5   \n",
       "2     NaN     NaN     NaN     NaN     NaN     NaN     NaN     NaN     NaN   \n",
       "3     NaN     NaN     4.0     NaN     3.0     NaN     NaN     NaN     NaN   \n",
       "4     NaN     NaN     NaN     NaN     NaN     5.0     NaN     3.0     NaN   \n",
       "5     NaN     NaN     5.0     NaN     NaN     NaN     NaN     NaN     NaN   \n",
       "\n",
       "   58559   ...  49526   27095   139575  4307    7985    31680   51991   \\\n",
       "1     4.0  ...     NaN     NaN     NaN     NaN     NaN     NaN     NaN   \n",
       "2     NaN  ...     NaN     NaN     NaN     NaN     NaN     NaN     NaN   \n",
       "3     NaN  ...     NaN     NaN     NaN     NaN     NaN     NaN     NaN   \n",
       "4     NaN  ...     NaN     NaN     NaN     NaN     NaN     NaN     NaN   \n",
       "5     NaN  ...     NaN     NaN     NaN     NaN     NaN     NaN     NaN   \n",
       "\n",
       "   5996    32834   71688   \n",
       "1     NaN     NaN     NaN  \n",
       "2     NaN     NaN     NaN  \n",
       "3     NaN     NaN     NaN  \n",
       "4     NaN     NaN     NaN  \n",
       "5     NaN     NaN     NaN  \n",
       "\n",
       "[5 rows x 3973 columns]"
      ]
     },
     "execution_count": 120,
     "metadata": {},
     "output_type": "execute_result"
    }
   ],
   "source": [
    "user_ratings_df.head()"
   ]
  },
  {
   "cell_type": "code",
   "execution_count": 122,
   "id": "5421720d-709d-4be9-b486-5e6dafbdc8f3",
   "metadata": {},
   "outputs": [
    {
     "data": {
      "text/html": [
       "<div>\n",
       "<style scoped>\n",
       "    .dataframe tbody tr th:only-of-type {\n",
       "        vertical-align: middle;\n",
       "    }\n",
       "\n",
       "    .dataframe tbody tr th {\n",
       "        vertical-align: top;\n",
       "    }\n",
       "\n",
       "    .dataframe thead th {\n",
       "        text-align: right;\n",
       "    }\n",
       "</style>\n",
       "<table border=\"1\" class=\"dataframe\">\n",
       "  <thead>\n",
       "    <tr style=\"text-align: right;\">\n",
       "      <th></th>\n",
       "      <th>110</th>\n",
       "      <th>147</th>\n",
       "      <th>858</th>\n",
       "      <th>1246</th>\n",
       "      <th>1968</th>\n",
       "      <th>2762</th>\n",
       "      <th>2959</th>\n",
       "      <th>4226</th>\n",
       "      <th>54503</th>\n",
       "      <th>58559</th>\n",
       "      <th>...</th>\n",
       "      <th>49526</th>\n",
       "      <th>27095</th>\n",
       "      <th>139575</th>\n",
       "      <th>4307</th>\n",
       "      <th>7985</th>\n",
       "      <th>31680</th>\n",
       "      <th>51991</th>\n",
       "      <th>5996</th>\n",
       "      <th>32834</th>\n",
       "      <th>71688</th>\n",
       "    </tr>\n",
       "  </thead>\n",
       "  <tbody>\n",
       "    <tr>\n",
       "      <th>count</th>\n",
       "      <td>1162.000000</td>\n",
       "      <td>89.000000</td>\n",
       "      <td>1063.000000</td>\n",
       "      <td>449.000000</td>\n",
       "      <td>494.000000</td>\n",
       "      <td>914.000000</td>\n",
       "      <td>1074.000000</td>\n",
       "      <td>771.000000</td>\n",
       "      <td>204.000000</td>\n",
       "      <td>728.000000</td>\n",
       "      <td>...</td>\n",
       "      <td>1.0</td>\n",
       "      <td>1.0</td>\n",
       "      <td>1.0</td>\n",
       "      <td>1.0</td>\n",
       "      <td>1.0</td>\n",
       "      <td>1.0</td>\n",
       "      <td>1.0</td>\n",
       "      <td>1.0</td>\n",
       "      <td>1.0</td>\n",
       "      <td>1.0</td>\n",
       "    </tr>\n",
       "    <tr>\n",
       "      <th>mean</th>\n",
       "      <td>4.006454</td>\n",
       "      <td>3.353933</td>\n",
       "      <td>4.351834</td>\n",
       "      <td>3.922049</td>\n",
       "      <td>3.850202</td>\n",
       "      <td>4.010941</td>\n",
       "      <td>4.225791</td>\n",
       "      <td>4.171206</td>\n",
       "      <td>3.884804</td>\n",
       "      <td>4.150412</td>\n",
       "      <td>...</td>\n",
       "      <td>2.0</td>\n",
       "      <td>4.0</td>\n",
       "      <td>3.5</td>\n",
       "      <td>3.5</td>\n",
       "      <td>4.0</td>\n",
       "      <td>3.5</td>\n",
       "      <td>5.0</td>\n",
       "      <td>1.0</td>\n",
       "      <td>5.0</td>\n",
       "      <td>5.0</td>\n",
       "    </tr>\n",
       "    <tr>\n",
       "      <th>std</th>\n",
       "      <td>0.977878</td>\n",
       "      <td>1.042294</td>\n",
       "      <td>0.862164</td>\n",
       "      <td>0.872153</td>\n",
       "      <td>0.873796</td>\n",
       "      <td>0.876798</td>\n",
       "      <td>0.881621</td>\n",
       "      <td>0.778277</td>\n",
       "      <td>0.824630</td>\n",
       "      <td>0.895334</td>\n",
       "      <td>...</td>\n",
       "      <td>NaN</td>\n",
       "      <td>NaN</td>\n",
       "      <td>NaN</td>\n",
       "      <td>NaN</td>\n",
       "      <td>NaN</td>\n",
       "      <td>NaN</td>\n",
       "      <td>NaN</td>\n",
       "      <td>NaN</td>\n",
       "      <td>NaN</td>\n",
       "      <td>NaN</td>\n",
       "    </tr>\n",
       "    <tr>\n",
       "      <th>min</th>\n",
       "      <td>0.500000</td>\n",
       "      <td>0.500000</td>\n",
       "      <td>0.500000</td>\n",
       "      <td>0.500000</td>\n",
       "      <td>0.500000</td>\n",
       "      <td>0.500000</td>\n",
       "      <td>0.500000</td>\n",
       "      <td>0.500000</td>\n",
       "      <td>0.500000</td>\n",
       "      <td>0.500000</td>\n",
       "      <td>...</td>\n",
       "      <td>2.0</td>\n",
       "      <td>4.0</td>\n",
       "      <td>3.5</td>\n",
       "      <td>3.5</td>\n",
       "      <td>4.0</td>\n",
       "      <td>3.5</td>\n",
       "      <td>5.0</td>\n",
       "      <td>1.0</td>\n",
       "      <td>5.0</td>\n",
       "      <td>5.0</td>\n",
       "    </tr>\n",
       "    <tr>\n",
       "      <th>25%</th>\n",
       "      <td>3.500000</td>\n",
       "      <td>3.000000</td>\n",
       "      <td>4.000000</td>\n",
       "      <td>3.500000</td>\n",
       "      <td>3.000000</td>\n",
       "      <td>3.500000</td>\n",
       "      <td>4.000000</td>\n",
       "      <td>4.000000</td>\n",
       "      <td>3.500000</td>\n",
       "      <td>4.000000</td>\n",
       "      <td>...</td>\n",
       "      <td>2.0</td>\n",
       "      <td>4.0</td>\n",
       "      <td>3.5</td>\n",
       "      <td>3.5</td>\n",
       "      <td>4.0</td>\n",
       "      <td>3.5</td>\n",
       "      <td>5.0</td>\n",
       "      <td>1.0</td>\n",
       "      <td>5.0</td>\n",
       "      <td>5.0</td>\n",
       "    </tr>\n",
       "    <tr>\n",
       "      <th>50%</th>\n",
       "      <td>4.000000</td>\n",
       "      <td>3.000000</td>\n",
       "      <td>4.500000</td>\n",
       "      <td>4.000000</td>\n",
       "      <td>4.000000</td>\n",
       "      <td>4.000000</td>\n",
       "      <td>4.500000</td>\n",
       "      <td>4.000000</td>\n",
       "      <td>4.000000</td>\n",
       "      <td>4.500000</td>\n",
       "      <td>...</td>\n",
       "      <td>2.0</td>\n",
       "      <td>4.0</td>\n",
       "      <td>3.5</td>\n",
       "      <td>3.5</td>\n",
       "      <td>4.0</td>\n",
       "      <td>3.5</td>\n",
       "      <td>5.0</td>\n",
       "      <td>1.0</td>\n",
       "      <td>5.0</td>\n",
       "      <td>5.0</td>\n",
       "    </tr>\n",
       "    <tr>\n",
       "      <th>75%</th>\n",
       "      <td>5.000000</td>\n",
       "      <td>4.000000</td>\n",
       "      <td>5.000000</td>\n",
       "      <td>4.500000</td>\n",
       "      <td>4.500000</td>\n",
       "      <td>5.000000</td>\n",
       "      <td>5.000000</td>\n",
       "      <td>5.000000</td>\n",
       "      <td>4.500000</td>\n",
       "      <td>5.000000</td>\n",
       "      <td>...</td>\n",
       "      <td>2.0</td>\n",
       "      <td>4.0</td>\n",
       "      <td>3.5</td>\n",
       "      <td>3.5</td>\n",
       "      <td>4.0</td>\n",
       "      <td>3.5</td>\n",
       "      <td>5.0</td>\n",
       "      <td>1.0</td>\n",
       "      <td>5.0</td>\n",
       "      <td>5.0</td>\n",
       "    </tr>\n",
       "    <tr>\n",
       "      <th>max</th>\n",
       "      <td>5.000000</td>\n",
       "      <td>5.000000</td>\n",
       "      <td>5.000000</td>\n",
       "      <td>5.000000</td>\n",
       "      <td>5.000000</td>\n",
       "      <td>5.000000</td>\n",
       "      <td>5.000000</td>\n",
       "      <td>5.000000</td>\n",
       "      <td>5.000000</td>\n",
       "      <td>5.000000</td>\n",
       "      <td>...</td>\n",
       "      <td>2.0</td>\n",
       "      <td>4.0</td>\n",
       "      <td>3.5</td>\n",
       "      <td>3.5</td>\n",
       "      <td>4.0</td>\n",
       "      <td>3.5</td>\n",
       "      <td>5.0</td>\n",
       "      <td>1.0</td>\n",
       "      <td>5.0</td>\n",
       "      <td>5.0</td>\n",
       "    </tr>\n",
       "  </tbody>\n",
       "</table>\n",
       "<p>8 rows × 3973 columns</p>\n",
       "</div>"
      ],
      "text/plain": [
       "            110        147          858         1246        1968    \\\n",
       "count  1162.000000  89.000000  1063.000000  449.000000  494.000000   \n",
       "mean      4.006454   3.353933     4.351834    3.922049    3.850202   \n",
       "std       0.977878   1.042294     0.862164    0.872153    0.873796   \n",
       "min       0.500000   0.500000     0.500000    0.500000    0.500000   \n",
       "25%       3.500000   3.000000     4.000000    3.500000    3.000000   \n",
       "50%       4.000000   3.000000     4.500000    4.000000    4.000000   \n",
       "75%       5.000000   4.000000     5.000000    4.500000    4.500000   \n",
       "max       5.000000   5.000000     5.000000    5.000000    5.000000   \n",
       "\n",
       "           2762         2959        4226        54503       58559   ...  \\\n",
       "count  914.000000  1074.000000  771.000000  204.000000  728.000000  ...   \n",
       "mean     4.010941     4.225791    4.171206    3.884804    4.150412  ...   \n",
       "std      0.876798     0.881621    0.778277    0.824630    0.895334  ...   \n",
       "min      0.500000     0.500000    0.500000    0.500000    0.500000  ...   \n",
       "25%      3.500000     4.000000    4.000000    3.500000    4.000000  ...   \n",
       "50%      4.000000     4.500000    4.000000    4.000000    4.500000  ...   \n",
       "75%      5.000000     5.000000    5.000000    4.500000    5.000000  ...   \n",
       "max      5.000000     5.000000    5.000000    5.000000    5.000000  ...   \n",
       "\n",
       "       49526   27095   139575  4307    7985    31680   51991   5996    32834   \\\n",
       "count     1.0     1.0     1.0     1.0     1.0     1.0     1.0     1.0     1.0   \n",
       "mean      2.0     4.0     3.5     3.5     4.0     3.5     5.0     1.0     5.0   \n",
       "std       NaN     NaN     NaN     NaN     NaN     NaN     NaN     NaN     NaN   \n",
       "min       2.0     4.0     3.5     3.5     4.0     3.5     5.0     1.0     5.0   \n",
       "25%       2.0     4.0     3.5     3.5     4.0     3.5     5.0     1.0     5.0   \n",
       "50%       2.0     4.0     3.5     3.5     4.0     3.5     5.0     1.0     5.0   \n",
       "75%       2.0     4.0     3.5     3.5     4.0     3.5     5.0     1.0     5.0   \n",
       "max       2.0     4.0     3.5     3.5     4.0     3.5     5.0     1.0     5.0   \n",
       "\n",
       "       71688   \n",
       "count     1.0  \n",
       "mean      5.0  \n",
       "std       NaN  \n",
       "min       5.0  \n",
       "25%       5.0  \n",
       "50%       5.0  \n",
       "75%       5.0  \n",
       "max       5.0  \n",
       "\n",
       "[8 rows x 3973 columns]"
      ]
     },
     "execution_count": 122,
     "metadata": {},
     "output_type": "execute_result"
    }
   ],
   "source": [
    "user_ratings_df.describe()"
   ]
  },
  {
   "cell_type": "code",
   "execution_count": null,
   "id": "e42c7175-1b53-4eaa-8e69-b7ae3bed16f1",
   "metadata": {},
   "outputs": [],
   "source": []
  }
 ],
 "metadata": {
  "kernelspec": {
   "display_name": "Python 3 (ipykernel)",
   "language": "python",
   "name": "python3"
  },
  "language_info": {
   "codemirror_mode": {
    "name": "ipython",
    "version": 3
   },
   "file_extension": ".py",
   "mimetype": "text/x-python",
   "name": "python",
   "nbconvert_exporter": "python",
   "pygments_lexer": "ipython3",
   "version": "3.12.8"
  }
 },
 "nbformat": 4,
 "nbformat_minor": 5
}
