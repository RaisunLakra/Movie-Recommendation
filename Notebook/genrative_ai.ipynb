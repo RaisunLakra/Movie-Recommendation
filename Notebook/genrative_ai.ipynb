{
 "cells": [
  {
   "cell_type": "code",
   "execution_count": 1,
   "id": "4f5a07eb-b2c1-49aa-8f7a-4b6b8a903703",
   "metadata": {},
   "outputs": [],
   "source": [
    "# user generative ai to fine tune and see result"
   ]
  },
  {
   "cell_type": "code",
   "execution_count": null,
   "id": "dadcad25-b9ca-4a59-a711-ed1979ea1409",
   "metadata": {},
   "outputs": [],
   "source": []
  }
 ],
 "metadata": {
  "kernelspec": {
   "display_name": "Python 3 (ipykernel)",
   "language": "python",
   "name": "python3"
  },
  "language_info": {
   "codemirror_mode": {
    "name": "ipython",
    "version": 3
   },
   "file_extension": ".py",
   "mimetype": "text/x-python",
   "name": "python",
   "nbconvert_exporter": "python",
   "pygments_lexer": "ipython3",
   "version": "3.12.8"
  }
 },
 "nbformat": 4,
 "nbformat_minor": 5
}
