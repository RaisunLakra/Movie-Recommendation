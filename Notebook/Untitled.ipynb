{
 "cells": [
  {
   "cell_type": "code",
   "execution_count": 11,
   "id": "eb8ba6eb-aa91-47d8-8714-8eba57dc8ee8",
   "metadata": {},
   "outputs": [],
   "source": [
    "import pandas as pd\n",
    "import numpy as np\n",
    "import tensorflow as tf\n",
    "import tensorflow_recommenders as tfrs"
   ]
  },
  {
   "cell_type": "code",
   "execution_count": 33,
   "id": "63ee142a-fef5-47d7-8560-49bccc93b3ba",
   "metadata": {},
   "outputs": [],
   "source": [
    "df = pd.read_csv('../datasets/ratings.csv')"
   ]
  },
  {
   "cell_type": "code",
   "execution_count": 34,
   "id": "1fb19faf-f3e5-4e14-b9d3-a0ee8e603e23",
   "metadata": {},
   "outputs": [
    {
     "data": {
      "text/html": [
       "<div>\n",
       "<style scoped>\n",
       "    .dataframe tbody tr th:only-of-type {\n",
       "        vertical-align: middle;\n",
       "    }\n",
       "\n",
       "    .dataframe tbody tr th {\n",
       "        vertical-align: top;\n",
       "    }\n",
       "\n",
       "    .dataframe thead th {\n",
       "        text-align: right;\n",
       "    }\n",
       "</style>\n",
       "<table border=\"1\" class=\"dataframe\">\n",
       "  <thead>\n",
       "    <tr style=\"text-align: right;\">\n",
       "      <th></th>\n",
       "      <th>userId</th>\n",
       "      <th>movieId</th>\n",
       "      <th>rating</th>\n",
       "      <th>timestamp</th>\n",
       "    </tr>\n",
       "  </thead>\n",
       "  <tbody>\n",
       "    <tr>\n",
       "      <th>0</th>\n",
       "      <td>1</td>\n",
       "      <td>110</td>\n",
       "      <td>1.0</td>\n",
       "      <td>1425941529</td>\n",
       "    </tr>\n",
       "    <tr>\n",
       "      <th>1</th>\n",
       "      <td>1</td>\n",
       "      <td>147</td>\n",
       "      <td>4.5</td>\n",
       "      <td>1425942435</td>\n",
       "    </tr>\n",
       "    <tr>\n",
       "      <th>2</th>\n",
       "      <td>1</td>\n",
       "      <td>858</td>\n",
       "      <td>5.0</td>\n",
       "      <td>1425941523</td>\n",
       "    </tr>\n",
       "    <tr>\n",
       "      <th>3</th>\n",
       "      <td>1</td>\n",
       "      <td>1221</td>\n",
       "      <td>5.0</td>\n",
       "      <td>1425941546</td>\n",
       "    </tr>\n",
       "    <tr>\n",
       "      <th>4</th>\n",
       "      <td>1</td>\n",
       "      <td>1246</td>\n",
       "      <td>5.0</td>\n",
       "      <td>1425941556</td>\n",
       "    </tr>\n",
       "  </tbody>\n",
       "</table>\n",
       "</div>"
      ],
      "text/plain": [
       "   userId  movieId  rating   timestamp\n",
       "0       1      110     1.0  1425941529\n",
       "1       1      147     4.5  1425942435\n",
       "2       1      858     5.0  1425941523\n",
       "3       1     1221     5.0  1425941546\n",
       "4       1     1246     5.0  1425941556"
      ]
     },
     "execution_count": 34,
     "metadata": {},
     "output_type": "execute_result"
    }
   ],
   "source": [
    "df.head()"
   ]
  },
  {
   "cell_type": "code",
   "execution_count": 35,
   "id": "883561a4-2e88-451c-86d8-72561166c345",
   "metadata": {},
   "outputs": [
    {
     "data": {
      "text/plain": [
       "array([     1,      2,      3, ..., 270894, 270895, 270896])"
      ]
     },
     "execution_count": 35,
     "metadata": {},
     "output_type": "execute_result"
    }
   ],
   "source": [
    "df['userId'].unique()"
   ]
  },
  {
   "cell_type": "code",
   "execution_count": 36,
   "id": "b2039043-d124-4800-9163-1c5b7cbf1ca0",
   "metadata": {},
   "outputs": [
    {
     "data": {
      "text/plain": [
       "array([1. , 4.5, 5. , 4. , 3.5, 2.5, 0.5, 3. , 2. , 1.5])"
      ]
     },
     "execution_count": 36,
     "metadata": {},
     "output_type": "execute_result"
    }
   ],
   "source": [
    "df['rating'].unique()"
   ]
  },
  {
   "cell_type": "code",
   "execution_count": 37,
   "id": "4c9bb761-cdd5-4309-bee4-21a9f571bfdc",
   "metadata": {},
   "outputs": [
    {
     "data": {
      "text/plain": [
       "10"
      ]
     },
     "execution_count": 37,
     "metadata": {},
     "output_type": "execute_result"
    }
   ],
   "source": [
    "df['rating'].nunique()"
   ]
  },
  {
   "cell_type": "code",
   "execution_count": 38,
   "id": "6e7cde07-3cfa-4cfd-91c3-9878262b6a03",
   "metadata": {},
   "outputs": [
    {
     "data": {
      "text/plain": [
       "np.float64(5.0)"
      ]
     },
     "execution_count": 38,
     "metadata": {},
     "output_type": "execute_result"
    }
   ],
   "source": [
    "df['rating'].max()"
   ]
  },
  {
   "cell_type": "code",
   "execution_count": 39,
   "id": "0cb64bdf-ba0f-4c55-b187-c3f6e1572b5a",
   "metadata": {},
   "outputs": [
    {
     "data": {
      "text/plain": [
       "np.float64(0.5)"
      ]
     },
     "execution_count": 39,
     "metadata": {},
     "output_type": "execute_result"
    }
   ],
   "source": [
    "df['rating'].min()"
   ]
  },
  {
   "cell_type": "code",
   "execution_count": 40,
   "id": "616a71e8-84db-4927-915d-e9acbb79f7a6",
   "metadata": {},
   "outputs": [
    {
     "data": {
      "text/plain": [
       "rating\n",
       "4.0    6998802\n",
       "3.0    5256722\n",
       "5.0    3812499\n",
       "3.5    3116213\n",
       "4.5    2170441\n",
       "2.0    1762440\n",
       "2.5    1255358\n",
       "1.0     843310\n",
       "0.5     404897\n",
       "1.5     403607\n",
       "Name: count, dtype: int64"
      ]
     },
     "execution_count": 40,
     "metadata": {},
     "output_type": "execute_result"
    }
   ],
   "source": [
    "df['rating'].value_counts()"
   ]
  },
  {
   "cell_type": "code",
   "execution_count": 41,
   "id": "a8c79b66-89cf-4291-8b97-7327676303cd",
   "metadata": {},
   "outputs": [
    {
     "data": {
      "text/plain": [
       "userId       0\n",
       "movieId      0\n",
       "rating       0\n",
       "timestamp    0\n",
       "dtype: int64"
      ]
     },
     "execution_count": 41,
     "metadata": {},
     "output_type": "execute_result"
    }
   ],
   "source": [
    "df.isnull().sum()"
   ]
  },
  {
   "cell_type": "code",
   "execution_count": 42,
   "id": "03dd9249-bccf-4e32-bddc-80d0702367ad",
   "metadata": {},
   "outputs": [],
   "source": [
    "df.drop(['timestamp'], axis=1, inplace=True)"
   ]
  },
  {
   "cell_type": "code",
   "execution_count": 43,
   "id": "464e5bff-4b53-431b-bc7c-e38e1511ce13",
   "metadata": {},
   "outputs": [
    {
     "data": {
      "text/html": [
       "<div>\n",
       "<style scoped>\n",
       "    .dataframe tbody tr th:only-of-type {\n",
       "        vertical-align: middle;\n",
       "    }\n",
       "\n",
       "    .dataframe tbody tr th {\n",
       "        vertical-align: top;\n",
       "    }\n",
       "\n",
       "    .dataframe thead th {\n",
       "        text-align: right;\n",
       "    }\n",
       "</style>\n",
       "<table border=\"1\" class=\"dataframe\">\n",
       "  <thead>\n",
       "    <tr style=\"text-align: right;\">\n",
       "      <th></th>\n",
       "      <th>userId</th>\n",
       "      <th>movieId</th>\n",
       "      <th>rating</th>\n",
       "    </tr>\n",
       "  </thead>\n",
       "  <tbody>\n",
       "    <tr>\n",
       "      <th>0</th>\n",
       "      <td>1</td>\n",
       "      <td>110</td>\n",
       "      <td>1.0</td>\n",
       "    </tr>\n",
       "    <tr>\n",
       "      <th>1</th>\n",
       "      <td>1</td>\n",
       "      <td>147</td>\n",
       "      <td>4.5</td>\n",
       "    </tr>\n",
       "    <tr>\n",
       "      <th>2</th>\n",
       "      <td>1</td>\n",
       "      <td>858</td>\n",
       "      <td>5.0</td>\n",
       "    </tr>\n",
       "    <tr>\n",
       "      <th>3</th>\n",
       "      <td>1</td>\n",
       "      <td>1221</td>\n",
       "      <td>5.0</td>\n",
       "    </tr>\n",
       "    <tr>\n",
       "      <th>4</th>\n",
       "      <td>1</td>\n",
       "      <td>1246</td>\n",
       "      <td>5.0</td>\n",
       "    </tr>\n",
       "  </tbody>\n",
       "</table>\n",
       "</div>"
      ],
      "text/plain": [
       "   userId  movieId  rating\n",
       "0       1      110     1.0\n",
       "1       1      147     4.5\n",
       "2       1      858     5.0\n",
       "3       1     1221     5.0\n",
       "4       1     1246     5.0"
      ]
     },
     "execution_count": 43,
     "metadata": {},
     "output_type": "execute_result"
    }
   ],
   "source": [
    "df.head()"
   ]
  },
  {
   "cell_type": "code",
   "execution_count": 44,
   "id": "7f85ebe9-da3b-4467-b5a7-a1511a1be566",
   "metadata": {},
   "outputs": [],
   "source": [
    "df = df[0:1000000]"
   ]
  },
  {
   "cell_type": "code",
   "execution_count": 45,
   "id": "a04db1c6-14d8-4a5f-8b71-35eb9390b42c",
   "metadata": {},
   "outputs": [
    {
     "data": {
      "text/plain": [
       "(1000000, 3)"
      ]
     },
     "execution_count": 45,
     "metadata": {},
     "output_type": "execute_result"
    }
   ],
   "source": [
    "df.shape"
   ]
  },
  {
   "cell_type": "code",
   "execution_count": 46,
   "id": "5a826321-ce83-451b-bc2a-f0454172f10b",
   "metadata": {},
   "outputs": [
    {
     "data": {
      "text/plain": [
       "<bound method DataFrame.info of         userId  movieId  rating\n",
       "0            1      110     1.0\n",
       "1            1      147     4.5\n",
       "2            1      858     5.0\n",
       "3            1     1221     5.0\n",
       "4            1     1246     5.0\n",
       "...        ...      ...     ...\n",
       "999995   10183      380     4.0\n",
       "999996   10183      381     4.0\n",
       "999997   10183      410     3.0\n",
       "999998   10183      415     4.0\n",
       "999999   10183      419     2.0\n",
       "\n",
       "[1000000 rows x 3 columns]>"
      ]
     },
     "execution_count": 46,
     "metadata": {},
     "output_type": "execute_result"
    }
   ],
   "source": [
    "df.info"
   ]
  },
  {
   "cell_type": "code",
   "execution_count": 47,
   "id": "12cbe2d7-b7f8-449f-816b-8a6e44fcecbf",
   "metadata": {},
   "outputs": [
    {
     "data": {
      "text/plain": [
       "rating\n",
       "4.0    269794\n",
       "3.0    208032\n",
       "5.0    144849\n",
       "3.5    122558\n",
       "4.5     82503\n",
       "2.0     66423\n",
       "2.5     48573\n",
       "1.0     30815\n",
       "1.5     13609\n",
       "0.5     12844\n",
       "Name: count, dtype: int64"
      ]
     },
     "execution_count": 47,
     "metadata": {},
     "output_type": "execute_result"
    }
   ],
   "source": [
    "df['rating'].value_counts()"
   ]
  },
  {
   "cell_type": "code",
   "execution_count": 48,
   "id": "70586bdc-7e1f-47ea-a6bf-dc7ef3399912",
   "metadata": {},
   "outputs": [
    {
     "data": {
      "text/plain": [
       "np.int64(0)"
      ]
     },
     "execution_count": 48,
     "metadata": {},
     "output_type": "execute_result"
    }
   ],
   "source": [
    "df.duplicated().sum()"
   ]
  },
  {
   "cell_type": "code",
   "execution_count": 49,
   "id": "e93e793a-68ad-4dd7-8846-e6953ca2aa1d",
   "metadata": {},
   "outputs": [
    {
     "data": {
      "text/plain": [
       "userId     0\n",
       "movieId    0\n",
       "rating     0\n",
       "dtype: int64"
      ]
     },
     "execution_count": 49,
     "metadata": {},
     "output_type": "execute_result"
    }
   ],
   "source": [
    "df.isnull().sum()"
   ]
  },
  {
   "cell_type": "markdown",
   "id": "9e219229-7530-4c27-97b3-898b626678fa",
   "metadata": {},
   "source": [
    "# Recommendation System\n",
    "\n",
    "A **Recommendation System** is a machine learning model designed to suggest items to users based on their preferences, interests, and item similarity. It helps reduce the time users spend manually for searching the items of his interest. Recommendation systems are widely used in various domains like e-commerce, streaming platforms, and social media.\n",
    "Recommendation System mainly categories into 3 parts.\n",
    "1. **Popularity-Based Recommendation**\n",
    "2. **Content-Based Recommendation**\n",
    "3. **Collaborative Filtering**\n",
    "\n",
    "## 1. **Popularity Based Recommendation:**\n",
    "This type of recommendation system suggests items that are trending or popular among all users, irrespective of their individual preferences.\n",
    "For example:\n",
    "\n",
    "- The trending section on Netflix recommends shows or movies that are widely viewed by other users.\n",
    "- The \"Trending Now\" section on X (formerly Twitter) highlights trending posts or topics.\n",
    "    \n",
    "## 2. **Content based filtering**:\n",
    "This Model used the feature of the currently visited or liked item by the user like if a user like a movie of genre action and comedy. Model will recommmend him similar movie containing same tags (action and comedy). To do show we use vectorization technique(eg. TF-IDF, count_vectorizer) and cosine similarity.\n",
    "## 3. **Collaborative filtering**:\n",
    "It used the idea of similarity in preference and co-occurence of the item.\n",
    "It is called collaborative because it used collabortion of various user and items to suggest items.\n",
    "Collaborative Filtering is further divided into:\n",
    "\n",
    "1. **Neighbourhood based approach**\n",
    "2. **Model Based Approaches**\n",
    "\n",
    "### 3.1 **Neighbourhood based approach:**\n",
    "This method identifies users or items with similar preferences.\n",
    "- **User-Based Filtering:**\n",
    "\n",
    "    - Finds users (neighbors) with similar preferences or behavior.\n",
    "    - Predicts how likely a user is to like an item based on the preferences of similar users.\n",
    "    - Example: If User A and User B have rated the same movies highly, a movie liked by User A but not yet watched by User B may be recommended to User B.\n",
    "\n",
    "- **Item-Based Filtering:**\n",
    "\n",
    "    - Focuses on the similarity between items based on user interactions.\n",
    "    - Uses a co-occurrence matrix that records how often items are interacted with together.\n",
    "    - Items are ranked and sorted based on similarity scores.\n",
    "    - Example: If a user liked Movie A and Movie B, a new user liking Movie A might also be recommended Movie B.\n",
    "User and item based filtering both uses nearest neighbour learning algorithm(**KNN**). As we know KNN is a run time algorithm and in any instant there is a million or billion of items and users, it will become memory consuming and takes lots of time. so during the run time, this is not a good approach in recommendation system.\n",
    "User and Item based filtering both are classification method.\n",
    "\n",
    "### 3.2 **Model Based Approach**\n",
    "These approaches use advanced algorithms to build more scalable and accurate recommendation systems.\n",
    "i) **Clustering-Based Filtering**\n",
    "ii) **Matrix Factorization**\n",
    "iii) **Deep Learning-Based Approaches**"
   ]
  },
  {
   "cell_type": "code",
   "execution_count": 50,
   "id": "4e06938f-dea3-47dc-a0b5-af3fe068d0a9",
   "metadata": {},
   "outputs": [],
   "source": [
    "class MatrixFactorizationModel(tfrs.Model):\n",
    "    def __init__(self, num_users, num_items, embedding_dim):\n",
    "        super().__init__()\n",
    "        self.user_embedding = tf.keras.layers.Embedding(num_users, embedding_dim)\n",
    "        self.item_embedding = tf.keras.layers.Embedding(num_items, embedding_dim)\n",
    "\n",
    "    def call(self, features, training=False):\n",
    "        user_ids = features['userId']\n",
    "        item_ids = features['movieId']\n",
    "\n",
    "        user_embeddings = self.user_embedding(user_ids)\n",
    "        item_embeddings = self.item_embedding(item_ids)\n",
    "\n",
    "        dot_product = tf.reduce_sum(user_embeddings * item_embeddings, axis=1)\n",
    "        return dot_product\n",
    "\n",
    "    def compute_loss(self, features, training=False):\n",
    "        ratings = features['rating']\n",
    "        user_ids = features['userId']\n",
    "        item_ids = features['movieId']\n",
    "\n",
    "        user_embeddings = self.user_embedding(user_ids)\n",
    "        item_embeddings = self.item_embedding(item_ids)\n",
    "\n",
    "        dot_product = tf.reduce_sum(user_embeddings * item_embeddings, axis=1)\n",
    "        return tf.reduce_mean(tf.square(dot_product - tf.cast(ratings, tf.float32)))"
   ]
  },
  {
   "cell_type": "code",
   "execution_count": null,
   "id": "bf0a333f-0c32-4b8b-a690-d0e7463c175f",
   "metadata": {},
   "outputs": [],
   "source": []
  }
 ],
 "metadata": {
  "kernelspec": {
   "display_name": "Python 3 (ipykernel)",
   "language": "python",
   "name": "python3"
  },
  "language_info": {
   "codemirror_mode": {
    "name": "ipython",
    "version": 3
   },
   "file_extension": ".py",
   "mimetype": "text/x-python",
   "name": "python",
   "nbconvert_exporter": "python",
   "pygments_lexer": "ipython3",
   "version": "3.12.6"
  }
 },
 "nbformat": 4,
 "nbformat_minor": 5
}
