{
 "cells": [
  {
   "cell_type": "code",
   "execution_count": 1,
   "id": "5c57a98e-88ff-41a4-a013-2abc916e631a",
   "metadata": {},
   "outputs": [
    {
     "name": "stderr",
     "output_type": "stream",
     "text": [
      "2025-02-19 20:01:36.614008: I tensorflow/core/util/port.cc:153] oneDNN custom operations are on. You may see slightly different numerical results due to floating-point round-off errors from different computation orders. To turn them off, set the environment variable `TF_ENABLE_ONEDNN_OPTS=0`.\n",
      "2025-02-19 20:01:36.621081: I external/local_xla/xla/tsl/cuda/cudart_stub.cc:32] Could not find cuda drivers on your machine, GPU will not be used.\n",
      "2025-02-19 20:01:36.685810: I external/local_xla/xla/tsl/cuda/cudart_stub.cc:32] Could not find cuda drivers on your machine, GPU will not be used.\n",
      "2025-02-19 20:01:36.746788: E external/local_xla/xla/stream_executor/cuda/cuda_fft.cc:477] Unable to register cuFFT factory: Attempting to register factory for plugin cuFFT when one has already been registered\n",
      "WARNING: All log messages before absl::InitializeLog() is called are written to STDERR\n",
      "E0000 00:00:1739975496.791214  690610 cuda_dnn.cc:8310] Unable to register cuDNN factory: Attempting to register factory for plugin cuDNN when one has already been registered\n",
      "E0000 00:00:1739975496.804119  690610 cuda_blas.cc:1418] Unable to register cuBLAS factory: Attempting to register factory for plugin cuBLAS when one has already been registered\n",
      "2025-02-19 20:01:36.946751: I tensorflow/core/platform/cpu_feature_guard.cc:210] This TensorFlow binary is optimized to use available CPU instructions in performance-critical operations.\n",
      "To enable the following instructions: AVX2 AVX_VNNI FMA, in other operations, rebuild TensorFlow with the appropriate compiler flags.\n"
     ]
    }
   ],
   "source": [
    "import pandas as pd\n",
    "import pickle\n",
    "import json\n",
    "import ast\n",
    "\n",
    "import tensorflow as tf\n",
    "from tensorflow.keras.models import Model\n",
    "from tensorflow.keras.optimizers import Adam\n",
    "from tensorflow.keras.callbacks import EarlyStopping\n",
    "from sklearn.preprocessing import MinMaxScaler, LabelEncoder\n",
    "# from sklearn.metrics import mean_squared_error\n",
    "from tensorflow.keras.layers import Input, Embedding, Flatten, Dense, Concatenate, Dropout, BatchNormalization\n",
    "from sklearn.model_selection import train_test_split\n",
    "from sklearn.feature_extraction.text import TfidfVectorizer"
   ]
  },
  {
   "cell_type": "code",
   "execution_count": 2,
   "id": "dcca5b54-d6ad-4490-aecf-59238aafa575",
   "metadata": {},
   "outputs": [],
   "source": [
    "ratings_df = pickle.load(open('../backend/processed_data/new_ratings_df.pkl', 'rb'))"
   ]
  },
  {
   "cell_type": "code",
   "execution_count": 3,
   "id": "ab3e9616-06d0-4d03-93d4-cdd2e5496489",
   "metadata": {},
   "outputs": [
    {
     "data": {
      "text/html": [
       "<div>\n",
       "<style scoped>\n",
       "    .dataframe tbody tr th:only-of-type {\n",
       "        vertical-align: middle;\n",
       "    }\n",
       "\n",
       "    .dataframe tbody tr th {\n",
       "        vertical-align: top;\n",
       "    }\n",
       "\n",
       "    .dataframe thead th {\n",
       "        text-align: right;\n",
       "    }\n",
       "</style>\n",
       "<table border=\"1\" class=\"dataframe\">\n",
       "  <thead>\n",
       "    <tr style=\"text-align: right;\">\n",
       "      <th></th>\n",
       "      <th>userId</th>\n",
       "      <th>movieId</th>\n",
       "      <th>rating</th>\n",
       "      <th>timestamp</th>\n",
       "      <th>keywords</th>\n",
       "    </tr>\n",
       "  </thead>\n",
       "  <tbody>\n",
       "    <tr>\n",
       "      <th>0</th>\n",
       "      <td>1</td>\n",
       "      <td>110</td>\n",
       "      <td>1.0</td>\n",
       "      <td>1425941529</td>\n",
       "      <td>[newspaper, adversary, reporter, experience]</td>\n",
       "    </tr>\n",
       "    <tr>\n",
       "      <th>1</th>\n",
       "      <td>1</td>\n",
       "      <td>147</td>\n",
       "      <td>4.5</td>\n",
       "      <td>1425942435</td>\n",
       "      <td>[odessa, revenge]</td>\n",
       "    </tr>\n",
       "    <tr>\n",
       "      <th>2</th>\n",
       "      <td>1</td>\n",
       "      <td>858</td>\n",
       "      <td>5.0</td>\n",
       "      <td>1425941523</td>\n",
       "      <td>[letter, arkansas, childbirth, biracial, matri...</td>\n",
       "    </tr>\n",
       "    <tr>\n",
       "      <th>4</th>\n",
       "      <td>1</td>\n",
       "      <td>1246</td>\n",
       "      <td>5.0</td>\n",
       "      <td>1425941556</td>\n",
       "      <td>[friendship, romantic comedy, teenager, lovesi...</td>\n",
       "    </tr>\n",
       "    <tr>\n",
       "      <th>5</th>\n",
       "      <td>1</td>\n",
       "      <td>1968</td>\n",
       "      <td>4.0</td>\n",
       "      <td>1425942148</td>\n",
       "      <td>[pop, pop culture, pop star]</td>\n",
       "    </tr>\n",
       "  </tbody>\n",
       "</table>\n",
       "</div>"
      ],
      "text/plain": [
       "   userId  movieId  rating   timestamp  \\\n",
       "0       1      110     1.0  1425941529   \n",
       "1       1      147     4.5  1425942435   \n",
       "2       1      858     5.0  1425941523   \n",
       "4       1     1246     5.0  1425941556   \n",
       "5       1     1968     4.0  1425942148   \n",
       "\n",
       "                                            keywords  \n",
       "0       [newspaper, adversary, reporter, experience]  \n",
       "1                                  [odessa, revenge]  \n",
       "2  [letter, arkansas, childbirth, biracial, matri...  \n",
       "4  [friendship, romantic comedy, teenager, lovesi...  \n",
       "5                       [pop, pop culture, pop star]  "
      ]
     },
     "execution_count": 3,
     "metadata": {},
     "output_type": "execute_result"
    }
   ],
   "source": [
    "ratings_df.head()"
   ]
  },
  {
   "cell_type": "code",
   "execution_count": 4,
   "id": "47c7a423-402d-4109-87a0-748e68730cd6",
   "metadata": {},
   "outputs": [
    {
     "data": {
      "text/plain": [
       "(11436568, 5)"
      ]
     },
     "execution_count": 4,
     "metadata": {},
     "output_type": "execute_result"
    }
   ],
   "source": [
    "ratings_df.shape"
   ]
  },
  {
   "cell_type": "code",
   "execution_count": 5,
   "id": "9da9bd47-58b7-48a0-8106-48124e96ce99",
   "metadata": {},
   "outputs": [
    {
     "data": {
      "text/plain": [
       "np.int64(0)"
      ]
     },
     "execution_count": 5,
     "metadata": {},
     "output_type": "execute_result"
    }
   ],
   "source": [
    "ratings_df.duplicated(subset =  [col for col in ratings_df.columns if ratings_df[col].dtype != 'object']).sum()"
   ]
  },
  {
   "cell_type": "code",
   "execution_count": 6,
   "id": "ac9b562a-3b4b-44e4-8169-14628ac67a3e",
   "metadata": {},
   "outputs": [],
   "source": [
    "credits = pd.read_csv('../backend/datasets/credits.csv')\n",
    "# ratings = pd.read_csv('../backend/datasets/ratings.csv')\n",
    "# keywords = pd.read_csv('../backend/datasets/keywords.csv')"
   ]
  },
  {
   "cell_type": "code",
   "execution_count": 7,
   "id": "c379bd74-eaf8-495b-b2be-84d34638fd36",
   "metadata": {},
   "outputs": [
    {
     "data": {
      "text/html": [
       "<div>\n",
       "<style scoped>\n",
       "    .dataframe tbody tr th:only-of-type {\n",
       "        vertical-align: middle;\n",
       "    }\n",
       "\n",
       "    .dataframe tbody tr th {\n",
       "        vertical-align: top;\n",
       "    }\n",
       "\n",
       "    .dataframe thead th {\n",
       "        text-align: right;\n",
       "    }\n",
       "</style>\n",
       "<table border=\"1\" class=\"dataframe\">\n",
       "  <thead>\n",
       "    <tr style=\"text-align: right;\">\n",
       "      <th></th>\n",
       "      <th>cast</th>\n",
       "      <th>crew</th>\n",
       "      <th>id</th>\n",
       "    </tr>\n",
       "  </thead>\n",
       "  <tbody>\n",
       "    <tr>\n",
       "      <th>0</th>\n",
       "      <td>[{'cast_id': 14, 'character': 'Woody (voice)',...</td>\n",
       "      <td>[{'credit_id': '52fe4284c3a36847f8024f49', 'de...</td>\n",
       "      <td>862</td>\n",
       "    </tr>\n",
       "    <tr>\n",
       "      <th>1</th>\n",
       "      <td>[{'cast_id': 1, 'character': 'Alan Parrish', '...</td>\n",
       "      <td>[{'credit_id': '52fe44bfc3a36847f80a7cd1', 'de...</td>\n",
       "      <td>8844</td>\n",
       "    </tr>\n",
       "    <tr>\n",
       "      <th>2</th>\n",
       "      <td>[{'cast_id': 2, 'character': 'Max Goldman', 'c...</td>\n",
       "      <td>[{'credit_id': '52fe466a9251416c75077a89', 'de...</td>\n",
       "      <td>15602</td>\n",
       "    </tr>\n",
       "    <tr>\n",
       "      <th>3</th>\n",
       "      <td>[{'cast_id': 1, 'character': \"Savannah 'Vannah...</td>\n",
       "      <td>[{'credit_id': '52fe44779251416c91011acb', 'de...</td>\n",
       "      <td>31357</td>\n",
       "    </tr>\n",
       "    <tr>\n",
       "      <th>4</th>\n",
       "      <td>[{'cast_id': 1, 'character': 'George Banks', '...</td>\n",
       "      <td>[{'credit_id': '52fe44959251416c75039ed7', 'de...</td>\n",
       "      <td>11862</td>\n",
       "    </tr>\n",
       "  </tbody>\n",
       "</table>\n",
       "</div>"
      ],
      "text/plain": [
       "                                                cast  \\\n",
       "0  [{'cast_id': 14, 'character': 'Woody (voice)',...   \n",
       "1  [{'cast_id': 1, 'character': 'Alan Parrish', '...   \n",
       "2  [{'cast_id': 2, 'character': 'Max Goldman', 'c...   \n",
       "3  [{'cast_id': 1, 'character': \"Savannah 'Vannah...   \n",
       "4  [{'cast_id': 1, 'character': 'George Banks', '...   \n",
       "\n",
       "                                                crew     id  \n",
       "0  [{'credit_id': '52fe4284c3a36847f8024f49', 'de...    862  \n",
       "1  [{'credit_id': '52fe44bfc3a36847f80a7cd1', 'de...   8844  \n",
       "2  [{'credit_id': '52fe466a9251416c75077a89', 'de...  15602  \n",
       "3  [{'credit_id': '52fe44779251416c91011acb', 'de...  31357  \n",
       "4  [{'credit_id': '52fe44959251416c75039ed7', 'de...  11862  "
      ]
     },
     "execution_count": 7,
     "metadata": {},
     "output_type": "execute_result"
    }
   ],
   "source": [
    "credits.head()"
   ]
  },
  {
   "cell_type": "code",
   "execution_count": 8,
   "id": "ec529049-a45c-45fe-bd17-db9c175fec31",
   "metadata": {},
   "outputs": [
    {
     "data": {
      "text/plain": [
       "(45476, 3)"
      ]
     },
     "execution_count": 8,
     "metadata": {},
     "output_type": "execute_result"
    }
   ],
   "source": [
    "credits.shape"
   ]
  },
  {
   "cell_type": "code",
   "execution_count": 9,
   "id": "27b2f43d-aed2-4570-9caa-a31fb32faec2",
   "metadata": {},
   "outputs": [
    {
     "data": {
      "text/plain": [
       "np.int64(37)"
      ]
     },
     "execution_count": 9,
     "metadata": {},
     "output_type": "execute_result"
    }
   ],
   "source": [
    "credits.duplicated().sum()"
   ]
  },
  {
   "cell_type": "code",
   "execution_count": 10,
   "id": "5983052f-97f0-4120-a688-841634c44c5a",
   "metadata": {},
   "outputs": [],
   "source": [
    "credits = credits.drop_duplicates()"
   ]
  },
  {
   "cell_type": "code",
   "execution_count": 11,
   "id": "547160eb-da70-417f-935f-0e148993e443",
   "metadata": {},
   "outputs": [
    {
     "data": {
      "text/plain": [
       "(45439, 3)"
      ]
     },
     "execution_count": 11,
     "metadata": {},
     "output_type": "execute_result"
    }
   ],
   "source": [
    "credits.shape"
   ]
  },
  {
   "cell_type": "markdown",
   "id": "9952e5ff-c270-4e75-a455-29d076f47e42",
   "metadata": {},
   "source": [
    "    Objective: We have credits and new_ratings_df dataset. new_ratings_df dataset obtained after processing the 'keywords' column in ratings.df file. We will extract the cast and crew from credits whose movie id is listed in new_ratings_df."
   ]
  },
  {
   "cell_type": "code",
   "execution_count": 12,
   "id": "3a8b5923-e6a8-4bca-b69c-c1931e309964",
   "metadata": {},
   "outputs": [
    {
     "name": "stdout",
     "output_type": "stream",
     "text": [
      "{'cast_id': 14, 'character': 'Woody (voice)', 'credit_id': '52fe4284c3a36847f8024f95', 'gender': 2, 'id': 31, 'name': 'Tom Hanks', 'order': 0, 'profile_path': '/pQFoyx7rp09CJTAb932F2g8Nlho.jpg'}\n",
      "{'cast_id': 15, 'character': 'Buzz Lightyear (voice)', 'credit_id': '52fe4284c3a36847f8024f99', 'gender': 2, 'id': 12898, 'name': 'Tim Allen', 'order': 1, 'profile_path': '/uX2xVf6pMmPepxnvFWyBtjexzgY.jpg'}\n",
      "{'cast_id': 16, 'character': 'Mr. Potato Head (voice)', 'credit_id': '52fe4284c3a36847f8024f9d', 'gender': 2, 'id': 7167, 'name': 'Don Rickles', 'order': 2, 'profile_path': '/h5BcaDMPRVLHLDzbQavec4xfSdt.jpg'}\n",
      "{'cast_id': 17, 'character': 'Slinky Dog (voice)', 'credit_id': '52fe4284c3a36847f8024fa1', 'gender': 2, 'id': 12899, 'name': 'Jim Varney', 'order': 3, 'profile_path': '/eIo2jVVXYgjDtaHoF19Ll9vtW7h.jpg'}\n",
      "{'cast_id': 18, 'character': 'Rex (voice)', 'credit_id': '52fe4284c3a36847f8024fa5', 'gender': 2, 'id': 12900, 'name': 'Wallace Shawn', 'order': 4, 'profile_path': '/oGE6JqPP2xH4tNORKNqxbNPYi7u.jpg'}\n",
      "{'cast_id': 19, 'character': 'Hamm (voice)', 'credit_id': '52fe4284c3a36847f8024fa9', 'gender': 2, 'id': 7907, 'name': 'John Ratzenberger', 'order': 5, 'profile_path': '/yGechiKWL6TJDfVE2KPSJYqdMsY.jpg'}\n",
      "{'cast_id': 20, 'character': 'Bo Peep (voice)', 'credit_id': '52fe4284c3a36847f8024fad', 'gender': 1, 'id': 8873, 'name': 'Annie Potts', 'order': 6, 'profile_path': '/eryXT84RL41jHSJcMy4kS3u9y6w.jpg'}\n",
      "{'cast_id': 26, 'character': 'Andy (voice)', 'credit_id': '52fe4284c3a36847f8024fc1', 'gender': 0, 'id': 1116442, 'name': 'John Morris', 'order': 7, 'profile_path': '/vYGyvK4LzeaUCoNSHtsuqJUY15M.jpg'}\n",
      "{'cast_id': 22, 'character': 'Sid (voice)', 'credit_id': '52fe4284c3a36847f8024fb1', 'gender': 2, 'id': 12901, 'name': 'Erik von Detten', 'order': 8, 'profile_path': '/twnF1ZaJ1FUNUuo6xLXwcxjayBE.jpg'}\n",
      "{'cast_id': 23, 'character': 'Mrs. Davis (voice)', 'credit_id': '52fe4284c3a36847f8024fb5', 'gender': 1, 'id': 12133, 'name': 'Laurie Metcalf', 'order': 9, 'profile_path': '/unMMIT60eoBM2sN2nyR7EZ2BvvD.jpg'}\n",
      "{'cast_id': 24, 'character': 'Sergeant (voice)', 'credit_id': '52fe4284c3a36847f8024fb9', 'gender': 2, 'id': 8655, 'name': 'R. Lee Ermey', 'order': 10, 'profile_path': '/r8GBqFBjypLUP9VVqDqfZ7wYbSs.jpg'}\n",
      "{'cast_id': 25, 'character': 'Hannah (voice)', 'credit_id': '52fe4284c3a36847f8024fbd', 'gender': 1, 'id': 12903, 'name': 'Sarah Freeman', 'order': 11, 'profile_path': None}\n",
      "{'cast_id': 27, 'character': 'TV Announcer (voice)', 'credit_id': '52fe4284c3a36847f8024fc5', 'gender': 2, 'id': 37221, 'name': 'Penn Jillette', 'order': 12, 'profile_path': '/zmAaXUdx12NRsssgHbk1T31j2x9.jpg'}\n"
     ]
    }
   ],
   "source": [
    "for cast in ast.literal_eval(credits['cast'].iloc[0]):\n",
    "    print(cast)"
   ]
  },
  {
   "cell_type": "code",
   "execution_count": 13,
   "id": "6b5a4417-45b5-4d12-ac63-b0366370e83d",
   "metadata": {},
   "outputs": [
    {
     "name": "stdout",
     "output_type": "stream",
     "text": [
      "Tom Hanks\n",
      "Tim Allen\n",
      "Don Rickles\n",
      "Jim Varney\n",
      "Wallace Shawn\n",
      "John Ratzenberger\n",
      "Annie Potts\n",
      "John Morris\n",
      "Erik von Detten\n",
      "Laurie Metcalf\n",
      "R. Lee Ermey\n",
      "Sarah Freeman\n",
      "Penn Jillette\n"
     ]
    }
   ],
   "source": [
    "for cast in ast.literal_eval(credits['cast'].iloc[0]):\n",
    "    print(cast['name'])"
   ]
  },
  {
   "cell_type": "code",
   "execution_count": 14,
   "id": "900b0ba4-eb35-411a-ab2f-6f2a7f1ceef5",
   "metadata": {},
   "outputs": [],
   "source": [
    "def extract_name(row):\n",
    "    return (entry['name'] for entry in ast.literal_eval(row))"
   ]
  },
  {
   "cell_type": "code",
   "execution_count": 15,
   "id": "4d9c90c6-30e5-40c0-9d22-edfc56aeb9e3",
   "metadata": {},
   "outputs": [],
   "source": [
    "credits['cast_name'] = credits['cast'].apply(extract_name)\n",
    "credits['crew_name'] = credits['crew'].apply(extract_name)"
   ]
  },
  {
   "cell_type": "code",
   "execution_count": 16,
   "id": "7a334e27-bbe9-4224-b467-53905285991a",
   "metadata": {},
   "outputs": [],
   "source": [
    "def take_n_name(row, n=10):\n",
    "    return list(row)[0:n]"
   ]
  },
  {
   "cell_type": "code",
   "execution_count": 17,
   "id": "14493870-cfad-4f53-898e-fa0e5eef06c2",
   "metadata": {},
   "outputs": [],
   "source": [
    "# credits['cast_name'] = credits['cast_name'].apply(lambda x: x.split(', '))\n",
    "# credits['crew_name'] = credits['crew_name'].apply(lambda x: x.split(', '))\n",
    "\n",
    "credits['keywords'] = credits.apply(\n",
    "    lambda x: take_n_name(x['cast_name'], 10) + take_n_name(x['crew_name'], 10),\n",
    "    axis=1\n",
    ")"
   ]
  },
  {
   "cell_type": "code",
   "execution_count": 18,
   "id": "e241ec93-005a-4304-81ea-73f319f61716",
   "metadata": {},
   "outputs": [
    {
     "data": {
      "text/html": [
       "<div>\n",
       "<style scoped>\n",
       "    .dataframe tbody tr th:only-of-type {\n",
       "        vertical-align: middle;\n",
       "    }\n",
       "\n",
       "    .dataframe tbody tr th {\n",
       "        vertical-align: top;\n",
       "    }\n",
       "\n",
       "    .dataframe thead th {\n",
       "        text-align: right;\n",
       "    }\n",
       "</style>\n",
       "<table border=\"1\" class=\"dataframe\">\n",
       "  <thead>\n",
       "    <tr style=\"text-align: right;\">\n",
       "      <th></th>\n",
       "      <th>cast</th>\n",
       "      <th>crew</th>\n",
       "      <th>id</th>\n",
       "      <th>cast_name</th>\n",
       "      <th>crew_name</th>\n",
       "      <th>keywords</th>\n",
       "    </tr>\n",
       "  </thead>\n",
       "  <tbody>\n",
       "    <tr>\n",
       "      <th>0</th>\n",
       "      <td>[{'cast_id': 14, 'character': 'Woody (voice)',...</td>\n",
       "      <td>[{'credit_id': '52fe4284c3a36847f8024f49', 'de...</td>\n",
       "      <td>862</td>\n",
       "      <td>&lt;generator object extract_name.&lt;locals&gt;.&lt;genex...</td>\n",
       "      <td>&lt;generator object extract_name.&lt;locals&gt;.&lt;genex...</td>\n",
       "      <td>[Tom Hanks, Tim Allen, Don Rickles, Jim Varney...</td>\n",
       "    </tr>\n",
       "  </tbody>\n",
       "</table>\n",
       "</div>"
      ],
      "text/plain": [
       "                                                cast  \\\n",
       "0  [{'cast_id': 14, 'character': 'Woody (voice)',...   \n",
       "\n",
       "                                                crew   id  \\\n",
       "0  [{'credit_id': '52fe4284c3a36847f8024f49', 'de...  862   \n",
       "\n",
       "                                           cast_name  \\\n",
       "0  <generator object extract_name.<locals>.<genex...   \n",
       "\n",
       "                                           crew_name  \\\n",
       "0  <generator object extract_name.<locals>.<genex...   \n",
       "\n",
       "                                            keywords  \n",
       "0  [Tom Hanks, Tim Allen, Don Rickles, Jim Varney...  "
      ]
     },
     "execution_count": 18,
     "metadata": {},
     "output_type": "execute_result"
    }
   ],
   "source": [
    "credits.head(1)"
   ]
  },
  {
   "cell_type": "code",
   "execution_count": 19,
   "id": "1ff8e711-acb7-4740-b7b2-ac5f8e9e3ee9",
   "metadata": {},
   "outputs": [
    {
     "data": {
      "text/plain": [
       "20"
      ]
     },
     "execution_count": 19,
     "metadata": {},
     "output_type": "execute_result"
    }
   ],
   "source": [
    "len(credits['keywords'].iloc[0])"
   ]
  },
  {
   "cell_type": "code",
   "execution_count": 20,
   "id": "24ca37c1-3531-43c4-90e7-5dd9b9f74cbe",
   "metadata": {},
   "outputs": [],
   "source": [
    "ratings_df=ratings_df.merge(credits[['id','keywords']], left_on='movieId', right_on='id', how='inner')"
   ]
  },
  {
   "cell_type": "code",
   "execution_count": 21,
   "id": "e9dec151-b695-4bb1-895c-87ebeccec1b6",
   "metadata": {},
   "outputs": [
    {
     "data": {
      "text/plain": [
       "(11437604, 7)"
      ]
     },
     "execution_count": 21,
     "metadata": {},
     "output_type": "execute_result"
    }
   ],
   "source": [
    "ratings_df.shape"
   ]
  },
  {
   "cell_type": "code",
   "execution_count": 22,
   "id": "1425af67-9a72-41db-8297-ceff8e38e1d6",
   "metadata": {},
   "outputs": [
    {
     "data": {
      "text/plain": [
       "np.int64(1036)"
      ]
     },
     "execution_count": 22,
     "metadata": {},
     "output_type": "execute_result"
    }
   ],
   "source": [
    "ratings_df.duplicated(subset =  [col for col in ratings_df.columns if ratings_df[col].dtype != 'object']).sum()"
   ]
  },
  {
   "cell_type": "code",
   "execution_count": 23,
   "id": "429b79c4-26e8-4805-9a01-4f94508cdac4",
   "metadata": {},
   "outputs": [],
   "source": [
    "ratings_df.drop_duplicates(\n",
    "    subset=[col for col in ratings_df.columns if ratings_df[col].dtype != 'object'], \n",
    "    keep='first', \n",
    "    inplace=True\n",
    ")"
   ]
  },
  {
   "cell_type": "code",
   "execution_count": 24,
   "id": "a20f77bf-9065-4a1d-ba85-e1e138de1bd6",
   "metadata": {},
   "outputs": [
    {
     "data": {
      "text/plain": [
       "11436568"
      ]
     },
     "execution_count": 24,
     "metadata": {},
     "output_type": "execute_result"
    }
   ],
   "source": [
    "11437604 - 1036"
   ]
  },
  {
   "cell_type": "code",
   "execution_count": 25,
   "id": "264d9dec-8a02-4fb3-a8f9-3e6693d5c360",
   "metadata": {},
   "outputs": [
    {
     "data": {
      "text/plain": [
       "(11436568, 7)"
      ]
     },
     "execution_count": 25,
     "metadata": {},
     "output_type": "execute_result"
    }
   ],
   "source": [
    "ratings_df.shape"
   ]
  },
  {
   "cell_type": "code",
   "execution_count": 26,
   "id": "825aa9f5-225f-4357-a7a8-f59a2fad93cd",
   "metadata": {},
   "outputs": [],
   "source": [
    "ratings_df = ratings_df[0: 2000000]"
   ]
  },
  {
   "cell_type": "code",
   "execution_count": 27,
   "id": "c993918f-ad9f-497f-a05d-f5fc79f26fb2",
   "metadata": {},
   "outputs": [
    {
     "data": {
      "text/plain": [
       "(2000000, 7)"
      ]
     },
     "execution_count": 27,
     "metadata": {},
     "output_type": "execute_result"
    }
   ],
   "source": [
    "ratings_df.shape"
   ]
  },
  {
   "cell_type": "code",
   "execution_count": null,
   "id": "18c77710-f7e5-4922-99ab-ceaad85dd7af",
   "metadata": {},
   "outputs": [],
   "source": []
  },
  {
   "cell_type": "code",
   "execution_count": null,
   "id": "29e1b85b-94fa-4901-804e-26e558081f52",
   "metadata": {},
   "outputs": [],
   "source": []
  },
  {
   "cell_type": "code",
   "execution_count": 28,
   "id": "2a51c48a-e6d7-484f-8fb9-d117e0755611",
   "metadata": {},
   "outputs": [
    {
     "data": {
      "text/html": [
       "<div>\n",
       "<style scoped>\n",
       "    .dataframe tbody tr th:only-of-type {\n",
       "        vertical-align: middle;\n",
       "    }\n",
       "\n",
       "    .dataframe tbody tr th {\n",
       "        vertical-align: top;\n",
       "    }\n",
       "\n",
       "    .dataframe thead th {\n",
       "        text-align: right;\n",
       "    }\n",
       "</style>\n",
       "<table border=\"1\" class=\"dataframe\">\n",
       "  <thead>\n",
       "    <tr style=\"text-align: right;\">\n",
       "      <th></th>\n",
       "      <th>userId</th>\n",
       "      <th>movieId</th>\n",
       "      <th>rating</th>\n",
       "      <th>timestamp</th>\n",
       "      <th>keywords_x</th>\n",
       "      <th>id</th>\n",
       "      <th>keywords_y</th>\n",
       "    </tr>\n",
       "  </thead>\n",
       "  <tbody>\n",
       "    <tr>\n",
       "      <th>0</th>\n",
       "      <td>1</td>\n",
       "      <td>110</td>\n",
       "      <td>1.0</td>\n",
       "      <td>1425941529</td>\n",
       "      <td>[newspaper, adversary, reporter, experience]</td>\n",
       "      <td>110</td>\n",
       "      <td>[Irène Jacob, Jean-Louis Trintignant, Jean-Pie...</td>\n",
       "    </tr>\n",
       "    <tr>\n",
       "      <th>1</th>\n",
       "      <td>1</td>\n",
       "      <td>147</td>\n",
       "      <td>4.5</td>\n",
       "      <td>1425942435</td>\n",
       "      <td>[odessa, revenge]</td>\n",
       "      <td>147</td>\n",
       "      <td>[Jean-Pierre Léaud, Claire Maurier, Albert Rém...</td>\n",
       "    </tr>\n",
       "    <tr>\n",
       "      <th>2</th>\n",
       "      <td>1</td>\n",
       "      <td>858</td>\n",
       "      <td>5.0</td>\n",
       "      <td>1425941523</td>\n",
       "      <td>[letter, arkansas, childbirth, biracial, matri...</td>\n",
       "      <td>858</td>\n",
       "      <td>[Tom Hanks, Meg Ryan, Bill Pullman, Ross Malin...</td>\n",
       "    </tr>\n",
       "    <tr>\n",
       "      <th>3</th>\n",
       "      <td>1</td>\n",
       "      <td>1246</td>\n",
       "      <td>5.0</td>\n",
       "      <td>1425941556</td>\n",
       "      <td>[friendship, romantic comedy, teenager, lovesi...</td>\n",
       "      <td>1246</td>\n",
       "      <td>[Sylvester Stallone, Burt Young, Milo Ventimig...</td>\n",
       "    </tr>\n",
       "    <tr>\n",
       "      <th>4</th>\n",
       "      <td>1</td>\n",
       "      <td>1968</td>\n",
       "      <td>4.0</td>\n",
       "      <td>1425942148</td>\n",
       "      <td>[pop, pop culture, pop star]</td>\n",
       "      <td>1968</td>\n",
       "      <td>[Matthew Perry, Salma Hayek, Jon Tenney, Siobh...</td>\n",
       "    </tr>\n",
       "  </tbody>\n",
       "</table>\n",
       "</div>"
      ],
      "text/plain": [
       "   userId  movieId  rating   timestamp  \\\n",
       "0       1      110     1.0  1425941529   \n",
       "1       1      147     4.5  1425942435   \n",
       "2       1      858     5.0  1425941523   \n",
       "3       1     1246     5.0  1425941556   \n",
       "4       1     1968     4.0  1425942148   \n",
       "\n",
       "                                          keywords_x    id  \\\n",
       "0       [newspaper, adversary, reporter, experience]   110   \n",
       "1                                  [odessa, revenge]   147   \n",
       "2  [letter, arkansas, childbirth, biracial, matri...   858   \n",
       "3  [friendship, romantic comedy, teenager, lovesi...  1246   \n",
       "4                       [pop, pop culture, pop star]  1968   \n",
       "\n",
       "                                          keywords_y  \n",
       "0  [Irène Jacob, Jean-Louis Trintignant, Jean-Pie...  \n",
       "1  [Jean-Pierre Léaud, Claire Maurier, Albert Rém...  \n",
       "2  [Tom Hanks, Meg Ryan, Bill Pullman, Ross Malin...  \n",
       "3  [Sylvester Stallone, Burt Young, Milo Ventimig...  \n",
       "4  [Matthew Perry, Salma Hayek, Jon Tenney, Siobh...  "
      ]
     },
     "execution_count": 28,
     "metadata": {},
     "output_type": "execute_result"
    }
   ],
   "source": [
    "ratings_df.head(5)"
   ]
  },
  {
   "cell_type": "code",
   "execution_count": 29,
   "id": "7a36d4a5-0810-4622-a9b2-f8db2dc833b5",
   "metadata": {},
   "outputs": [],
   "source": [
    "ratings_df['keywords'] = ratings_df['keywords_x'] + ratings_df['keywords_y']"
   ]
  },
  {
   "cell_type": "code",
   "execution_count": 30,
   "id": "8d81750a-822d-4b0a-9afd-206d0bd0da36",
   "metadata": {},
   "outputs": [
    {
     "data": {
      "text/html": [
       "<div>\n",
       "<style scoped>\n",
       "    .dataframe tbody tr th:only-of-type {\n",
       "        vertical-align: middle;\n",
       "    }\n",
       "\n",
       "    .dataframe tbody tr th {\n",
       "        vertical-align: top;\n",
       "    }\n",
       "\n",
       "    .dataframe thead th {\n",
       "        text-align: right;\n",
       "    }\n",
       "</style>\n",
       "<table border=\"1\" class=\"dataframe\">\n",
       "  <thead>\n",
       "    <tr style=\"text-align: right;\">\n",
       "      <th></th>\n",
       "      <th>userId</th>\n",
       "      <th>movieId</th>\n",
       "      <th>rating</th>\n",
       "      <th>timestamp</th>\n",
       "      <th>keywords_x</th>\n",
       "      <th>id</th>\n",
       "      <th>keywords_y</th>\n",
       "      <th>keywords</th>\n",
       "    </tr>\n",
       "  </thead>\n",
       "  <tbody>\n",
       "    <tr>\n",
       "      <th>0</th>\n",
       "      <td>1</td>\n",
       "      <td>110</td>\n",
       "      <td>1.0</td>\n",
       "      <td>1425941529</td>\n",
       "      <td>[newspaper, adversary, reporter, experience]</td>\n",
       "      <td>110</td>\n",
       "      <td>[Irène Jacob, Jean-Louis Trintignant, Jean-Pie...</td>\n",
       "      <td>[newspaper, adversary, reporter, experience, I...</td>\n",
       "    </tr>\n",
       "    <tr>\n",
       "      <th>1</th>\n",
       "      <td>1</td>\n",
       "      <td>147</td>\n",
       "      <td>4.5</td>\n",
       "      <td>1425942435</td>\n",
       "      <td>[odessa, revenge]</td>\n",
       "      <td>147</td>\n",
       "      <td>[Jean-Pierre Léaud, Claire Maurier, Albert Rém...</td>\n",
       "      <td>[odessa, revenge, Jean-Pierre Léaud, Claire Ma...</td>\n",
       "    </tr>\n",
       "    <tr>\n",
       "      <th>2</th>\n",
       "      <td>1</td>\n",
       "      <td>858</td>\n",
       "      <td>5.0</td>\n",
       "      <td>1425941523</td>\n",
       "      <td>[letter, arkansas, childbirth, biracial, matri...</td>\n",
       "      <td>858</td>\n",
       "      <td>[Tom Hanks, Meg Ryan, Bill Pullman, Ross Malin...</td>\n",
       "      <td>[letter, arkansas, childbirth, biracial, matri...</td>\n",
       "    </tr>\n",
       "    <tr>\n",
       "      <th>3</th>\n",
       "      <td>1</td>\n",
       "      <td>1246</td>\n",
       "      <td>5.0</td>\n",
       "      <td>1425941556</td>\n",
       "      <td>[friendship, romantic comedy, teenager, lovesi...</td>\n",
       "      <td>1246</td>\n",
       "      <td>[Sylvester Stallone, Burt Young, Milo Ventimig...</td>\n",
       "      <td>[friendship, romantic comedy, teenager, lovesi...</td>\n",
       "    </tr>\n",
       "    <tr>\n",
       "      <th>4</th>\n",
       "      <td>1</td>\n",
       "      <td>1968</td>\n",
       "      <td>4.0</td>\n",
       "      <td>1425942148</td>\n",
       "      <td>[pop, pop culture, pop star]</td>\n",
       "      <td>1968</td>\n",
       "      <td>[Matthew Perry, Salma Hayek, Jon Tenney, Siobh...</td>\n",
       "      <td>[pop, pop culture, pop star, Matthew Perry, Sa...</td>\n",
       "    </tr>\n",
       "  </tbody>\n",
       "</table>\n",
       "</div>"
      ],
      "text/plain": [
       "   userId  movieId  rating   timestamp  \\\n",
       "0       1      110     1.0  1425941529   \n",
       "1       1      147     4.5  1425942435   \n",
       "2       1      858     5.0  1425941523   \n",
       "3       1     1246     5.0  1425941556   \n",
       "4       1     1968     4.0  1425942148   \n",
       "\n",
       "                                          keywords_x    id  \\\n",
       "0       [newspaper, adversary, reporter, experience]   110   \n",
       "1                                  [odessa, revenge]   147   \n",
       "2  [letter, arkansas, childbirth, biracial, matri...   858   \n",
       "3  [friendship, romantic comedy, teenager, lovesi...  1246   \n",
       "4                       [pop, pop culture, pop star]  1968   \n",
       "\n",
       "                                          keywords_y  \\\n",
       "0  [Irène Jacob, Jean-Louis Trintignant, Jean-Pie...   \n",
       "1  [Jean-Pierre Léaud, Claire Maurier, Albert Rém...   \n",
       "2  [Tom Hanks, Meg Ryan, Bill Pullman, Ross Malin...   \n",
       "3  [Sylvester Stallone, Burt Young, Milo Ventimig...   \n",
       "4  [Matthew Perry, Salma Hayek, Jon Tenney, Siobh...   \n",
       "\n",
       "                                            keywords  \n",
       "0  [newspaper, adversary, reporter, experience, I...  \n",
       "1  [odessa, revenge, Jean-Pierre Léaud, Claire Ma...  \n",
       "2  [letter, arkansas, childbirth, biracial, matri...  \n",
       "3  [friendship, romantic comedy, teenager, lovesi...  \n",
       "4  [pop, pop culture, pop star, Matthew Perry, Sa...  "
      ]
     },
     "execution_count": 30,
     "metadata": {},
     "output_type": "execute_result"
    }
   ],
   "source": [
    "ratings_df.head(5)"
   ]
  },
  {
   "cell_type": "code",
   "execution_count": null,
   "id": "051f0ec2-c8e2-4003-92b4-db72c3a0fcc7",
   "metadata": {},
   "outputs": [],
   "source": []
  },
  {
   "cell_type": "code",
   "execution_count": 31,
   "id": "082b1515-9603-46cc-b504-cabe54193e79",
   "metadata": {},
   "outputs": [],
   "source": [
    "ratings_df = ratings_df.drop(columns=['keywords_x', 'keywords_y', 'id'])"
   ]
  },
  {
   "cell_type": "code",
   "execution_count": 32,
   "id": "9e9888cb-b21c-4e62-a206-563d6aaf2c25",
   "metadata": {},
   "outputs": [
    {
     "data": {
      "text/html": [
       "<div>\n",
       "<style scoped>\n",
       "    .dataframe tbody tr th:only-of-type {\n",
       "        vertical-align: middle;\n",
       "    }\n",
       "\n",
       "    .dataframe tbody tr th {\n",
       "        vertical-align: top;\n",
       "    }\n",
       "\n",
       "    .dataframe thead th {\n",
       "        text-align: right;\n",
       "    }\n",
       "</style>\n",
       "<table border=\"1\" class=\"dataframe\">\n",
       "  <thead>\n",
       "    <tr style=\"text-align: right;\">\n",
       "      <th></th>\n",
       "      <th>userId</th>\n",
       "      <th>movieId</th>\n",
       "      <th>rating</th>\n",
       "      <th>timestamp</th>\n",
       "      <th>keywords</th>\n",
       "    </tr>\n",
       "  </thead>\n",
       "  <tbody>\n",
       "    <tr>\n",
       "      <th>0</th>\n",
       "      <td>1</td>\n",
       "      <td>110</td>\n",
       "      <td>1.0</td>\n",
       "      <td>1425941529</td>\n",
       "      <td>[newspaper, adversary, reporter, experience, I...</td>\n",
       "    </tr>\n",
       "    <tr>\n",
       "      <th>1</th>\n",
       "      <td>1</td>\n",
       "      <td>147</td>\n",
       "      <td>4.5</td>\n",
       "      <td>1425942435</td>\n",
       "      <td>[odessa, revenge, Jean-Pierre Léaud, Claire Ma...</td>\n",
       "    </tr>\n",
       "    <tr>\n",
       "      <th>2</th>\n",
       "      <td>1</td>\n",
       "      <td>858</td>\n",
       "      <td>5.0</td>\n",
       "      <td>1425941523</td>\n",
       "      <td>[letter, arkansas, childbirth, biracial, matri...</td>\n",
       "    </tr>\n",
       "    <tr>\n",
       "      <th>3</th>\n",
       "      <td>1</td>\n",
       "      <td>1246</td>\n",
       "      <td>5.0</td>\n",
       "      <td>1425941556</td>\n",
       "      <td>[friendship, romantic comedy, teenager, lovesi...</td>\n",
       "    </tr>\n",
       "    <tr>\n",
       "      <th>4</th>\n",
       "      <td>1</td>\n",
       "      <td>1968</td>\n",
       "      <td>4.0</td>\n",
       "      <td>1425942148</td>\n",
       "      <td>[pop, pop culture, pop star, Matthew Perry, Sa...</td>\n",
       "    </tr>\n",
       "  </tbody>\n",
       "</table>\n",
       "</div>"
      ],
      "text/plain": [
       "   userId  movieId  rating   timestamp  \\\n",
       "0       1      110     1.0  1425941529   \n",
       "1       1      147     4.5  1425942435   \n",
       "2       1      858     5.0  1425941523   \n",
       "3       1     1246     5.0  1425941556   \n",
       "4       1     1968     4.0  1425942148   \n",
       "\n",
       "                                            keywords  \n",
       "0  [newspaper, adversary, reporter, experience, I...  \n",
       "1  [odessa, revenge, Jean-Pierre Léaud, Claire Ma...  \n",
       "2  [letter, arkansas, childbirth, biracial, matri...  \n",
       "3  [friendship, romantic comedy, teenager, lovesi...  \n",
       "4  [pop, pop culture, pop star, Matthew Perry, Sa...  "
      ]
     },
     "execution_count": 32,
     "metadata": {},
     "output_type": "execute_result"
    }
   ],
   "source": [
    "ratings_df.head()"
   ]
  },
  {
   "cell_type": "code",
   "execution_count": 33,
   "id": "42b70ef2-7148-4cfa-8c5f-3d151b716805",
   "metadata": {},
   "outputs": [],
   "source": [
    "# we will make a neural network which will evaluate on input movieId and output list of userId with possible ratings"
   ]
  },
  {
   "cell_type": "code",
   "execution_count": 34,
   "id": "6a733e36-a766-4c30-8c4d-c265dc41782e",
   "metadata": {},
   "outputs": [],
   "source": [
    "# To do this task i first got confused how to pass userId, movieId, ratings and keywords, four things in neural network,\n",
    "# but I realize we don't need to pass movieId, we can pass keywords and userId in input layer and rating will be\n",
    "# our output. Based on userId and keywords our neuron will learn rating patterns of the user on given keywords.\n",
    "# From user we will ask for userId and movieId, from movieId we will extract the keywords, then our model will \n",
    "# predict the ouput. \n",
    "# Here we will also perform decision tree, random forest and Bayes theorem and compare the accuracy."
   ]
  },
  {
   "cell_type": "code",
   "execution_count": 35,
   "id": "33de7000-7fd5-4f47-adeb-dbdbe0cdaf51",
   "metadata": {},
   "outputs": [],
   "source": [
    "# Performing Encoding\n",
    "\n",
    "user_encoder = LabelEncoder()\n",
    "movie_encoder = LabelEncoder()\n",
    "\n",
    "ratings_df['userId'] = user_encoder.fit_transform(ratings_df['userId'])\n",
    "ratings_df['movieId'] = movie_encoder.fit_transform(ratings_df['movieId'])"
   ]
  },
  {
   "cell_type": "code",
   "execution_count": 36,
   "id": "9328dc3b-a494-4992-96d4-1f8c6ef6f6dc",
   "metadata": {},
   "outputs": [
    {
     "data": {
      "text/html": [
       "<div>\n",
       "<style scoped>\n",
       "    .dataframe tbody tr th:only-of-type {\n",
       "        vertical-align: middle;\n",
       "    }\n",
       "\n",
       "    .dataframe tbody tr th {\n",
       "        vertical-align: top;\n",
       "    }\n",
       "\n",
       "    .dataframe thead th {\n",
       "        text-align: right;\n",
       "    }\n",
       "</style>\n",
       "<table border=\"1\" class=\"dataframe\">\n",
       "  <thead>\n",
       "    <tr style=\"text-align: right;\">\n",
       "      <th></th>\n",
       "      <th>userId</th>\n",
       "      <th>movieId</th>\n",
       "      <th>rating</th>\n",
       "      <th>timestamp</th>\n",
       "      <th>keywords</th>\n",
       "    </tr>\n",
       "  </thead>\n",
       "  <tbody>\n",
       "    <tr>\n",
       "      <th>0</th>\n",
       "      <td>0</td>\n",
       "      <td>72</td>\n",
       "      <td>1.0</td>\n",
       "      <td>1425941529</td>\n",
       "      <td>[newspaper, adversary, reporter, experience, I...</td>\n",
       "    </tr>\n",
       "    <tr>\n",
       "      <th>1</th>\n",
       "      <td>0</td>\n",
       "      <td>104</td>\n",
       "      <td>4.5</td>\n",
       "      <td>1425942435</td>\n",
       "      <td>[odessa, revenge, Jean-Pierre Léaud, Claire Ma...</td>\n",
       "    </tr>\n",
       "    <tr>\n",
       "      <th>2</th>\n",
       "      <td>0</td>\n",
       "      <td>666</td>\n",
       "      <td>5.0</td>\n",
       "      <td>1425941523</td>\n",
       "      <td>[letter, arkansas, childbirth, biracial, matri...</td>\n",
       "    </tr>\n",
       "    <tr>\n",
       "      <th>3</th>\n",
       "      <td>0</td>\n",
       "      <td>815</td>\n",
       "      <td>5.0</td>\n",
       "      <td>1425941556</td>\n",
       "      <td>[friendship, romantic comedy, teenager, lovesi...</td>\n",
       "    </tr>\n",
       "    <tr>\n",
       "      <th>4</th>\n",
       "      <td>0</td>\n",
       "      <td>1206</td>\n",
       "      <td>4.0</td>\n",
       "      <td>1425942148</td>\n",
       "      <td>[pop, pop culture, pop star, Matthew Perry, Sa...</td>\n",
       "    </tr>\n",
       "  </tbody>\n",
       "</table>\n",
       "</div>"
      ],
      "text/plain": [
       "   userId  movieId  rating   timestamp  \\\n",
       "0       0       72     1.0  1425941529   \n",
       "1       0      104     4.5  1425942435   \n",
       "2       0      666     5.0  1425941523   \n",
       "3       0      815     5.0  1425941556   \n",
       "4       0     1206     4.0  1425942148   \n",
       "\n",
       "                                            keywords  \n",
       "0  [newspaper, adversary, reporter, experience, I...  \n",
       "1  [odessa, revenge, Jean-Pierre Léaud, Claire Ma...  \n",
       "2  [letter, arkansas, childbirth, biracial, matri...  \n",
       "3  [friendship, romantic comedy, teenager, lovesi...  \n",
       "4  [pop, pop culture, pop star, Matthew Perry, Sa...  "
      ]
     },
     "execution_count": 36,
     "metadata": {},
     "output_type": "execute_result"
    }
   ],
   "source": [
    "ratings_df.head()"
   ]
  },
  {
   "cell_type": "code",
   "execution_count": 37,
   "id": "d1eb5db6-b538-4435-aab6-191f589bbbec",
   "metadata": {},
   "outputs": [],
   "source": [
    "# Normalization\n",
    "\n",
    "scaler = MinMaxScaler()\n",
    "ratings_df['rating'] = scaler.fit_transform(ratings_df[['rating']])"
   ]
  },
  {
   "cell_type": "code",
   "execution_count": null,
   "id": "1e79bb9e-3667-4ff9-b337-318e9fa4b098",
   "metadata": {},
   "outputs": [],
   "source": []
  },
  {
   "cell_type": "code",
   "execution_count": 38,
   "id": "ee71e7df-dada-45c4-b709-16140bed0b9e",
   "metadata": {},
   "outputs": [],
   "source": [
    "# Convert keywords to TF-IDF vectors\n",
    "\n",
    "tfidf_vectorizer = TfidfVectorizer(max_features=100)  # Select top 100 important keywords\n",
    "keywords_matrix = tfidf_vectorizer.fit_transform(ratings_df['keywords'].astype(str)).toarray()"
   ]
  },
  {
   "cell_type": "code",
   "execution_count": 39,
   "id": "82ce6d44-4fc1-465f-98e1-ae38ab7e7255",
   "metadata": {},
   "outputs": [
    {
     "data": {
      "text/html": [
       "<div>\n",
       "<style scoped>\n",
       "    .dataframe tbody tr th:only-of-type {\n",
       "        vertical-align: middle;\n",
       "    }\n",
       "\n",
       "    .dataframe tbody tr th {\n",
       "        vertical-align: top;\n",
       "    }\n",
       "\n",
       "    .dataframe thead th {\n",
       "        text-align: right;\n",
       "    }\n",
       "</style>\n",
       "<table border=\"1\" class=\"dataframe\">\n",
       "  <thead>\n",
       "    <tr style=\"text-align: right;\">\n",
       "      <th></th>\n",
       "      <th>userId</th>\n",
       "      <th>movieId</th>\n",
       "      <th>rating</th>\n",
       "      <th>timestamp</th>\n",
       "      <th>keywords</th>\n",
       "    </tr>\n",
       "  </thead>\n",
       "  <tbody>\n",
       "    <tr>\n",
       "      <th>0</th>\n",
       "      <td>0</td>\n",
       "      <td>72</td>\n",
       "      <td>0.111111</td>\n",
       "      <td>1425941529</td>\n",
       "      <td>[newspaper, adversary, reporter, experience, I...</td>\n",
       "    </tr>\n",
       "    <tr>\n",
       "      <th>1</th>\n",
       "      <td>0</td>\n",
       "      <td>104</td>\n",
       "      <td>0.888889</td>\n",
       "      <td>1425942435</td>\n",
       "      <td>[odessa, revenge, Jean-Pierre Léaud, Claire Ma...</td>\n",
       "    </tr>\n",
       "    <tr>\n",
       "      <th>2</th>\n",
       "      <td>0</td>\n",
       "      <td>666</td>\n",
       "      <td>1.000000</td>\n",
       "      <td>1425941523</td>\n",
       "      <td>[letter, arkansas, childbirth, biracial, matri...</td>\n",
       "    </tr>\n",
       "    <tr>\n",
       "      <th>3</th>\n",
       "      <td>0</td>\n",
       "      <td>815</td>\n",
       "      <td>1.000000</td>\n",
       "      <td>1425941556</td>\n",
       "      <td>[friendship, romantic comedy, teenager, lovesi...</td>\n",
       "    </tr>\n",
       "    <tr>\n",
       "      <th>4</th>\n",
       "      <td>0</td>\n",
       "      <td>1206</td>\n",
       "      <td>0.777778</td>\n",
       "      <td>1425942148</td>\n",
       "      <td>[pop, pop culture, pop star, Matthew Perry, Sa...</td>\n",
       "    </tr>\n",
       "  </tbody>\n",
       "</table>\n",
       "</div>"
      ],
      "text/plain": [
       "   userId  movieId    rating   timestamp  \\\n",
       "0       0       72  0.111111  1425941529   \n",
       "1       0      104  0.888889  1425942435   \n",
       "2       0      666  1.000000  1425941523   \n",
       "3       0      815  1.000000  1425941556   \n",
       "4       0     1206  0.777778  1425942148   \n",
       "\n",
       "                                            keywords  \n",
       "0  [newspaper, adversary, reporter, experience, I...  \n",
       "1  [odessa, revenge, Jean-Pierre Léaud, Claire Ma...  \n",
       "2  [letter, arkansas, childbirth, biracial, matri...  \n",
       "3  [friendship, romantic comedy, teenager, lovesi...  \n",
       "4  [pop, pop culture, pop star, Matthew Perry, Sa...  "
      ]
     },
     "execution_count": 39,
     "metadata": {},
     "output_type": "execute_result"
    }
   ],
   "source": [
    "ratings_df.head()"
   ]
  },
  {
   "cell_type": "code",
   "execution_count": 40,
   "id": "d1f17fdc-648c-4f45-90da-3ea2d16cffe5",
   "metadata": {},
   "outputs": [],
   "source": [
    "# Train-test split\n",
    "train_df, test_df, train_keywords, test_keywords = train_test_split(\n",
    "    ratings_df, keywords_matrix, test_size=0.2, random_state=42\n",
    ")"
   ]
  },
  {
   "cell_type": "code",
   "execution_count": 41,
   "id": "96afbe04-6518-4fc1-91a2-f7f316965e5c",
   "metadata": {},
   "outputs": [],
   "source": [
    "# user tensorflow\n",
    "# create tensor - data preparation\n",
    "# import and create Normalizer\n",
    "# pass the normalizer inside sequentiallayer\n",
    "# create other layers(Input and dense layer)\n",
    "# visualize the layers - create summary(model.summary()) and ploting(tf.keras.util.plot_model(model, to_file=\"\", show_shapes=True))\n",
    "# compile the model and calculate loss for optimization\n",
    "# check modle performance using metric attribute"
   ]
  },
  {
   "cell_type": "code",
   "execution_count": 42,
   "id": "0609b0d1-393d-4cc3-945d-37b18c80219b",
   "metadata": {},
   "outputs": [
    {
     "name": "stdout",
     "output_type": "stream",
     "text": [
      "46077\n",
      "6682\n",
      "100\n"
     ]
    }
   ],
   "source": [
    "num_users = ratings_df['userId'].nunique()\n",
    "num_movies = ratings_df['movieId'].nunique()\n",
    "keyword_dim = train_keywords.shape[1]\n",
    "print(num_users)\n",
    "print(num_movies)\n",
    "print(keyword_dim)"
   ]
  },
  {
   "cell_type": "code",
   "execution_count": 43,
   "id": "bdffdd3e-2dfb-4e47-b130-dccc56b7dbc4",
   "metadata": {},
   "outputs": [],
   "source": [
    "# creating Input layer\n",
    "\n",
    "user_input = Input(shape=(1,), name=\"User_Input\")\n",
    "movie_input = Input(shape=(1,), name=\"Movie_Input\")\n",
    "keyword_input = Input(shape=(keyword_dim,), name=\"Keyword_Input\")"
   ]
  },
  {
   "cell_type": "code",
   "execution_count": 44,
   "id": "28a0eaee-fb42-46b1-b2d8-8f3bd67d7f4c",
   "metadata": {},
   "outputs": [
    {
     "name": "stderr",
     "output_type": "stream",
     "text": [
      "2025-02-19 20:02:55.732506: E external/local_xla/xla/stream_executor/cuda/cuda_driver.cc:152] failed call to cuInit: INTERNAL: CUDA error: Failed call to cuInit: UNKNOWN ERROR (303)\n"
     ]
    }
   ],
   "source": [
    "# Embedding layers\n",
    "\n",
    "user_embedding = Embedding(input_dim=num_users, output_dim=50, name=\"User_Embedding\")(user_input)\n",
    "movie_embedding = Embedding(input_dim=num_movies, output_dim=50, name=\"Movie_Embedding\")(movie_input)"
   ]
  },
  {
   "cell_type": "code",
   "execution_count": 45,
   "id": "1f899357-1e01-4bbf-ad7d-fe8b61cbfa6a",
   "metadata": {},
   "outputs": [],
   "source": [
    "# Flatten/Vectorizing embeddings\n",
    "\n",
    "user_vec = Flatten()(user_embedding)\n",
    "movie_vec = Flatten()(movie_embedding)"
   ]
  },
  {
   "cell_type": "code",
   "execution_count": 46,
   "id": "47270ab6-def3-4e63-9d2f-88a6c2ab7017",
   "metadata": {},
   "outputs": [],
   "source": [
    "# Concatenate embeddings\n",
    "\n",
    "concat = Concatenate()([user_vec, movie_vec, keyword_input])"
   ]
  },
  {
   "cell_type": "code",
   "execution_count": 47,
   "id": "a1e0b743-f17f-4b51-ba79-f76f2dd75e05",
   "metadata": {},
   "outputs": [],
   "source": [
    "# Deep Neural Network with Dropout and BatchNorm\n",
    "dense_1 = Dense(256, activation='relu')(concat)\n",
    "dense_1 = BatchNormalization()(dense_1)\n",
    "dense_1 = Dropout(0.3)(dense_1)\n",
    "\n",
    "dense_2 = Dense(128, activation='relu')(dense_1)\n",
    "dense_2 = BatchNormalization()(dense_2)\n",
    "dense_2 = Dropout(0.2)(dense_2)\n",
    "\n",
    "dense_3 = Dense(64, activation='relu')(dense_2)\n",
    "\n",
    "output = Dense(1, activation='sigmoid')(dense_3)  # Output is normalized"
   ]
  },
  {
   "cell_type": "code",
   "execution_count": 48,
   "id": "20b08235-5ec3-4a29-8359-b3313f0f2879",
   "metadata": {},
   "outputs": [
    {
     "data": {
      "text/html": [
       "<pre style=\"white-space:pre;overflow-x:auto;line-height:normal;font-family:Menlo,'DejaVu Sans Mono',consolas,'Courier New',monospace\"><span style=\"font-weight: bold\">Model: \"functional\"</span>\n",
       "</pre>\n"
      ],
      "text/plain": [
       "\u001b[1mModel: \"functional\"\u001b[0m\n"
      ]
     },
     "metadata": {},
     "output_type": "display_data"
    },
    {
     "data": {
      "text/html": [
       "<pre style=\"white-space:pre;overflow-x:auto;line-height:normal;font-family:Menlo,'DejaVu Sans Mono',consolas,'Courier New',monospace\">┏━━━━━━━━━━━━━━━━━━━━━┳━━━━━━━━━━━━━━━━━━━┳━━━━━━━━━━━━┳━━━━━━━━━━━━━━━━━━━┓\n",
       "┃<span style=\"font-weight: bold\"> Layer (type)        </span>┃<span style=\"font-weight: bold\"> Output Shape      </span>┃<span style=\"font-weight: bold\">    Param # </span>┃<span style=\"font-weight: bold\"> Connected to      </span>┃\n",
       "┡━━━━━━━━━━━━━━━━━━━━━╇━━━━━━━━━━━━━━━━━━━╇━━━━━━━━━━━━╇━━━━━━━━━━━━━━━━━━━┩\n",
       "│ User_Input          │ (<span style=\"color: #00d7ff; text-decoration-color: #00d7ff\">None</span>, <span style=\"color: #00af00; text-decoration-color: #00af00\">1</span>)         │          <span style=\"color: #00af00; text-decoration-color: #00af00\">0</span> │ -                 │\n",
       "│ (<span style=\"color: #0087ff; text-decoration-color: #0087ff\">InputLayer</span>)        │                   │            │                   │\n",
       "├─────────────────────┼───────────────────┼────────────┼───────────────────┤\n",
       "│ Movie_Input         │ (<span style=\"color: #00d7ff; text-decoration-color: #00d7ff\">None</span>, <span style=\"color: #00af00; text-decoration-color: #00af00\">1</span>)         │          <span style=\"color: #00af00; text-decoration-color: #00af00\">0</span> │ -                 │\n",
       "│ (<span style=\"color: #0087ff; text-decoration-color: #0087ff\">InputLayer</span>)        │                   │            │                   │\n",
       "├─────────────────────┼───────────────────┼────────────┼───────────────────┤\n",
       "│ User_Embedding      │ (<span style=\"color: #00d7ff; text-decoration-color: #00d7ff\">None</span>, <span style=\"color: #00af00; text-decoration-color: #00af00\">1</span>, <span style=\"color: #00af00; text-decoration-color: #00af00\">50</span>)     │  <span style=\"color: #00af00; text-decoration-color: #00af00\">2,303,850</span> │ User_Input[<span style=\"color: #00af00; text-decoration-color: #00af00\">0</span>][<span style=\"color: #00af00; text-decoration-color: #00af00\">0</span>]  │\n",
       "│ (<span style=\"color: #0087ff; text-decoration-color: #0087ff\">Embedding</span>)         │                   │            │                   │\n",
       "├─────────────────────┼───────────────────┼────────────┼───────────────────┤\n",
       "│ Movie_Embedding     │ (<span style=\"color: #00d7ff; text-decoration-color: #00d7ff\">None</span>, <span style=\"color: #00af00; text-decoration-color: #00af00\">1</span>, <span style=\"color: #00af00; text-decoration-color: #00af00\">50</span>)     │    <span style=\"color: #00af00; text-decoration-color: #00af00\">334,100</span> │ Movie_Input[<span style=\"color: #00af00; text-decoration-color: #00af00\">0</span>][<span style=\"color: #00af00; text-decoration-color: #00af00\">0</span>] │\n",
       "│ (<span style=\"color: #0087ff; text-decoration-color: #0087ff\">Embedding</span>)         │                   │            │                   │\n",
       "├─────────────────────┼───────────────────┼────────────┼───────────────────┤\n",
       "│ flatten (<span style=\"color: #0087ff; text-decoration-color: #0087ff\">Flatten</span>)   │ (<span style=\"color: #00d7ff; text-decoration-color: #00d7ff\">None</span>, <span style=\"color: #00af00; text-decoration-color: #00af00\">50</span>)        │          <span style=\"color: #00af00; text-decoration-color: #00af00\">0</span> │ User_Embedding[<span style=\"color: #00af00; text-decoration-color: #00af00\">0</span>… │\n",
       "├─────────────────────┼───────────────────┼────────────┼───────────────────┤\n",
       "│ flatten_1 (<span style=\"color: #0087ff; text-decoration-color: #0087ff\">Flatten</span>) │ (<span style=\"color: #00d7ff; text-decoration-color: #00d7ff\">None</span>, <span style=\"color: #00af00; text-decoration-color: #00af00\">50</span>)        │          <span style=\"color: #00af00; text-decoration-color: #00af00\">0</span> │ Movie_Embedding[<span style=\"color: #00af00; text-decoration-color: #00af00\">…</span> │\n",
       "├─────────────────────┼───────────────────┼────────────┼───────────────────┤\n",
       "│ Keyword_Input       │ (<span style=\"color: #00d7ff; text-decoration-color: #00d7ff\">None</span>, <span style=\"color: #00af00; text-decoration-color: #00af00\">100</span>)       │          <span style=\"color: #00af00; text-decoration-color: #00af00\">0</span> │ -                 │\n",
       "│ (<span style=\"color: #0087ff; text-decoration-color: #0087ff\">InputLayer</span>)        │                   │            │                   │\n",
       "├─────────────────────┼───────────────────┼────────────┼───────────────────┤\n",
       "│ concatenate         │ (<span style=\"color: #00d7ff; text-decoration-color: #00d7ff\">None</span>, <span style=\"color: #00af00; text-decoration-color: #00af00\">200</span>)       │          <span style=\"color: #00af00; text-decoration-color: #00af00\">0</span> │ flatten[<span style=\"color: #00af00; text-decoration-color: #00af00\">0</span>][<span style=\"color: #00af00; text-decoration-color: #00af00\">0</span>],    │\n",
       "│ (<span style=\"color: #0087ff; text-decoration-color: #0087ff\">Concatenate</span>)       │                   │            │ flatten_1[<span style=\"color: #00af00; text-decoration-color: #00af00\">0</span>][<span style=\"color: #00af00; text-decoration-color: #00af00\">0</span>],  │\n",
       "│                     │                   │            │ Keyword_Input[<span style=\"color: #00af00; text-decoration-color: #00af00\">0</span>]… │\n",
       "├─────────────────────┼───────────────────┼────────────┼───────────────────┤\n",
       "│ dense (<span style=\"color: #0087ff; text-decoration-color: #0087ff\">Dense</span>)       │ (<span style=\"color: #00d7ff; text-decoration-color: #00d7ff\">None</span>, <span style=\"color: #00af00; text-decoration-color: #00af00\">256</span>)       │     <span style=\"color: #00af00; text-decoration-color: #00af00\">51,456</span> │ concatenate[<span style=\"color: #00af00; text-decoration-color: #00af00\">0</span>][<span style=\"color: #00af00; text-decoration-color: #00af00\">0</span>] │\n",
       "├─────────────────────┼───────────────────┼────────────┼───────────────────┤\n",
       "│ batch_normalization │ (<span style=\"color: #00d7ff; text-decoration-color: #00d7ff\">None</span>, <span style=\"color: #00af00; text-decoration-color: #00af00\">256</span>)       │      <span style=\"color: #00af00; text-decoration-color: #00af00\">1,024</span> │ dense[<span style=\"color: #00af00; text-decoration-color: #00af00\">0</span>][<span style=\"color: #00af00; text-decoration-color: #00af00\">0</span>]       │\n",
       "│ (<span style=\"color: #0087ff; text-decoration-color: #0087ff\">BatchNormalizatio…</span> │                   │            │                   │\n",
       "├─────────────────────┼───────────────────┼────────────┼───────────────────┤\n",
       "│ dropout (<span style=\"color: #0087ff; text-decoration-color: #0087ff\">Dropout</span>)   │ (<span style=\"color: #00d7ff; text-decoration-color: #00d7ff\">None</span>, <span style=\"color: #00af00; text-decoration-color: #00af00\">256</span>)       │          <span style=\"color: #00af00; text-decoration-color: #00af00\">0</span> │ batch_normalizat… │\n",
       "├─────────────────────┼───────────────────┼────────────┼───────────────────┤\n",
       "│ dense_1 (<span style=\"color: #0087ff; text-decoration-color: #0087ff\">Dense</span>)     │ (<span style=\"color: #00d7ff; text-decoration-color: #00d7ff\">None</span>, <span style=\"color: #00af00; text-decoration-color: #00af00\">128</span>)       │     <span style=\"color: #00af00; text-decoration-color: #00af00\">32,896</span> │ dropout[<span style=\"color: #00af00; text-decoration-color: #00af00\">0</span>][<span style=\"color: #00af00; text-decoration-color: #00af00\">0</span>]     │\n",
       "├─────────────────────┼───────────────────┼────────────┼───────────────────┤\n",
       "│ batch_normalizatio… │ (<span style=\"color: #00d7ff; text-decoration-color: #00d7ff\">None</span>, <span style=\"color: #00af00; text-decoration-color: #00af00\">128</span>)       │        <span style=\"color: #00af00; text-decoration-color: #00af00\">512</span> │ dense_1[<span style=\"color: #00af00; text-decoration-color: #00af00\">0</span>][<span style=\"color: #00af00; text-decoration-color: #00af00\">0</span>]     │\n",
       "│ (<span style=\"color: #0087ff; text-decoration-color: #0087ff\">BatchNormalizatio…</span> │                   │            │                   │\n",
       "├─────────────────────┼───────────────────┼────────────┼───────────────────┤\n",
       "│ dropout_1 (<span style=\"color: #0087ff; text-decoration-color: #0087ff\">Dropout</span>) │ (<span style=\"color: #00d7ff; text-decoration-color: #00d7ff\">None</span>, <span style=\"color: #00af00; text-decoration-color: #00af00\">128</span>)       │          <span style=\"color: #00af00; text-decoration-color: #00af00\">0</span> │ batch_normalizat… │\n",
       "├─────────────────────┼───────────────────┼────────────┼───────────────────┤\n",
       "│ dense_2 (<span style=\"color: #0087ff; text-decoration-color: #0087ff\">Dense</span>)     │ (<span style=\"color: #00d7ff; text-decoration-color: #00d7ff\">None</span>, <span style=\"color: #00af00; text-decoration-color: #00af00\">64</span>)        │      <span style=\"color: #00af00; text-decoration-color: #00af00\">8,256</span> │ dropout_1[<span style=\"color: #00af00; text-decoration-color: #00af00\">0</span>][<span style=\"color: #00af00; text-decoration-color: #00af00\">0</span>]   │\n",
       "├─────────────────────┼───────────────────┼────────────┼───────────────────┤\n",
       "│ dense_3 (<span style=\"color: #0087ff; text-decoration-color: #0087ff\">Dense</span>)     │ (<span style=\"color: #00d7ff; text-decoration-color: #00d7ff\">None</span>, <span style=\"color: #00af00; text-decoration-color: #00af00\">1</span>)         │         <span style=\"color: #00af00; text-decoration-color: #00af00\">65</span> │ dense_2[<span style=\"color: #00af00; text-decoration-color: #00af00\">0</span>][<span style=\"color: #00af00; text-decoration-color: #00af00\">0</span>]     │\n",
       "└─────────────────────┴───────────────────┴────────────┴───────────────────┘\n",
       "</pre>\n"
      ],
      "text/plain": [
       "┏━━━━━━━━━━━━━━━━━━━━━┳━━━━━━━━━━━━━━━━━━━┳━━━━━━━━━━━━┳━━━━━━━━━━━━━━━━━━━┓\n",
       "┃\u001b[1m \u001b[0m\u001b[1mLayer (type)       \u001b[0m\u001b[1m \u001b[0m┃\u001b[1m \u001b[0m\u001b[1mOutput Shape     \u001b[0m\u001b[1m \u001b[0m┃\u001b[1m \u001b[0m\u001b[1m   Param #\u001b[0m\u001b[1m \u001b[0m┃\u001b[1m \u001b[0m\u001b[1mConnected to     \u001b[0m\u001b[1m \u001b[0m┃\n",
       "┡━━━━━━━━━━━━━━━━━━━━━╇━━━━━━━━━━━━━━━━━━━╇━━━━━━━━━━━━╇━━━━━━━━━━━━━━━━━━━┩\n",
       "│ User_Input          │ (\u001b[38;5;45mNone\u001b[0m, \u001b[38;5;34m1\u001b[0m)         │          \u001b[38;5;34m0\u001b[0m │ -                 │\n",
       "│ (\u001b[38;5;33mInputLayer\u001b[0m)        │                   │            │                   │\n",
       "├─────────────────────┼───────────────────┼────────────┼───────────────────┤\n",
       "│ Movie_Input         │ (\u001b[38;5;45mNone\u001b[0m, \u001b[38;5;34m1\u001b[0m)         │          \u001b[38;5;34m0\u001b[0m │ -                 │\n",
       "│ (\u001b[38;5;33mInputLayer\u001b[0m)        │                   │            │                   │\n",
       "├─────────────────────┼───────────────────┼────────────┼───────────────────┤\n",
       "│ User_Embedding      │ (\u001b[38;5;45mNone\u001b[0m, \u001b[38;5;34m1\u001b[0m, \u001b[38;5;34m50\u001b[0m)     │  \u001b[38;5;34m2,303,850\u001b[0m │ User_Input[\u001b[38;5;34m0\u001b[0m][\u001b[38;5;34m0\u001b[0m]  │\n",
       "│ (\u001b[38;5;33mEmbedding\u001b[0m)         │                   │            │                   │\n",
       "├─────────────────────┼───────────────────┼────────────┼───────────────────┤\n",
       "│ Movie_Embedding     │ (\u001b[38;5;45mNone\u001b[0m, \u001b[38;5;34m1\u001b[0m, \u001b[38;5;34m50\u001b[0m)     │    \u001b[38;5;34m334,100\u001b[0m │ Movie_Input[\u001b[38;5;34m0\u001b[0m][\u001b[38;5;34m0\u001b[0m] │\n",
       "│ (\u001b[38;5;33mEmbedding\u001b[0m)         │                   │            │                   │\n",
       "├─────────────────────┼───────────────────┼────────────┼───────────────────┤\n",
       "│ flatten (\u001b[38;5;33mFlatten\u001b[0m)   │ (\u001b[38;5;45mNone\u001b[0m, \u001b[38;5;34m50\u001b[0m)        │          \u001b[38;5;34m0\u001b[0m │ User_Embedding[\u001b[38;5;34m0\u001b[0m… │\n",
       "├─────────────────────┼───────────────────┼────────────┼───────────────────┤\n",
       "│ flatten_1 (\u001b[38;5;33mFlatten\u001b[0m) │ (\u001b[38;5;45mNone\u001b[0m, \u001b[38;5;34m50\u001b[0m)        │          \u001b[38;5;34m0\u001b[0m │ Movie_Embedding[\u001b[38;5;34m…\u001b[0m │\n",
       "├─────────────────────┼───────────────────┼────────────┼───────────────────┤\n",
       "│ Keyword_Input       │ (\u001b[38;5;45mNone\u001b[0m, \u001b[38;5;34m100\u001b[0m)       │          \u001b[38;5;34m0\u001b[0m │ -                 │\n",
       "│ (\u001b[38;5;33mInputLayer\u001b[0m)        │                   │            │                   │\n",
       "├─────────────────────┼───────────────────┼────────────┼───────────────────┤\n",
       "│ concatenate         │ (\u001b[38;5;45mNone\u001b[0m, \u001b[38;5;34m200\u001b[0m)       │          \u001b[38;5;34m0\u001b[0m │ flatten[\u001b[38;5;34m0\u001b[0m][\u001b[38;5;34m0\u001b[0m],    │\n",
       "│ (\u001b[38;5;33mConcatenate\u001b[0m)       │                   │            │ flatten_1[\u001b[38;5;34m0\u001b[0m][\u001b[38;5;34m0\u001b[0m],  │\n",
       "│                     │                   │            │ Keyword_Input[\u001b[38;5;34m0\u001b[0m]… │\n",
       "├─────────────────────┼───────────────────┼────────────┼───────────────────┤\n",
       "│ dense (\u001b[38;5;33mDense\u001b[0m)       │ (\u001b[38;5;45mNone\u001b[0m, \u001b[38;5;34m256\u001b[0m)       │     \u001b[38;5;34m51,456\u001b[0m │ concatenate[\u001b[38;5;34m0\u001b[0m][\u001b[38;5;34m0\u001b[0m] │\n",
       "├─────────────────────┼───────────────────┼────────────┼───────────────────┤\n",
       "│ batch_normalization │ (\u001b[38;5;45mNone\u001b[0m, \u001b[38;5;34m256\u001b[0m)       │      \u001b[38;5;34m1,024\u001b[0m │ dense[\u001b[38;5;34m0\u001b[0m][\u001b[38;5;34m0\u001b[0m]       │\n",
       "│ (\u001b[38;5;33mBatchNormalizatio…\u001b[0m │                   │            │                   │\n",
       "├─────────────────────┼───────────────────┼────────────┼───────────────────┤\n",
       "│ dropout (\u001b[38;5;33mDropout\u001b[0m)   │ (\u001b[38;5;45mNone\u001b[0m, \u001b[38;5;34m256\u001b[0m)       │          \u001b[38;5;34m0\u001b[0m │ batch_normalizat… │\n",
       "├─────────────────────┼───────────────────┼────────────┼───────────────────┤\n",
       "│ dense_1 (\u001b[38;5;33mDense\u001b[0m)     │ (\u001b[38;5;45mNone\u001b[0m, \u001b[38;5;34m128\u001b[0m)       │     \u001b[38;5;34m32,896\u001b[0m │ dropout[\u001b[38;5;34m0\u001b[0m][\u001b[38;5;34m0\u001b[0m]     │\n",
       "├─────────────────────┼───────────────────┼────────────┼───────────────────┤\n",
       "│ batch_normalizatio… │ (\u001b[38;5;45mNone\u001b[0m, \u001b[38;5;34m128\u001b[0m)       │        \u001b[38;5;34m512\u001b[0m │ dense_1[\u001b[38;5;34m0\u001b[0m][\u001b[38;5;34m0\u001b[0m]     │\n",
       "│ (\u001b[38;5;33mBatchNormalizatio…\u001b[0m │                   │            │                   │\n",
       "├─────────────────────┼───────────────────┼────────────┼───────────────────┤\n",
       "│ dropout_1 (\u001b[38;5;33mDropout\u001b[0m) │ (\u001b[38;5;45mNone\u001b[0m, \u001b[38;5;34m128\u001b[0m)       │          \u001b[38;5;34m0\u001b[0m │ batch_normalizat… │\n",
       "├─────────────────────┼───────────────────┼────────────┼───────────────────┤\n",
       "│ dense_2 (\u001b[38;5;33mDense\u001b[0m)     │ (\u001b[38;5;45mNone\u001b[0m, \u001b[38;5;34m64\u001b[0m)        │      \u001b[38;5;34m8,256\u001b[0m │ dropout_1[\u001b[38;5;34m0\u001b[0m][\u001b[38;5;34m0\u001b[0m]   │\n",
       "├─────────────────────┼───────────────────┼────────────┼───────────────────┤\n",
       "│ dense_3 (\u001b[38;5;33mDense\u001b[0m)     │ (\u001b[38;5;45mNone\u001b[0m, \u001b[38;5;34m1\u001b[0m)         │         \u001b[38;5;34m65\u001b[0m │ dense_2[\u001b[38;5;34m0\u001b[0m][\u001b[38;5;34m0\u001b[0m]     │\n",
       "└─────────────────────┴───────────────────┴────────────┴───────────────────┘\n"
      ]
     },
     "metadata": {},
     "output_type": "display_data"
    },
    {
     "data": {
      "text/html": [
       "<pre style=\"white-space:pre;overflow-x:auto;line-height:normal;font-family:Menlo,'DejaVu Sans Mono',consolas,'Courier New',monospace\"><span style=\"font-weight: bold\"> Total params: </span><span style=\"color: #00af00; text-decoration-color: #00af00\">2,732,159</span> (10.42 MB)\n",
       "</pre>\n"
      ],
      "text/plain": [
       "\u001b[1m Total params: \u001b[0m\u001b[38;5;34m2,732,159\u001b[0m (10.42 MB)\n"
      ]
     },
     "metadata": {},
     "output_type": "display_data"
    },
    {
     "data": {
      "text/html": [
       "<pre style=\"white-space:pre;overflow-x:auto;line-height:normal;font-family:Menlo,'DejaVu Sans Mono',consolas,'Courier New',monospace\"><span style=\"font-weight: bold\"> Trainable params: </span><span style=\"color: #00af00; text-decoration-color: #00af00\">2,731,391</span> (10.42 MB)\n",
       "</pre>\n"
      ],
      "text/plain": [
       "\u001b[1m Trainable params: \u001b[0m\u001b[38;5;34m2,731,391\u001b[0m (10.42 MB)\n"
      ]
     },
     "metadata": {},
     "output_type": "display_data"
    },
    {
     "data": {
      "text/html": [
       "<pre style=\"white-space:pre;overflow-x:auto;line-height:normal;font-family:Menlo,'DejaVu Sans Mono',consolas,'Courier New',monospace\"><span style=\"font-weight: bold\"> Non-trainable params: </span><span style=\"color: #00af00; text-decoration-color: #00af00\">768</span> (3.00 KB)\n",
       "</pre>\n"
      ],
      "text/plain": [
       "\u001b[1m Non-trainable params: \u001b[0m\u001b[38;5;34m768\u001b[0m (3.00 KB)\n"
      ]
     },
     "metadata": {},
     "output_type": "display_data"
    }
   ],
   "source": [
    "# Model Definition\n",
    "\n",
    "model = Model(inputs=[user_input, movie_input, keyword_input], outputs=output)\n",
    "model.summary()\n",
    "model.compile(loss='mse', optimizer=Adam(learning_rate=0.001), metrics=['mae'])"
   ]
  },
  {
   "cell_type": "code",
   "execution_count": 49,
   "id": "4133fb77-1ca6-4249-b2f0-ee09f67d162f",
   "metadata": {},
   "outputs": [],
   "source": [
    "# Early Stopping\n",
    "early_stop = EarlyStopping(monitor='val_loss', patience=3, restore_best_weights=True)"
   ]
  },
  {
   "cell_type": "code",
   "execution_count": null,
   "id": "ba460df2-c8f6-446f-9a5e-d9dcbb99cbe3",
   "metadata": {},
   "outputs": [
    {
     "name": "stdout",
     "output_type": "stream",
     "text": [
      "Epoch 1/8\n"
     ]
    },
    {
     "name": "stderr",
     "output_type": "stream",
     "text": [
      "/home/user/Desktop/internship project/Movie-Recommendator-System/env/lib/python3.12/site-packages/keras/src/models/functional.py:225: UserWarning: The structure of `inputs` doesn't match the expected structure: ['User_Input', 'Movie_Input', 'Keyword_Input']. Received: the structure of inputs=('*', '*', '*')\n",
      "  warnings.warn(\n"
     ]
    },
    {
     "name": "stdout",
     "output_type": "stream",
     "text": [
      "\u001b[1m25000/25000\u001b[0m \u001b[32m━━━━━━━━━━━━━━━━━━━━\u001b[0m\u001b[37m\u001b[0m \u001b[1m0s\u001b[0m 17ms/step - loss: 0.0449 - mae: 0.1642"
     ]
    },
    {
     "name": "stderr",
     "output_type": "stream",
     "text": [
      "/home/user/Desktop/internship project/Movie-Recommendator-System/env/lib/python3.12/site-packages/keras/src/models/functional.py:225: UserWarning: The structure of `inputs` doesn't match the expected structure: ['User_Input', 'Movie_Input', 'Keyword_Input']. Received: the structure of inputs=('*', '*', '*')\n",
      "  warnings.warn(\n"
     ]
    },
    {
     "name": "stdout",
     "output_type": "stream",
     "text": [
      "\u001b[1m25000/25000\u001b[0m \u001b[32m━━━━━━━━━━━━━━━━━━━━\u001b[0m\u001b[37m\u001b[0m \u001b[1m424s\u001b[0m 17ms/step - loss: 0.0449 - mae: 0.1642 - val_loss: 0.0377 - val_mae: 0.1497\n",
      "Epoch 2/8\n",
      "\u001b[1m25000/25000\u001b[0m \u001b[32m━━━━━━━━━━━━━━━━━━━━\u001b[0m\u001b[37m\u001b[0m \u001b[1m475s\u001b[0m 19ms/step - loss: 0.0363 - mae: 0.1462 - val_loss: 0.0363 - val_mae: 0.1465\n",
      "Epoch 3/8\n",
      "\u001b[1m25000/25000\u001b[0m \u001b[32m━━━━━━━━━━━━━━━━━━━━\u001b[0m\u001b[37m\u001b[0m \u001b[1m475s\u001b[0m 19ms/step - loss: 0.0340 - mae: 0.1408 - val_loss: 0.0357 - val_mae: 0.1445\n",
      "Epoch 4/8\n",
      "\u001b[1m25000/25000\u001b[0m \u001b[32m━━━━━━━━━━━━━━━━━━━━\u001b[0m\u001b[37m\u001b[0m \u001b[1m444s\u001b[0m 18ms/step - loss: 0.0326 - mae: 0.1373 - val_loss: 0.0357 - val_mae: 0.1448\n",
      "Epoch 5/8\n",
      "\u001b[1m25000/25000\u001b[0m \u001b[32m━━━━━━━━━━━━━━━━━━━━\u001b[0m\u001b[37m\u001b[0m \u001b[1m473s\u001b[0m 19ms/step - loss: 0.0314 - mae: 0.1344 - val_loss: 0.0354 - val_mae: 0.1433\n",
      "Epoch 6/8\n",
      "\u001b[1m11464/25000\u001b[0m \u001b[32m━━━━━━━━━\u001b[0m\u001b[37m━━━━━━━━━━━\u001b[0m \u001b[1m4:20\u001b[0m 19ms/step - loss: 0.0301 - mae: 0.1310"
     ]
    }
   ],
   "source": [
    "# Train Model\n",
    "\n",
    "import time\n",
    "\n",
    "start_time = time.time()\n",
    "model.fit(\n",
    "    [train_df['userId'], train_df['movieId'], train_keywords],\n",
    "    train_df['rating'],\n",
    "    validation_data=([test_df['userId'], test_df['movieId'], test_keywords], test_df['rating']),\n",
    "    batch_size=64, epochs=8, verbose=1, callbacks=[early_stop]\n",
    ")\n",
    "end_time = time.time()\n",
    "\n",
    "total_time = end_time - start_time\n",
    "\n",
    "print(\"total time = {total_time: .4f} seconds\")"
   ]
  },
  {
   "cell_type": "code",
   "execution_count": null,
   "id": "0436661c-c350-4163-91d3-24d4321b037f",
   "metadata": {},
   "outputs": [],
   "source": [
    "# Save encoders, scaler, and TF-IDF\n",
    "with open(\"../backend/user_encoder.pkl\", \"wb\") as f:\n",
    "    pickle.dump(user_encoder, f)\n",
    "with open(\"../backend/movie_encoder.pkl\", \"wb\") as f:\n",
    "    pickle.dump(movie_encoder, f)\n",
    "with open(\"../backend/scaler.pkl\", \"wb\") as f:\n",
    "    pickle.dump(scaler, f)\n",
    "with open(\"../backend/tfidf_vectorizer.pkl\", \"wb\") as f:\n",
    "    pickle.dump(tfidf_vectorizer, f)"
   ]
  },
  {
   "cell_type": "code",
   "execution_count": null,
   "id": "62edaf33-53e7-40f0-be51-a66fdda6c6e9",
   "metadata": {},
   "outputs": [],
   "source": [
    "def recommend_top_movies(user_id, top_n=5):\n",
    "    user_encoded = user_encoder.transform([user_id])[0]\n",
    "    all_movie_ids = ratings_df['movieId'].unique()\n",
    "\n",
    "    all_keywords = tfidf_vectorizer.transform(ratings_df['keywords'].astype(str)).toarray()\n",
    "\n",
    "    predictions = model.predict([np.array([user_encoded] * len(all_movie_ids)), all_movie_ids, all_keywords])\n",
    "\n",
    "    top_indices = predictions.flatten().argsort()[-top_n:][::-1]\n",
    "    recommended_movies = movie_encoder.inverse_transform(all_movie_ids[top_indices])\n",
    "    \n",
    "    return recommended_movies\n",
    "\n",
    "user_id = 0\n",
    "top_movies = recommend_top_movies(user_id)\n",
    "print(\"Recommended Movies:\", top_movies)"
   ]
  },
  {
   "cell_type": "code",
   "execution_count": null,
   "id": "e96896e6-2f70-4a05-9ef6-5ad9e739fcb0",
   "metadata": {},
   "outputs": [],
   "source": []
  },
  {
   "cell_type": "code",
   "execution_count": null,
   "id": "3079b0de-432d-49c0-b723-32f952ddba0c",
   "metadata": {},
   "outputs": [],
   "source": []
  },
  {
   "cell_type": "code",
   "execution_count": null,
   "id": "4f8bc585-89b4-49ef-baf8-70b677df4bf2",
   "metadata": {},
   "outputs": [],
   "source": []
  },
  {
   "cell_type": "code",
   "execution_count": null,
   "id": "bed336ea-8c35-4404-972a-12eaa05adcb9",
   "metadata": {},
   "outputs": [],
   "source": []
  },
  {
   "cell_type": "code",
   "execution_count": null,
   "id": "053a98de-d7dc-4b02-b237-ed3773a52b23",
   "metadata": {},
   "outputs": [],
   "source": []
  },
  {
   "cell_type": "code",
   "execution_count": null,
   "id": "3f571d4b-0757-45a1-a9ad-52c6b0689502",
   "metadata": {},
   "outputs": [],
   "source": []
  },
  {
   "cell_type": "code",
   "execution_count": null,
   "id": "ec14638a-c668-4664-8a6b-ff3687eb6f95",
   "metadata": {},
   "outputs": [],
   "source": []
  },
  {
   "cell_type": "code",
   "execution_count": null,
   "id": "68670ffd-7af0-4ff0-8146-15b1c57b2a3e",
   "metadata": {},
   "outputs": [],
   "source": []
  },
  {
   "cell_type": "code",
   "execution_count": null,
   "id": "b4f9222f-019d-4cca-91bd-2043b04f3278",
   "metadata": {},
   "outputs": [],
   "source": []
  },
  {
   "cell_type": "code",
   "execution_count": null,
   "id": "68669b74-2dd5-47fe-b1b0-a9924a92ebec",
   "metadata": {},
   "outputs": [],
   "source": []
  },
  {
   "cell_type": "code",
   "execution_count": null,
   "id": "57421b7f-6dff-4054-b5a6-27b0807a2f0e",
   "metadata": {},
   "outputs": [],
   "source": []
  },
  {
   "cell_type": "code",
   "execution_count": null,
   "id": "89dfa51e-35b3-4ad0-8742-83ea07596378",
   "metadata": {},
   "outputs": [],
   "source": []
  },
  {
   "cell_type": "code",
   "execution_count": null,
   "id": "239884a3-c79b-41a9-9685-f1d781ddb339",
   "metadata": {},
   "outputs": [],
   "source": []
  },
  {
   "cell_type": "code",
   "execution_count": null,
   "id": "95aba50b-f606-4da3-a183-380aecc464e9",
   "metadata": {},
   "outputs": [],
   "source": []
  },
  {
   "cell_type": "code",
   "execution_count": null,
   "id": "45020407-5e79-4146-8d3d-262922be8f1e",
   "metadata": {},
   "outputs": [],
   "source": []
  },
  {
   "cell_type": "code",
   "execution_count": null,
   "id": "cd6a816b-d7d5-485a-a18b-3e1f8f0ca071",
   "metadata": {},
   "outputs": [],
   "source": []
  },
  {
   "cell_type": "code",
   "execution_count": null,
   "id": "7dae396b-b96b-4997-a216-fa3d9e6a7295",
   "metadata": {},
   "outputs": [],
   "source": []
  },
  {
   "cell_type": "code",
   "execution_count": null,
   "id": "3746d651-b434-4452-a576-f0c399b4544b",
   "metadata": {},
   "outputs": [],
   "source": []
  },
  {
   "cell_type": "code",
   "execution_count": null,
   "id": "c609d4ef-5e56-4ce9-b27c-23c7417630e4",
   "metadata": {},
   "outputs": [],
   "source": [
    "# Normalization\n",
    "# ratings_df['rating'] = ratings_df['rating'] / ratings_df['rating'].max()"
   ]
  },
  {
   "cell_type": "code",
   "execution_count": null,
   "id": "5dc10d6a-51e9-4e6e-a07c-b2093e42bbcd",
   "metadata": {},
   "outputs": [],
   "source": [
    "# Encoding Categorical Data\n",
    "\n",
    "# user_encoder = LabelEncoder()\n",
    "# movie_encoder = LabelEncoder()\n",
    "\n",
    "# ratings_df['user'] = user_encoder.fit_transform(ratings_df['userId'])\n",
    "# ratings_df['movie'] = movie_encoder.fit_transform(ratings_df['movieId'])"
   ]
  },
  {
   "cell_type": "code",
   "execution_count": null,
   "id": "1a4f15ba-af83-458c-be6b-80c35bf4a7d5",
   "metadata": {},
   "outputs": [],
   "source": [
    "# Splitting data into training and testing data\n",
    "\n",
    "# train, test = train_test_split(ratings_df, test_size=0.2, random_state=42)"
   ]
  },
  {
   "cell_type": "code",
   "execution_count": null,
   "id": "88d33cfd-1052-464b-a8db-aa8ea5996c61",
   "metadata": {},
   "outputs": [],
   "source": [
    "# # Achitecture\n",
    "\n",
    "# # Constants\n",
    "# num_users = ratings_df['user'].nunique()\n",
    "# num_movies = ratings_df['movie'].nunique()\n",
    "# embedding_dim = 50\n",
    "\n",
    "# # Inputs\n",
    "# user_input = Input(shape=(1,), name='user_input')\n",
    "# movie_input = Input(shape=(1,), name='movie_input')\n",
    "\n",
    "# # Embeddings\n",
    "# user_embedding = Embedding(input_dim=num_users, output_dim=embedding_dim, name='user_embedding')(user_input)\n",
    "# movie_embedding = Embedding(input_dim=num_movies, output_dim=embedding_dim, name='movie_embedding')(movie_input)\n",
    "\n",
    "# # Flatten embeddings\n",
    "# user_vec = Flatten()(user_embedding)\n",
    "# movie_vec = Flatten()(movie_embedding)\n",
    "\n",
    "# # Concatenate user and movie vectors\n",
    "# concat = Concatenate()([user_vec, movie_vec])\n",
    "\n",
    "# # Fully connected layers\n",
    "# dense_1 = Dense(128, activation='relu')(concat)\n",
    "# dropout_1 = Dropout(0.5)(dense_1)\n",
    "# dense_2 = Dense(64, activation='relu')(dropout_1)\n",
    "# output = Dense(1, activation='sigmoid', name='output')(dense_2)  # Output in range [0, 1]\n",
    "\n",
    "# # Model\n",
    "# model = Model(inputs=[user_input, movie_input], outputs=output)\n",
    "# model.compile(optimizer='adam', loss='binary_crossentropy', metrics=['accuracy'])\n",
    "\n",
    "# model.summary()\n"
   ]
  },
  {
   "cell_type": "code",
   "execution_count": null,
   "id": "8572c9b4-5567-4c8e-8743-dc86a0240a90",
   "metadata": {},
   "outputs": [],
   "source": [
    "# # Training the model\n",
    "\n",
    "# history = model.fit(\n",
    "#     [train['user'], train['movie']],\n",
    "#     train['rating'],\n",
    "#     epochs=1,\n",
    "#     batch_size=64,\n",
    "#     validation_split=0.2\n",
    "# )"
   ]
  },
  {
   "cell_type": "code",
   "execution_count": null,
   "id": "bd170799-14c2-4916-9e25-3240e301d51e",
   "metadata": {},
   "outputs": [],
   "source": [
    "# # Generate recommendation\n",
    "\n",
    "# def recommend_movies(user_id, model, movie_ids, user_encoder, movie_encoder):\n",
    "#     user_idx = user_encoder.transform([user_id])[0]\n",
    "#     movie_indices = movie_encoder.transform(movie_ids)\n",
    "#     predictions = model.predict([np.array([user_idx] * len(movie_indices)), np.array(movie_indices)])\n",
    "#     top_movies = np.argsort(predictions[:, 0])[-10:][::-1]  # Top 10 recommendations\n",
    "#     return movie_ids[top_movies]\n",
    "\n",
    "# # Example usage\n",
    "# user_id = 1\n",
    "# movie_ids = ratings_df['movieId'].unique()\n",
    "# recommended_movies = recommend_movies(user_id, model, movie_ids, user_encoder, movie_encoder)\n",
    "# print(\"Recommended Movies:\", recommended_movies)\n"
   ]
  },
  {
   "cell_type": "code",
   "execution_count": null,
   "id": "525dc24d-21a0-4d64-98a2-2695d6e3ab94",
   "metadata": {},
   "outputs": [],
   "source": [
    "# # Evaluation\n",
    "\n",
    "# y_pred = model.predict([test['user'], test['movie']])\n",
    "# mse = mean_squared_error(test['rating'], y_pred)\n",
    "# print(f\"Test MSE: {mse}\")\n"
   ]
  },
  {
   "cell_type": "code",
   "execution_count": null,
   "id": "9f6d0372-7672-4f2f-b531-24ab076989f4",
   "metadata": {},
   "outputs": [],
   "source": []
  },
  {
   "cell_type": "code",
   "execution_count": null,
   "id": "bde8504e-6eb2-44bf-9fea-8ccacb0bee46",
   "metadata": {},
   "outputs": [],
   "source": []
  }
 ],
 "metadata": {
  "kernelspec": {
   "display_name": "Python 3 (ipykernel)",
   "language": "python",
   "name": "python3"
  },
  "language_info": {
   "codemirror_mode": {
    "name": "ipython",
    "version": 3
   },
   "file_extension": ".py",
   "mimetype": "text/x-python",
   "name": "python",
   "nbconvert_exporter": "python",
   "pygments_lexer": "ipython3",
   "version": "3.12.9"
  }
 },
 "nbformat": 4,
 "nbformat_minor": 5
}
